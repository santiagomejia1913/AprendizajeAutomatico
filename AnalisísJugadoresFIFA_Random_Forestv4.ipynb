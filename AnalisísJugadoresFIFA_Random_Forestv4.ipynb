{
  "nbformat": 4,
  "nbformat_minor": 0,
  "metadata": {
    "colab": {
      "name": "AnalisísJugadoresFIFA Random Forestv4.ipynb",
      "provenance": [],
      "collapsed_sections": []
    },
    "kernelspec": {
      "name": "python3",
      "display_name": "Python 3"
    }
  },
  "cells": [
    {
      "cell_type": "markdown",
      "metadata": {
        "id": "4ngAR0MJUA_Y",
        "colab_type": "text"
      },
      "source": [
        "# **SELECCIÓN DE ATRIBUTOS - JUGADORES DE FIFA**"
      ]
    },
    {
      "cell_type": "markdown",
      "metadata": {
        "id": "K0iTuaHzGvuY",
        "colab_type": "text"
      },
      "source": [
        "# 1. CARGA DE LOS DATOS"
      ]
    },
    {
      "cell_type": "code",
      "metadata": {
        "id": "NZ3xihMuXWKe",
        "colab_type": "code",
        "colab": {}
      },
      "source": [
        "# Cargar Librerías necesarias\n",
        "import pandas as pd\n",
        "import numpy as np\n",
        "import matplotlib.pyplot as plt\n",
        "import io\n",
        "from sklearn.model_selection import train_test_split\n",
        "from sklearn.ensemble import RandomForestClassifier\n",
        "from sklearn.model_selection import GridSearchCV"
      ],
      "execution_count": 0,
      "outputs": []
    },
    {
      "cell_type": "code",
      "metadata": {
        "id": "5MxCxP3_eEVr",
        "colab_type": "code",
        "outputId": "d2511039-eeca-4309-e485-a8c659c36aa9",
        "colab": {
          "resources": {
            "http://localhost:8080/nbextensions/google.colab/files.js": {
              "data": "Ly8gQ29weXJpZ2h0IDIwMTcgR29vZ2xlIExMQwovLwovLyBMaWNlbnNlZCB1bmRlciB0aGUgQXBhY2hlIExpY2Vuc2UsIFZlcnNpb24gMi4wICh0aGUgIkxpY2Vuc2UiKTsKLy8geW91IG1heSBub3QgdXNlIHRoaXMgZmlsZSBleGNlcHQgaW4gY29tcGxpYW5jZSB3aXRoIHRoZSBMaWNlbnNlLgovLyBZb3UgbWF5IG9idGFpbiBhIGNvcHkgb2YgdGhlIExpY2Vuc2UgYXQKLy8KLy8gICAgICBodHRwOi8vd3d3LmFwYWNoZS5vcmcvbGljZW5zZXMvTElDRU5TRS0yLjAKLy8KLy8gVW5sZXNzIHJlcXVpcmVkIGJ5IGFwcGxpY2FibGUgbGF3IG9yIGFncmVlZCB0byBpbiB3cml0aW5nLCBzb2Z0d2FyZQovLyBkaXN0cmlidXRlZCB1bmRlciB0aGUgTGljZW5zZSBpcyBkaXN0cmlidXRlZCBvbiBhbiAiQVMgSVMiIEJBU0lTLAovLyBXSVRIT1VUIFdBUlJBTlRJRVMgT1IgQ09ORElUSU9OUyBPRiBBTlkgS0lORCwgZWl0aGVyIGV4cHJlc3Mgb3IgaW1wbGllZC4KLy8gU2VlIHRoZSBMaWNlbnNlIGZvciB0aGUgc3BlY2lmaWMgbGFuZ3VhZ2UgZ292ZXJuaW5nIHBlcm1pc3Npb25zIGFuZAovLyBsaW1pdGF0aW9ucyB1bmRlciB0aGUgTGljZW5zZS4KCi8qKgogKiBAZmlsZW92ZXJ2aWV3IEhlbHBlcnMgZm9yIGdvb2dsZS5jb2xhYiBQeXRob24gbW9kdWxlLgogKi8KKGZ1bmN0aW9uKHNjb3BlKSB7CmZ1bmN0aW9uIHNwYW4odGV4dCwgc3R5bGVBdHRyaWJ1dGVzID0ge30pIHsKICBjb25zdCBlbGVtZW50ID0gZG9jdW1lbnQuY3JlYXRlRWxlbWVudCgnc3BhbicpOwogIGVsZW1lbnQudGV4dENvbnRlbnQgPSB0ZXh0OwogIGZvciAoY29uc3Qga2V5IG9mIE9iamVjdC5rZXlzKHN0eWxlQXR0cmlidXRlcykpIHsKICAgIGVsZW1lbnQuc3R5bGVba2V5XSA9IHN0eWxlQXR0cmlidXRlc1trZXldOwogIH0KICByZXR1cm4gZWxlbWVudDsKfQoKLy8gTWF4IG51bWJlciBvZiBieXRlcyB3aGljaCB3aWxsIGJlIHVwbG9hZGVkIGF0IGEgdGltZS4KY29uc3QgTUFYX1BBWUxPQURfU0laRSA9IDEwMCAqIDEwMjQ7Ci8vIE1heCBhbW91bnQgb2YgdGltZSB0byBibG9jayB3YWl0aW5nIGZvciB0aGUgdXNlci4KY29uc3QgRklMRV9DSEFOR0VfVElNRU9VVF9NUyA9IDMwICogMTAwMDsKCmZ1bmN0aW9uIF91cGxvYWRGaWxlcyhpbnB1dElkLCBvdXRwdXRJZCkgewogIGNvbnN0IHN0ZXBzID0gdXBsb2FkRmlsZXNTdGVwKGlucHV0SWQsIG91dHB1dElkKTsKICBjb25zdCBvdXRwdXRFbGVtZW50ID0gZG9jdW1lbnQuZ2V0RWxlbWVudEJ5SWQob3V0cHV0SWQpOwogIC8vIENhY2hlIHN0ZXBzIG9uIHRoZSBvdXRwdXRFbGVtZW50IHRvIG1ha2UgaXQgYXZhaWxhYmxlIGZvciB0aGUgbmV4dCBjYWxsCiAgLy8gdG8gdXBsb2FkRmlsZXNDb250aW51ZSBmcm9tIFB5dGhvbi4KICBvdXRwdXRFbGVtZW50LnN0ZXBzID0gc3RlcHM7CgogIHJldHVybiBfdXBsb2FkRmlsZXNDb250aW51ZShvdXRwdXRJZCk7Cn0KCi8vIFRoaXMgaXMgcm91Z2hseSBhbiBhc3luYyBnZW5lcmF0b3IgKG5vdCBzdXBwb3J0ZWQgaW4gdGhlIGJyb3dzZXIgeWV0KSwKLy8gd2hlcmUgdGhlcmUgYXJlIG11bHRpcGxlIGFzeW5jaHJvbm91cyBzdGVwcyBhbmQgdGhlIFB5dGhvbiBzaWRlIGlzIGdvaW5nCi8vIHRvIHBvbGwgZm9yIGNvbXBsZXRpb24gb2YgZWFjaCBzdGVwLgovLyBUaGlzIHVzZXMgYSBQcm9taXNlIHRvIGJsb2NrIHRoZSBweXRob24gc2lkZSBvbiBjb21wbGV0aW9uIG9mIGVhY2ggc3RlcCwKLy8gdGhlbiBwYXNzZXMgdGhlIHJlc3VsdCBvZiB0aGUgcHJldmlvdXMgc3RlcCBhcyB0aGUgaW5wdXQgdG8gdGhlIG5leHQgc3RlcC4KZnVuY3Rpb24gX3VwbG9hZEZpbGVzQ29udGludWUob3V0cHV0SWQpIHsKICBjb25zdCBvdXRwdXRFbGVtZW50ID0gZG9jdW1lbnQuZ2V0RWxlbWVudEJ5SWQob3V0cHV0SWQpOwogIGNvbnN0IHN0ZXBzID0gb3V0cHV0RWxlbWVudC5zdGVwczsKCiAgY29uc3QgbmV4dCA9IHN0ZXBzLm5leHQob3V0cHV0RWxlbWVudC5sYXN0UHJvbWlzZVZhbHVlKTsKICByZXR1cm4gUHJvbWlzZS5yZXNvbHZlKG5leHQudmFsdWUucHJvbWlzZSkudGhlbigodmFsdWUpID0+IHsKICAgIC8vIENhY2hlIHRoZSBsYXN0IHByb21pc2UgdmFsdWUgdG8gbWFrZSBpdCBhdmFpbGFibGUgdG8gdGhlIG5leHQKICAgIC8vIHN0ZXAgb2YgdGhlIGdlbmVyYXRvci4KICAgIG91dHB1dEVsZW1lbnQubGFzdFByb21pc2VWYWx1ZSA9IHZhbHVlOwogICAgcmV0dXJuIG5leHQudmFsdWUucmVzcG9uc2U7CiAgfSk7Cn0KCi8qKgogKiBHZW5lcmF0b3IgZnVuY3Rpb24gd2hpY2ggaXMgY2FsbGVkIGJldHdlZW4gZWFjaCBhc3luYyBzdGVwIG9mIHRoZSB1cGxvYWQKICogcHJvY2Vzcy4KICogQHBhcmFtIHtzdHJpbmd9IGlucHV0SWQgRWxlbWVudCBJRCBvZiB0aGUgaW5wdXQgZmlsZSBwaWNrZXIgZWxlbWVudC4KICogQHBhcmFtIHtzdHJpbmd9IG91dHB1dElkIEVsZW1lbnQgSUQgb2YgdGhlIG91dHB1dCBkaXNwbGF5LgogKiBAcmV0dXJuIHshSXRlcmFibGU8IU9iamVjdD59IEl0ZXJhYmxlIG9mIG5leHQgc3RlcHMuCiAqLwpmdW5jdGlvbiogdXBsb2FkRmlsZXNTdGVwKGlucHV0SWQsIG91dHB1dElkKSB7CiAgY29uc3QgaW5wdXRFbGVtZW50ID0gZG9jdW1lbnQuZ2V0RWxlbWVudEJ5SWQoaW5wdXRJZCk7CiAgaW5wdXRFbGVtZW50LmRpc2FibGVkID0gZmFsc2U7CgogIGNvbnN0IG91dHB1dEVsZW1lbnQgPSBkb2N1bWVudC5nZXRFbGVtZW50QnlJZChvdXRwdXRJZCk7CiAgb3V0cHV0RWxlbWVudC5pbm5lckhUTUwgPSAnJzsKCiAgY29uc3QgcGlja2VkUHJvbWlzZSA9IG5ldyBQcm9taXNlKChyZXNvbHZlKSA9PiB7CiAgICBpbnB1dEVsZW1lbnQuYWRkRXZlbnRMaXN0ZW5lcignY2hhbmdlJywgKGUpID0+IHsKICAgICAgcmVzb2x2ZShlLnRhcmdldC5maWxlcyk7CiAgICB9KTsKICB9KTsKCiAgY29uc3QgY2FuY2VsID0gZG9jdW1lbnQuY3JlYXRlRWxlbWVudCgnYnV0dG9uJyk7CiAgaW5wdXRFbGVtZW50LnBhcmVudEVsZW1lbnQuYXBwZW5kQ2hpbGQoY2FuY2VsKTsKICBjYW5jZWwudGV4dENvbnRlbnQgPSAnQ2FuY2VsIHVwbG9hZCc7CiAgY29uc3QgY2FuY2VsUHJvbWlzZSA9IG5ldyBQcm9taXNlKChyZXNvbHZlKSA9PiB7CiAgICBjYW5jZWwub25jbGljayA9ICgpID0+IHsKICAgICAgcmVzb2x2ZShudWxsKTsKICAgIH07CiAgfSk7CgogIC8vIENhbmNlbCB1cGxvYWQgaWYgdXNlciBoYXNuJ3QgcGlja2VkIGFueXRoaW5nIGluIHRpbWVvdXQuCiAgY29uc3QgdGltZW91dFByb21pc2UgPSBuZXcgUHJvbWlzZSgocmVzb2x2ZSkgPT4gewogICAgc2V0VGltZW91dCgoKSA9PiB7CiAgICAgIHJlc29sdmUobnVsbCk7CiAgICB9LCBGSUxFX0NIQU5HRV9USU1FT1VUX01TKTsKICB9KTsKCiAgLy8gV2FpdCBmb3IgdGhlIHVzZXIgdG8gcGljayB0aGUgZmlsZXMuCiAgY29uc3QgZmlsZXMgPSB5aWVsZCB7CiAgICBwcm9taXNlOiBQcm9taXNlLnJhY2UoW3BpY2tlZFByb21pc2UsIHRpbWVvdXRQcm9taXNlLCBjYW5jZWxQcm9taXNlXSksCiAgICByZXNwb25zZTogewogICAgICBhY3Rpb246ICdzdGFydGluZycsCiAgICB9CiAgfTsKCiAgaWYgKCFmaWxlcykgewogICAgcmV0dXJuIHsKICAgICAgcmVzcG9uc2U6IHsKICAgICAgICBhY3Rpb246ICdjb21wbGV0ZScsCiAgICAgIH0KICAgIH07CiAgfQoKICBjYW5jZWwucmVtb3ZlKCk7CgogIC8vIERpc2FibGUgdGhlIGlucHV0IGVsZW1lbnQgc2luY2UgZnVydGhlciBwaWNrcyBhcmUgbm90IGFsbG93ZWQuCiAgaW5wdXRFbGVtZW50LmRpc2FibGVkID0gdHJ1ZTsKCiAgZm9yIChjb25zdCBmaWxlIG9mIGZpbGVzKSB7CiAgICBjb25zdCBsaSA9IGRvY3VtZW50LmNyZWF0ZUVsZW1lbnQoJ2xpJyk7CiAgICBsaS5hcHBlbmQoc3BhbihmaWxlLm5hbWUsIHtmb250V2VpZ2h0OiAnYm9sZCd9KSk7CiAgICBsaS5hcHBlbmQoc3BhbigKICAgICAgICBgKCR7ZmlsZS50eXBlIHx8ICduL2EnfSkgLSAke2ZpbGUuc2l6ZX0gYnl0ZXMsIGAgKwogICAgICAgIGBsYXN0IG1vZGlmaWVkOiAkewogICAgICAgICAgICBmaWxlLmxhc3RNb2RpZmllZERhdGUgPyBmaWxlLmxhc3RNb2RpZmllZERhdGUudG9Mb2NhbGVEYXRlU3RyaW5nKCkgOgogICAgICAgICAgICAgICAgICAgICAgICAgICAgICAgICAgICAnbi9hJ30gLSBgKSk7CiAgICBjb25zdCBwZXJjZW50ID0gc3BhbignMCUgZG9uZScpOwogICAgbGkuYXBwZW5kQ2hpbGQocGVyY2VudCk7CgogICAgb3V0cHV0RWxlbWVudC5hcHBlbmRDaGlsZChsaSk7CgogICAgY29uc3QgZmlsZURhdGFQcm9taXNlID0gbmV3IFByb21pc2UoKHJlc29sdmUpID0+IHsKICAgICAgY29uc3QgcmVhZGVyID0gbmV3IEZpbGVSZWFkZXIoKTsKICAgICAgcmVhZGVyLm9ubG9hZCA9IChlKSA9PiB7CiAgICAgICAgcmVzb2x2ZShlLnRhcmdldC5yZXN1bHQpOwogICAgICB9OwogICAgICByZWFkZXIucmVhZEFzQXJyYXlCdWZmZXIoZmlsZSk7CiAgICB9KTsKICAgIC8vIFdhaXQgZm9yIHRoZSBkYXRhIHRvIGJlIHJlYWR5LgogICAgbGV0IGZpbGVEYXRhID0geWllbGQgewogICAgICBwcm9taXNlOiBmaWxlRGF0YVByb21pc2UsCiAgICAgIHJlc3BvbnNlOiB7CiAgICAgICAgYWN0aW9uOiAnY29udGludWUnLAogICAgICB9CiAgICB9OwoKICAgIC8vIFVzZSBhIGNodW5rZWQgc2VuZGluZyB0byBhdm9pZCBtZXNzYWdlIHNpemUgbGltaXRzLiBTZWUgYi82MjExNTY2MC4KICAgIGxldCBwb3NpdGlvbiA9IDA7CiAgICB3aGlsZSAocG9zaXRpb24gPCBmaWxlRGF0YS5ieXRlTGVuZ3RoKSB7CiAgICAgIGNvbnN0IGxlbmd0aCA9IE1hdGgubWluKGZpbGVEYXRhLmJ5dGVMZW5ndGggLSBwb3NpdGlvbiwgTUFYX1BBWUxPQURfU0laRSk7CiAgICAgIGNvbnN0IGNodW5rID0gbmV3IFVpbnQ4QXJyYXkoZmlsZURhdGEsIHBvc2l0aW9uLCBsZW5ndGgpOwogICAgICBwb3NpdGlvbiArPSBsZW5ndGg7CgogICAgICBjb25zdCBiYXNlNjQgPSBidG9hKFN0cmluZy5mcm9tQ2hhckNvZGUuYXBwbHkobnVsbCwgY2h1bmspKTsKICAgICAgeWllbGQgewogICAgICAgIHJlc3BvbnNlOiB7CiAgICAgICAgICBhY3Rpb246ICdhcHBlbmQnLAogICAgICAgICAgZmlsZTogZmlsZS5uYW1lLAogICAgICAgICAgZGF0YTogYmFzZTY0LAogICAgICAgIH0sCiAgICAgIH07CiAgICAgIHBlcmNlbnQudGV4dENvbnRlbnQgPQogICAgICAgICAgYCR7TWF0aC5yb3VuZCgocG9zaXRpb24gLyBmaWxlRGF0YS5ieXRlTGVuZ3RoKSAqIDEwMCl9JSBkb25lYDsKICAgIH0KICB9CgogIC8vIEFsbCBkb25lLgogIHlpZWxkIHsKICAgIHJlc3BvbnNlOiB7CiAgICAgIGFjdGlvbjogJ2NvbXBsZXRlJywKICAgIH0KICB9Owp9CgpzY29wZS5nb29nbGUgPSBzY29wZS5nb29nbGUgfHwge307CnNjb3BlLmdvb2dsZS5jb2xhYiA9IHNjb3BlLmdvb2dsZS5jb2xhYiB8fCB7fTsKc2NvcGUuZ29vZ2xlLmNvbGFiLl9maWxlcyA9IHsKICBfdXBsb2FkRmlsZXMsCiAgX3VwbG9hZEZpbGVzQ29udGludWUsCn07Cn0pKHNlbGYpOwo=",
              "ok": true,
              "headers": [
                [
                  "content-type",
                  "application/javascript"
                ]
              ],
              "status": 200,
              "status_text": ""
            }
          },
          "base_uri": "https://localhost:8080/",
          "height": 75
        }
      },
      "source": [
        "# Carga de archivo de datos\n",
        "from google.colab import files\n",
        "uploaded = files.upload()"
      ],
      "execution_count": 0,
      "outputs": [
        {
          "output_type": "display_data",
          "data": {
            "text/html": [
              "\n",
              "     <input type=\"file\" id=\"files-ef39bc39-38c8-4106-af38-bd38cc53be9a\" name=\"files[]\" multiple disabled />\n",
              "     <output id=\"result-ef39bc39-38c8-4106-af38-bd38cc53be9a\">\n",
              "      Upload widget is only available when the cell has been executed in the\n",
              "      current browser session. Please rerun this cell to enable.\n",
              "      </output>\n",
              "      <script src=\"/nbextensions/google.colab/files.js\"></script> "
            ],
            "text/plain": [
              "<IPython.core.display.HTML object>"
            ]
          },
          "metadata": {
            "tags": []
          }
        },
        {
          "output_type": "stream",
          "text": [
            "Saving data.xlsx to data.xlsx\n"
          ],
          "name": "stdout"
        }
      ]
    },
    {
      "cell_type": "code",
      "metadata": {
        "id": "OcPsRMtm0ssN",
        "colab_type": "code",
        "colab": {}
      },
      "source": [
        "# Crear dataframe con pandas\n",
        "\n",
        "dfp1 = pd.read_excel(io.BytesIO(uploaded['data.xlsx']), encoding= 'unicode_escape')\n",
        "dfp2 = pd.read_excel(io.BytesIO(uploaded['data.xlsx']), encoding= 'unicode_escape')\n",
        "dfp3 = pd.read_excel(io.BytesIO(uploaded['data.xlsx']), encoding= 'unicode_escape')\n"
      ],
      "execution_count": 0,
      "outputs": []
    },
    {
      "cell_type": "markdown",
      "metadata": {
        "colab_type": "text",
        "id": "3nIMhgbHNH4d"
      },
      "source": [
        "# 2. PREPROCESAMIENTO DE LA INFORMACIÓN"
      ]
    },
    {
      "cell_type": "code",
      "metadata": {
        "id": "0mU7l33e0019",
        "colab_type": "code",
        "outputId": "ea082a04-eb12-438a-f21f-3663fe1c7ade",
        "colab": {
          "base_uri": "https://localhost:8080/",
          "height": 235
        }
      },
      "source": [
        "# Identificar valores nulos\n",
        "dfp1.isnull().sum()\n",
        "dfp2.isnull().sum()\n",
        "dfp3.isnull().sum()"
      ],
      "execution_count": 0,
      "outputs": [
        {
          "output_type": "execute_result",
          "data": {
            "text/plain": [
              "Cons                 0\n",
              "ID                   0\n",
              "Name                 0\n",
              "Age                  0\n",
              "Photo                0\n",
              "                  ... \n",
              "GKHandling          76\n",
              "GKKicking           76\n",
              "GKPositioning       76\n",
              "GKReflexes          76\n",
              "Release Clause    1591\n",
              "Length: 89, dtype: int64"
            ]
          },
          "metadata": {
            "tags": []
          },
          "execution_count": 154
        }
      ]
    },
    {
      "cell_type": "code",
      "metadata": {
        "id": "VQaSitNgBzun",
        "colab_type": "code",
        "outputId": "acfc3d8f-48fb-42d2-9e81-d1bc7987d2e0",
        "colab": {
          "base_uri": "https://localhost:8080/",
          "height": 35
        }
      },
      "source": [
        "# Borrar registros N/A\n",
        "dfp1 = dfp1.dropna(subset=['GKHandling']) \n",
        "dfp2 = dfp2.dropna(subset=['GKHandling']) \n",
        "dfp3 = dfp3.dropna(subset=['GKHandling']) \n",
        "# Borrar todos jugadores diferentes de GK\n",
        "#df=df[df.Position !=\"GK\"]\n",
        "\n",
        "# Borrar duplicados\n",
        "#df.drop_duplicates(inplace=True)\n",
        "# Borrar filas vacías de posiciones\n",
        "#df=df.dropna(subset=['Position'])#Observación: En la variable Release Clause no se van a eliminar sus filas vacias dado que ésta variable no va ser\n",
        "#tenida en cuenta, de esta forma se evita perder datos e información para el modelo.\n",
        "#df.isnull().sum()\n",
        "dfp1.shape"
      ],
      "execution_count": 0,
      "outputs": [
        {
          "output_type": "execute_result",
          "data": {
            "text/plain": [
              "(18131, 89)"
            ]
          },
          "metadata": {
            "tags": []
          },
          "execution_count": 155
        }
      ]
    },
    {
      "cell_type": "code",
      "metadata": {
        "id": "8sz3PX3M1P2k",
        "colab_type": "code",
        "outputId": "aac895e7-e82f-473c-c26e-28b10eadcce6",
        "colab": {
          "base_uri": "https://localhost:8080/",
          "height": 385
        }
      },
      "source": [
        "dfp1.head() #Para visualizar datos en el Dataframe"
      ],
      "execution_count": 0,
      "outputs": [
        {
          "output_type": "execute_result",
          "data": {
            "text/html": [
              "<div>\n",
              "<style scoped>\n",
              "    .dataframe tbody tr th:only-of-type {\n",
              "        vertical-align: middle;\n",
              "    }\n",
              "\n",
              "    .dataframe tbody tr th {\n",
              "        vertical-align: top;\n",
              "    }\n",
              "\n",
              "    .dataframe thead th {\n",
              "        text-align: right;\n",
              "    }\n",
              "</style>\n",
              "<table border=\"1\" class=\"dataframe\">\n",
              "  <thead>\n",
              "    <tr style=\"text-align: right;\">\n",
              "      <th></th>\n",
              "      <th>Cons</th>\n",
              "      <th>ID</th>\n",
              "      <th>Name</th>\n",
              "      <th>Age</th>\n",
              "      <th>Photo</th>\n",
              "      <th>Nationality</th>\n",
              "      <th>Flag</th>\n",
              "      <th>Overall</th>\n",
              "      <th>Potential</th>\n",
              "      <th>Club</th>\n",
              "      <th>Club Logo</th>\n",
              "      <th>Value</th>\n",
              "      <th>Wage</th>\n",
              "      <th>Special</th>\n",
              "      <th>Preferred Foot</th>\n",
              "      <th>International Reputation</th>\n",
              "      <th>Weak Foot</th>\n",
              "      <th>Skill Moves</th>\n",
              "      <th>Work Rate</th>\n",
              "      <th>Body Type</th>\n",
              "      <th>Real Face</th>\n",
              "      <th>Position</th>\n",
              "      <th>Jersey Number</th>\n",
              "      <th>Joined</th>\n",
              "      <th>Loaned From</th>\n",
              "      <th>Contract Valid Until</th>\n",
              "      <th>Height</th>\n",
              "      <th>Weight</th>\n",
              "      <th>LS</th>\n",
              "      <th>ST</th>\n",
              "      <th>RS</th>\n",
              "      <th>LW</th>\n",
              "      <th>LF</th>\n",
              "      <th>CF</th>\n",
              "      <th>RF</th>\n",
              "      <th>RW</th>\n",
              "      <th>LAM</th>\n",
              "      <th>CAM</th>\n",
              "      <th>RAM</th>\n",
              "      <th>LM</th>\n",
              "      <th>...</th>\n",
              "      <th>LB</th>\n",
              "      <th>LCB</th>\n",
              "      <th>CB</th>\n",
              "      <th>RCB</th>\n",
              "      <th>RB</th>\n",
              "      <th>Crossing</th>\n",
              "      <th>Finishing</th>\n",
              "      <th>HeadingAccuracy</th>\n",
              "      <th>ShortPassing</th>\n",
              "      <th>Volleys</th>\n",
              "      <th>Dribbling</th>\n",
              "      <th>Curve</th>\n",
              "      <th>FKAccuracy</th>\n",
              "      <th>LongPassing</th>\n",
              "      <th>BallControl</th>\n",
              "      <th>Acceleration</th>\n",
              "      <th>SprintSpeed</th>\n",
              "      <th>Agility</th>\n",
              "      <th>Reactions</th>\n",
              "      <th>Balance</th>\n",
              "      <th>ShotPower</th>\n",
              "      <th>Jumping</th>\n",
              "      <th>Stamina</th>\n",
              "      <th>Strength</th>\n",
              "      <th>LongShots</th>\n",
              "      <th>Aggression</th>\n",
              "      <th>Interceptions</th>\n",
              "      <th>Positioning</th>\n",
              "      <th>Vision</th>\n",
              "      <th>Penalties</th>\n",
              "      <th>Composure</th>\n",
              "      <th>Marking</th>\n",
              "      <th>StandingTackle</th>\n",
              "      <th>SlidingTackle</th>\n",
              "      <th>GKDiving</th>\n",
              "      <th>GKHandling</th>\n",
              "      <th>GKKicking</th>\n",
              "      <th>GKPositioning</th>\n",
              "      <th>GKReflexes</th>\n",
              "      <th>Release Clause</th>\n",
              "    </tr>\n",
              "  </thead>\n",
              "  <tbody>\n",
              "    <tr>\n",
              "      <th>0</th>\n",
              "      <td>0</td>\n",
              "      <td>158023</td>\n",
              "      <td>L. Messi</td>\n",
              "      <td>31</td>\n",
              "      <td>https://cdn.sofifa.org/players/4/19/158023.png</td>\n",
              "      <td>Argentina</td>\n",
              "      <td>https://cdn.sofifa.org/flags/52.png</td>\n",
              "      <td>94</td>\n",
              "      <td>94</td>\n",
              "      <td>FC Barcelona</td>\n",
              "      <td>https://cdn.sofifa.org/teams/2/light/241.png</td>\n",
              "      <td>?110.5M</td>\n",
              "      <td>?565K</td>\n",
              "      <td>2202.0</td>\n",
              "      <td>Left</td>\n",
              "      <td>5.0</td>\n",
              "      <td>4.0</td>\n",
              "      <td>4.0</td>\n",
              "      <td>Medium/ Medium</td>\n",
              "      <td>Messi</td>\n",
              "      <td>Yes</td>\n",
              "      <td>RF</td>\n",
              "      <td>10.0</td>\n",
              "      <td>Jul 1, 2004</td>\n",
              "      <td>NaN</td>\n",
              "      <td>2021</td>\n",
              "      <td>5'7</td>\n",
              "      <td>159lbs</td>\n",
              "      <td>88+2</td>\n",
              "      <td>88+2</td>\n",
              "      <td>88+2</td>\n",
              "      <td>92+2</td>\n",
              "      <td>93+2</td>\n",
              "      <td>93+2</td>\n",
              "      <td>93+2</td>\n",
              "      <td>92+2</td>\n",
              "      <td>93+2</td>\n",
              "      <td>93+2</td>\n",
              "      <td>93+2</td>\n",
              "      <td>91+2</td>\n",
              "      <td>...</td>\n",
              "      <td>59+2</td>\n",
              "      <td>47+2</td>\n",
              "      <td>47+2</td>\n",
              "      <td>47+2</td>\n",
              "      <td>59+2</td>\n",
              "      <td>84.0</td>\n",
              "      <td>95.0</td>\n",
              "      <td>70.0</td>\n",
              "      <td>90.0</td>\n",
              "      <td>86.0</td>\n",
              "      <td>97.0</td>\n",
              "      <td>93.0</td>\n",
              "      <td>94.0</td>\n",
              "      <td>87.0</td>\n",
              "      <td>96.0</td>\n",
              "      <td>91.0</td>\n",
              "      <td>86.0</td>\n",
              "      <td>91.0</td>\n",
              "      <td>95.0</td>\n",
              "      <td>95.0</td>\n",
              "      <td>85.0</td>\n",
              "      <td>68.0</td>\n",
              "      <td>72.0</td>\n",
              "      <td>59.0</td>\n",
              "      <td>94.0</td>\n",
              "      <td>48.0</td>\n",
              "      <td>22.0</td>\n",
              "      <td>94.0</td>\n",
              "      <td>94.0</td>\n",
              "      <td>75.0</td>\n",
              "      <td>96.0</td>\n",
              "      <td>33.0</td>\n",
              "      <td>28.0</td>\n",
              "      <td>26.0</td>\n",
              "      <td>6.0</td>\n",
              "      <td>11.0</td>\n",
              "      <td>15.0</td>\n",
              "      <td>14.0</td>\n",
              "      <td>8.0</td>\n",
              "      <td>?226.5M</td>\n",
              "    </tr>\n",
              "    <tr>\n",
              "      <th>1</th>\n",
              "      <td>1</td>\n",
              "      <td>20801</td>\n",
              "      <td>Cristiano Ronaldo</td>\n",
              "      <td>33</td>\n",
              "      <td>https://cdn.sofifa.org/players/4/19/20801.png</td>\n",
              "      <td>Portugal</td>\n",
              "      <td>https://cdn.sofifa.org/flags/38.png</td>\n",
              "      <td>94</td>\n",
              "      <td>94</td>\n",
              "      <td>Juventus</td>\n",
              "      <td>https://cdn.sofifa.org/teams/2/light/45.png</td>\n",
              "      <td>?77M</td>\n",
              "      <td>?405K</td>\n",
              "      <td>2228.0</td>\n",
              "      <td>Right</td>\n",
              "      <td>5.0</td>\n",
              "      <td>4.0</td>\n",
              "      <td>5.0</td>\n",
              "      <td>High/ Low</td>\n",
              "      <td>C. Ronaldo</td>\n",
              "      <td>Yes</td>\n",
              "      <td>ST</td>\n",
              "      <td>7.0</td>\n",
              "      <td>Jul 10, 2018</td>\n",
              "      <td>NaN</td>\n",
              "      <td>2022</td>\n",
              "      <td>6'2</td>\n",
              "      <td>183lbs</td>\n",
              "      <td>91+3</td>\n",
              "      <td>91+3</td>\n",
              "      <td>91+3</td>\n",
              "      <td>89+3</td>\n",
              "      <td>90+3</td>\n",
              "      <td>90+3</td>\n",
              "      <td>90+3</td>\n",
              "      <td>89+3</td>\n",
              "      <td>88+3</td>\n",
              "      <td>88+3</td>\n",
              "      <td>88+3</td>\n",
              "      <td>88+3</td>\n",
              "      <td>...</td>\n",
              "      <td>61+3</td>\n",
              "      <td>53+3</td>\n",
              "      <td>53+3</td>\n",
              "      <td>53+3</td>\n",
              "      <td>61+3</td>\n",
              "      <td>84.0</td>\n",
              "      <td>94.0</td>\n",
              "      <td>89.0</td>\n",
              "      <td>81.0</td>\n",
              "      <td>87.0</td>\n",
              "      <td>88.0</td>\n",
              "      <td>81.0</td>\n",
              "      <td>76.0</td>\n",
              "      <td>77.0</td>\n",
              "      <td>94.0</td>\n",
              "      <td>89.0</td>\n",
              "      <td>91.0</td>\n",
              "      <td>87.0</td>\n",
              "      <td>96.0</td>\n",
              "      <td>70.0</td>\n",
              "      <td>95.0</td>\n",
              "      <td>95.0</td>\n",
              "      <td>88.0</td>\n",
              "      <td>79.0</td>\n",
              "      <td>93.0</td>\n",
              "      <td>63.0</td>\n",
              "      <td>29.0</td>\n",
              "      <td>95.0</td>\n",
              "      <td>82.0</td>\n",
              "      <td>85.0</td>\n",
              "      <td>95.0</td>\n",
              "      <td>28.0</td>\n",
              "      <td>31.0</td>\n",
              "      <td>23.0</td>\n",
              "      <td>7.0</td>\n",
              "      <td>11.0</td>\n",
              "      <td>15.0</td>\n",
              "      <td>14.0</td>\n",
              "      <td>11.0</td>\n",
              "      <td>?127.1M</td>\n",
              "    </tr>\n",
              "    <tr>\n",
              "      <th>2</th>\n",
              "      <td>2</td>\n",
              "      <td>190871</td>\n",
              "      <td>Neymar Jr</td>\n",
              "      <td>26</td>\n",
              "      <td>https://cdn.sofifa.org/players/4/19/190871.png</td>\n",
              "      <td>Brazil</td>\n",
              "      <td>https://cdn.sofifa.org/flags/54.png</td>\n",
              "      <td>92</td>\n",
              "      <td>93</td>\n",
              "      <td>Paris Saint-Germain</td>\n",
              "      <td>https://cdn.sofifa.org/teams/2/light/73.png</td>\n",
              "      <td>?118.5M</td>\n",
              "      <td>?290K</td>\n",
              "      <td>2143.0</td>\n",
              "      <td>Right</td>\n",
              "      <td>5.0</td>\n",
              "      <td>5.0</td>\n",
              "      <td>5.0</td>\n",
              "      <td>High/ Medium</td>\n",
              "      <td>Neymar</td>\n",
              "      <td>Yes</td>\n",
              "      <td>LW</td>\n",
              "      <td>10.0</td>\n",
              "      <td>Aug 3, 2017</td>\n",
              "      <td>NaN</td>\n",
              "      <td>2022</td>\n",
              "      <td>5'9</td>\n",
              "      <td>150lbs</td>\n",
              "      <td>84+3</td>\n",
              "      <td>84+3</td>\n",
              "      <td>84+3</td>\n",
              "      <td>89+3</td>\n",
              "      <td>89+3</td>\n",
              "      <td>89+3</td>\n",
              "      <td>89+3</td>\n",
              "      <td>89+3</td>\n",
              "      <td>89+3</td>\n",
              "      <td>89+3</td>\n",
              "      <td>89+3</td>\n",
              "      <td>88+3</td>\n",
              "      <td>...</td>\n",
              "      <td>60+3</td>\n",
              "      <td>47+3</td>\n",
              "      <td>47+3</td>\n",
              "      <td>47+3</td>\n",
              "      <td>60+3</td>\n",
              "      <td>79.0</td>\n",
              "      <td>87.0</td>\n",
              "      <td>62.0</td>\n",
              "      <td>84.0</td>\n",
              "      <td>84.0</td>\n",
              "      <td>96.0</td>\n",
              "      <td>88.0</td>\n",
              "      <td>87.0</td>\n",
              "      <td>78.0</td>\n",
              "      <td>95.0</td>\n",
              "      <td>94.0</td>\n",
              "      <td>90.0</td>\n",
              "      <td>96.0</td>\n",
              "      <td>94.0</td>\n",
              "      <td>84.0</td>\n",
              "      <td>80.0</td>\n",
              "      <td>61.0</td>\n",
              "      <td>81.0</td>\n",
              "      <td>49.0</td>\n",
              "      <td>82.0</td>\n",
              "      <td>56.0</td>\n",
              "      <td>36.0</td>\n",
              "      <td>89.0</td>\n",
              "      <td>87.0</td>\n",
              "      <td>81.0</td>\n",
              "      <td>94.0</td>\n",
              "      <td>27.0</td>\n",
              "      <td>24.0</td>\n",
              "      <td>33.0</td>\n",
              "      <td>9.0</td>\n",
              "      <td>9.0</td>\n",
              "      <td>15.0</td>\n",
              "      <td>15.0</td>\n",
              "      <td>11.0</td>\n",
              "      <td>?228.1M</td>\n",
              "    </tr>\n",
              "    <tr>\n",
              "      <th>3</th>\n",
              "      <td>3</td>\n",
              "      <td>193080</td>\n",
              "      <td>De Gea</td>\n",
              "      <td>27</td>\n",
              "      <td>https://cdn.sofifa.org/players/4/19/193080.png</td>\n",
              "      <td>Spain</td>\n",
              "      <td>https://cdn.sofifa.org/flags/45.png</td>\n",
              "      <td>91</td>\n",
              "      <td>93</td>\n",
              "      <td>Manchester United</td>\n",
              "      <td>https://cdn.sofifa.org/teams/2/light/11.png</td>\n",
              "      <td>?72M</td>\n",
              "      <td>?260K</td>\n",
              "      <td>1471.0</td>\n",
              "      <td>Right</td>\n",
              "      <td>4.0</td>\n",
              "      <td>3.0</td>\n",
              "      <td>1.0</td>\n",
              "      <td>Medium/ Medium</td>\n",
              "      <td>Lean</td>\n",
              "      <td>Yes</td>\n",
              "      <td>GK</td>\n",
              "      <td>1.0</td>\n",
              "      <td>Jul 1, 2011</td>\n",
              "      <td>NaN</td>\n",
              "      <td>2020</td>\n",
              "      <td>6'4</td>\n",
              "      <td>168lbs</td>\n",
              "      <td>NaN</td>\n",
              "      <td>NaN</td>\n",
              "      <td>NaN</td>\n",
              "      <td>NaN</td>\n",
              "      <td>NaN</td>\n",
              "      <td>NaN</td>\n",
              "      <td>NaN</td>\n",
              "      <td>NaN</td>\n",
              "      <td>NaN</td>\n",
              "      <td>NaN</td>\n",
              "      <td>NaN</td>\n",
              "      <td>NaN</td>\n",
              "      <td>...</td>\n",
              "      <td>NaN</td>\n",
              "      <td>NaN</td>\n",
              "      <td>NaN</td>\n",
              "      <td>NaN</td>\n",
              "      <td>NaN</td>\n",
              "      <td>17.0</td>\n",
              "      <td>13.0</td>\n",
              "      <td>21.0</td>\n",
              "      <td>50.0</td>\n",
              "      <td>13.0</td>\n",
              "      <td>18.0</td>\n",
              "      <td>21.0</td>\n",
              "      <td>19.0</td>\n",
              "      <td>51.0</td>\n",
              "      <td>42.0</td>\n",
              "      <td>57.0</td>\n",
              "      <td>58.0</td>\n",
              "      <td>60.0</td>\n",
              "      <td>90.0</td>\n",
              "      <td>43.0</td>\n",
              "      <td>31.0</td>\n",
              "      <td>67.0</td>\n",
              "      <td>43.0</td>\n",
              "      <td>64.0</td>\n",
              "      <td>12.0</td>\n",
              "      <td>38.0</td>\n",
              "      <td>30.0</td>\n",
              "      <td>12.0</td>\n",
              "      <td>68.0</td>\n",
              "      <td>40.0</td>\n",
              "      <td>68.0</td>\n",
              "      <td>15.0</td>\n",
              "      <td>21.0</td>\n",
              "      <td>13.0</td>\n",
              "      <td>90.0</td>\n",
              "      <td>85.0</td>\n",
              "      <td>87.0</td>\n",
              "      <td>88.0</td>\n",
              "      <td>94.0</td>\n",
              "      <td>?138.6M</td>\n",
              "    </tr>\n",
              "    <tr>\n",
              "      <th>4</th>\n",
              "      <td>4</td>\n",
              "      <td>192985</td>\n",
              "      <td>K. De Bruyne</td>\n",
              "      <td>27</td>\n",
              "      <td>https://cdn.sofifa.org/players/4/19/192985.png</td>\n",
              "      <td>Belgium</td>\n",
              "      <td>https://cdn.sofifa.org/flags/7.png</td>\n",
              "      <td>91</td>\n",
              "      <td>92</td>\n",
              "      <td>Manchester City</td>\n",
              "      <td>https://cdn.sofifa.org/teams/2/light/10.png</td>\n",
              "      <td>?102M</td>\n",
              "      <td>?355K</td>\n",
              "      <td>2281.0</td>\n",
              "      <td>Right</td>\n",
              "      <td>4.0</td>\n",
              "      <td>5.0</td>\n",
              "      <td>4.0</td>\n",
              "      <td>High/ High</td>\n",
              "      <td>Normal</td>\n",
              "      <td>Yes</td>\n",
              "      <td>RCM</td>\n",
              "      <td>7.0</td>\n",
              "      <td>Aug 30, 2015</td>\n",
              "      <td>NaN</td>\n",
              "      <td>2023</td>\n",
              "      <td>5'11</td>\n",
              "      <td>154lbs</td>\n",
              "      <td>82+3</td>\n",
              "      <td>82+3</td>\n",
              "      <td>82+3</td>\n",
              "      <td>87+3</td>\n",
              "      <td>87+3</td>\n",
              "      <td>87+3</td>\n",
              "      <td>87+3</td>\n",
              "      <td>87+3</td>\n",
              "      <td>88+3</td>\n",
              "      <td>88+3</td>\n",
              "      <td>88+3</td>\n",
              "      <td>88+3</td>\n",
              "      <td>...</td>\n",
              "      <td>73+3</td>\n",
              "      <td>66+3</td>\n",
              "      <td>66+3</td>\n",
              "      <td>66+3</td>\n",
              "      <td>73+3</td>\n",
              "      <td>93.0</td>\n",
              "      <td>82.0</td>\n",
              "      <td>55.0</td>\n",
              "      <td>92.0</td>\n",
              "      <td>82.0</td>\n",
              "      <td>86.0</td>\n",
              "      <td>85.0</td>\n",
              "      <td>83.0</td>\n",
              "      <td>91.0</td>\n",
              "      <td>91.0</td>\n",
              "      <td>78.0</td>\n",
              "      <td>76.0</td>\n",
              "      <td>79.0</td>\n",
              "      <td>91.0</td>\n",
              "      <td>77.0</td>\n",
              "      <td>91.0</td>\n",
              "      <td>63.0</td>\n",
              "      <td>90.0</td>\n",
              "      <td>75.0</td>\n",
              "      <td>91.0</td>\n",
              "      <td>76.0</td>\n",
              "      <td>61.0</td>\n",
              "      <td>87.0</td>\n",
              "      <td>94.0</td>\n",
              "      <td>79.0</td>\n",
              "      <td>88.0</td>\n",
              "      <td>68.0</td>\n",
              "      <td>58.0</td>\n",
              "      <td>51.0</td>\n",
              "      <td>15.0</td>\n",
              "      <td>13.0</td>\n",
              "      <td>5.0</td>\n",
              "      <td>10.0</td>\n",
              "      <td>13.0</td>\n",
              "      <td>?196.4M</td>\n",
              "    </tr>\n",
              "  </tbody>\n",
              "</table>\n",
              "<p>5 rows × 89 columns</p>\n",
              "</div>"
            ],
            "text/plain": [
              "   Cons      ID               Name  ...  GKPositioning GKReflexes Release Clause\n",
              "0     0  158023           L. Messi  ...           14.0        8.0        ?226.5M\n",
              "1     1   20801  Cristiano Ronaldo  ...           14.0       11.0        ?127.1M\n",
              "2     2  190871          Neymar Jr  ...           15.0       11.0        ?228.1M\n",
              "3     3  193080             De Gea  ...           88.0       94.0        ?138.6M\n",
              "4     4  192985       K. De Bruyne  ...           10.0       13.0        ?196.4M\n",
              "\n",
              "[5 rows x 89 columns]"
            ]
          },
          "metadata": {
            "tags": []
          },
          "execution_count": 156
        }
      ]
    },
    {
      "cell_type": "code",
      "metadata": {
        "id": "HdCFWRwPoGBi",
        "colab_type": "code",
        "outputId": "a0c0732d-dfc5-4582-da44-79245c4b3c0d",
        "colab": {
          "base_uri": "https://localhost:8080/",
          "height": 35
        }
      },
      "source": [
        "dfp1.shape"
      ],
      "execution_count": 0,
      "outputs": [
        {
          "output_type": "execute_result",
          "data": {
            "text/plain": [
              "(18131, 89)"
            ]
          },
          "metadata": {
            "tags": []
          },
          "execution_count": 127
        }
      ]
    },
    {
      "cell_type": "code",
      "metadata": {
        "id": "o6Muhvv7Z5C5",
        "colab_type": "code",
        "outputId": "da5fac22-26a5-4d49-dac7-e86da30755ad",
        "colab": {
          "base_uri": "https://localhost:8080/",
          "height": 218
        }
      },
      "source": [
        "# Se seleccionan las variables\n",
        "\n",
        "Var_Atrib = ['Aggression','Crossing', 'Curve', 'Dribbling', 'Finishing',\n",
        "       'FKAccuracy', 'HeadingAccuracy', 'LongShots','Penalties', 'ShotPower', 'Volleys', \n",
        "       'ShortPassing', 'LongPassing',\n",
        "       'Interceptions', 'Marking', 'SlidingTackle', 'StandingTackle',\n",
        "       'Strength', 'Vision', 'Acceleration', 'Agility', \n",
        "       'Reactions', 'Stamina', 'Balance', 'BallControl','Composure','Jumping', \n",
        "       'SprintSpeed','Position']\n",
        "       \n",
        "\n",
        "dfp1 = dfp1[Var_Atrib] #Dataframe del Modelo de predicción basado en resultados de K-means\n",
        "dfp2 = dfp2[Var_Atrib] #Modelo predicción con label originales\n",
        "dfp3 = dfp3[Var_Atrib] #Modeo de predicción con label \"intuitivos\"\n",
        "\n",
        "dfp2.head()\n"
      ],
      "execution_count": 0,
      "outputs": [
        {
          "output_type": "execute_result",
          "data": {
            "text/html": [
              "<div>\n",
              "<style scoped>\n",
              "    .dataframe tbody tr th:only-of-type {\n",
              "        vertical-align: middle;\n",
              "    }\n",
              "\n",
              "    .dataframe tbody tr th {\n",
              "        vertical-align: top;\n",
              "    }\n",
              "\n",
              "    .dataframe thead th {\n",
              "        text-align: right;\n",
              "    }\n",
              "</style>\n",
              "<table border=\"1\" class=\"dataframe\">\n",
              "  <thead>\n",
              "    <tr style=\"text-align: right;\">\n",
              "      <th></th>\n",
              "      <th>Aggression</th>\n",
              "      <th>Crossing</th>\n",
              "      <th>Curve</th>\n",
              "      <th>Dribbling</th>\n",
              "      <th>Finishing</th>\n",
              "      <th>FKAccuracy</th>\n",
              "      <th>HeadingAccuracy</th>\n",
              "      <th>LongShots</th>\n",
              "      <th>Penalties</th>\n",
              "      <th>ShotPower</th>\n",
              "      <th>Volleys</th>\n",
              "      <th>ShortPassing</th>\n",
              "      <th>LongPassing</th>\n",
              "      <th>Interceptions</th>\n",
              "      <th>Marking</th>\n",
              "      <th>SlidingTackle</th>\n",
              "      <th>StandingTackle</th>\n",
              "      <th>Strength</th>\n",
              "      <th>Vision</th>\n",
              "      <th>Acceleration</th>\n",
              "      <th>Agility</th>\n",
              "      <th>Reactions</th>\n",
              "      <th>Stamina</th>\n",
              "      <th>Balance</th>\n",
              "      <th>BallControl</th>\n",
              "      <th>Composure</th>\n",
              "      <th>Jumping</th>\n",
              "      <th>SprintSpeed</th>\n",
              "      <th>Position</th>\n",
              "    </tr>\n",
              "  </thead>\n",
              "  <tbody>\n",
              "    <tr>\n",
              "      <th>0</th>\n",
              "      <td>48.0</td>\n",
              "      <td>84.0</td>\n",
              "      <td>93.0</td>\n",
              "      <td>97.0</td>\n",
              "      <td>95.0</td>\n",
              "      <td>94.0</td>\n",
              "      <td>70.0</td>\n",
              "      <td>94.0</td>\n",
              "      <td>75.0</td>\n",
              "      <td>85.0</td>\n",
              "      <td>86.0</td>\n",
              "      <td>90.0</td>\n",
              "      <td>87.0</td>\n",
              "      <td>22.0</td>\n",
              "      <td>33.0</td>\n",
              "      <td>26.0</td>\n",
              "      <td>28.0</td>\n",
              "      <td>59.0</td>\n",
              "      <td>94.0</td>\n",
              "      <td>91.0</td>\n",
              "      <td>91.0</td>\n",
              "      <td>95.0</td>\n",
              "      <td>72.0</td>\n",
              "      <td>95.0</td>\n",
              "      <td>96.0</td>\n",
              "      <td>96.0</td>\n",
              "      <td>68.0</td>\n",
              "      <td>86.0</td>\n",
              "      <td>RF</td>\n",
              "    </tr>\n",
              "    <tr>\n",
              "      <th>1</th>\n",
              "      <td>63.0</td>\n",
              "      <td>84.0</td>\n",
              "      <td>81.0</td>\n",
              "      <td>88.0</td>\n",
              "      <td>94.0</td>\n",
              "      <td>76.0</td>\n",
              "      <td>89.0</td>\n",
              "      <td>93.0</td>\n",
              "      <td>85.0</td>\n",
              "      <td>95.0</td>\n",
              "      <td>87.0</td>\n",
              "      <td>81.0</td>\n",
              "      <td>77.0</td>\n",
              "      <td>29.0</td>\n",
              "      <td>28.0</td>\n",
              "      <td>23.0</td>\n",
              "      <td>31.0</td>\n",
              "      <td>79.0</td>\n",
              "      <td>82.0</td>\n",
              "      <td>89.0</td>\n",
              "      <td>87.0</td>\n",
              "      <td>96.0</td>\n",
              "      <td>88.0</td>\n",
              "      <td>70.0</td>\n",
              "      <td>94.0</td>\n",
              "      <td>95.0</td>\n",
              "      <td>95.0</td>\n",
              "      <td>91.0</td>\n",
              "      <td>ST</td>\n",
              "    </tr>\n",
              "    <tr>\n",
              "      <th>2</th>\n",
              "      <td>56.0</td>\n",
              "      <td>79.0</td>\n",
              "      <td>88.0</td>\n",
              "      <td>96.0</td>\n",
              "      <td>87.0</td>\n",
              "      <td>87.0</td>\n",
              "      <td>62.0</td>\n",
              "      <td>82.0</td>\n",
              "      <td>81.0</td>\n",
              "      <td>80.0</td>\n",
              "      <td>84.0</td>\n",
              "      <td>84.0</td>\n",
              "      <td>78.0</td>\n",
              "      <td>36.0</td>\n",
              "      <td>27.0</td>\n",
              "      <td>33.0</td>\n",
              "      <td>24.0</td>\n",
              "      <td>49.0</td>\n",
              "      <td>87.0</td>\n",
              "      <td>94.0</td>\n",
              "      <td>96.0</td>\n",
              "      <td>94.0</td>\n",
              "      <td>81.0</td>\n",
              "      <td>84.0</td>\n",
              "      <td>95.0</td>\n",
              "      <td>94.0</td>\n",
              "      <td>61.0</td>\n",
              "      <td>90.0</td>\n",
              "      <td>LW</td>\n",
              "    </tr>\n",
              "    <tr>\n",
              "      <th>3</th>\n",
              "      <td>38.0</td>\n",
              "      <td>17.0</td>\n",
              "      <td>21.0</td>\n",
              "      <td>18.0</td>\n",
              "      <td>13.0</td>\n",
              "      <td>19.0</td>\n",
              "      <td>21.0</td>\n",
              "      <td>12.0</td>\n",
              "      <td>40.0</td>\n",
              "      <td>31.0</td>\n",
              "      <td>13.0</td>\n",
              "      <td>50.0</td>\n",
              "      <td>51.0</td>\n",
              "      <td>30.0</td>\n",
              "      <td>15.0</td>\n",
              "      <td>13.0</td>\n",
              "      <td>21.0</td>\n",
              "      <td>64.0</td>\n",
              "      <td>68.0</td>\n",
              "      <td>57.0</td>\n",
              "      <td>60.0</td>\n",
              "      <td>90.0</td>\n",
              "      <td>43.0</td>\n",
              "      <td>43.0</td>\n",
              "      <td>42.0</td>\n",
              "      <td>68.0</td>\n",
              "      <td>67.0</td>\n",
              "      <td>58.0</td>\n",
              "      <td>GK</td>\n",
              "    </tr>\n",
              "    <tr>\n",
              "      <th>4</th>\n",
              "      <td>76.0</td>\n",
              "      <td>93.0</td>\n",
              "      <td>85.0</td>\n",
              "      <td>86.0</td>\n",
              "      <td>82.0</td>\n",
              "      <td>83.0</td>\n",
              "      <td>55.0</td>\n",
              "      <td>91.0</td>\n",
              "      <td>79.0</td>\n",
              "      <td>91.0</td>\n",
              "      <td>82.0</td>\n",
              "      <td>92.0</td>\n",
              "      <td>91.0</td>\n",
              "      <td>61.0</td>\n",
              "      <td>68.0</td>\n",
              "      <td>51.0</td>\n",
              "      <td>58.0</td>\n",
              "      <td>75.0</td>\n",
              "      <td>94.0</td>\n",
              "      <td>78.0</td>\n",
              "      <td>79.0</td>\n",
              "      <td>91.0</td>\n",
              "      <td>90.0</td>\n",
              "      <td>77.0</td>\n",
              "      <td>91.0</td>\n",
              "      <td>88.0</td>\n",
              "      <td>63.0</td>\n",
              "      <td>76.0</td>\n",
              "      <td>RCM</td>\n",
              "    </tr>\n",
              "  </tbody>\n",
              "</table>\n",
              "</div>"
            ],
            "text/plain": [
              "   Aggression  Crossing  Curve  ...  Jumping  SprintSpeed  Position\n",
              "0        48.0      84.0   93.0  ...     68.0         86.0        RF\n",
              "1        63.0      84.0   81.0  ...     95.0         91.0        ST\n",
              "2        56.0      79.0   88.0  ...     61.0         90.0        LW\n",
              "3        38.0      17.0   21.0  ...     67.0         58.0        GK\n",
              "4        76.0      93.0   85.0  ...     63.0         76.0       RCM\n",
              "\n",
              "[5 rows x 29 columns]"
            ]
          },
          "metadata": {
            "tags": []
          },
          "execution_count": 159
        }
      ]
    },
    {
      "cell_type": "code",
      "metadata": {
        "id": "gr3SM3OxzI1A",
        "colab_type": "code",
        "outputId": "e18d6b18-ef2f-4383-887b-df20d0dc86bc",
        "colab": {
          "base_uri": "https://localhost:8080/",
          "height": 72
        }
      },
      "source": [
        "dfp1.Position.unique() # Para validar Posiciones en los datos"
      ],
      "execution_count": 0,
      "outputs": [
        {
          "output_type": "execute_result",
          "data": {
            "text/plain": [
              "array(['RF', 'ST', 'LW', 'GK', 'RCM', 'LF', 'RS', 'RCB', 'LCM', 'CB',\n",
              "       'LDM', 'CAM', 'CDM', 'LS', 'LCB', 'RM', 'LAM', 'LM', 'LB', 'RDM',\n",
              "       'RW', 'CM', 'RB', 'RAM', 'CF', 'RWB', 'LWB', nan], dtype=object)"
            ]
          },
          "metadata": {
            "tags": []
          },
          "execution_count": 160
        }
      ]
    },
    {
      "cell_type": "markdown",
      "metadata": {
        "id": "HpOPdCLty9QL",
        "colab_type": "text"
      },
      "source": [
        "Se crea función para etiquetar los datos\n"
      ]
    },
    {
      "cell_type": "code",
      "metadata": {
        "id": "bOaknGC8yvjt",
        "colab_type": "code",
        "colab": {}
      },
      "source": [
        "def Etiqueta_Posicion_Kmeans (row):\n",
        "    #GOALKEEPER\n",
        "    if(row.Position == \"GK\"):\n",
        "      return '1'\n",
        "    #DEFENSAS\n",
        "    if(row.Position == \"CB\" or row.Position == \"RCB\" or row.Position == \"LCB\"):\n",
        "        return '2'\n",
        "    #MEDIO CAMPO\n",
        "    if(row.Position == \"LDM\" or row.Position == \"RDM\" or row.Position == \"RCM\" or \n",
        "       row.Position == \"LCM\") :\n",
        "        return '3'\n",
        "    #ATAQUE\n",
        "    if(row.Position == \"RS\" or row.Position == \"ST\" or row.Position == \"LS\" or row.Position == \"CF\" or row.Position == \"LW\"or row.Position == \"RW\"):\n",
        "        return '4'\n",
        "    else:\n",
        "      return'5'\n",
        "\n",
        "def Etiqueta_Posicion (row):\n",
        "    #GOALKEEPER\n",
        "    if(row.Position == \"GK\"):\n",
        "        return '1'\n",
        "    #DEFENSAS   \n",
        "    if(row.Position == \"RB\" or row.Position == \"CB\" or row.Position == \"LB\" or row.Position == \"RCB\"or row.Position == \"RWB\" or \n",
        "       row.Position == \"LCB\"):\n",
        "        return '2'\n",
        "    #MEDIO CAMPO\n",
        "    if(row.Position == \"RM\" or row.Position == \"CM\" or row.Position == \"LM\"\n",
        "       or row.Position == \"CAM\" or row.Position == \"LDM\" or row.Position == \"RDM\"\n",
        "       or row.Position == \"LAM\"or row.Position == \"RAM\" or row.Position == \"CDM\"\n",
        "       or row.Position == \"RCM\"or row.Position == \"LCM\"):\n",
        "        return '3'\n",
        "    #ATAQUE\n",
        "    if(row.Position == \"RW\" or row.Position == \"CF\" or row.Position == \"LW\" or \n",
        "       row.Position == \"ST\" or row.Position == \"RS\"or row.Position == \"LS\"\n",
        "       or row.Position == \"LF\"or row.Position == \"RF\"):\n",
        "        return '4'\n",
        "    \n",
        "dfp1['Position'] = dfp1.apply (lambda row: Etiqueta_Posicion_Kmeans(row),axis=1)\n",
        "dfp3['Position'] = dfp3.apply (lambda row: Etiqueta_Posicion(row),axis=1)\n"
      ],
      "execution_count": 0,
      "outputs": []
    },
    {
      "cell_type": "code",
      "metadata": {
        "id": "Q_oMNT16hs0j",
        "colab_type": "code",
        "outputId": "12f1a28e-7cdc-4317-a818-add8b81e0bb6",
        "colab": {
          "base_uri": "https://localhost:8080/",
          "height": 218
        }
      },
      "source": [
        "dfp1.head()"
      ],
      "execution_count": 0,
      "outputs": [
        {
          "output_type": "execute_result",
          "data": {
            "text/html": [
              "<div>\n",
              "<style scoped>\n",
              "    .dataframe tbody tr th:only-of-type {\n",
              "        vertical-align: middle;\n",
              "    }\n",
              "\n",
              "    .dataframe tbody tr th {\n",
              "        vertical-align: top;\n",
              "    }\n",
              "\n",
              "    .dataframe thead th {\n",
              "        text-align: right;\n",
              "    }\n",
              "</style>\n",
              "<table border=\"1\" class=\"dataframe\">\n",
              "  <thead>\n",
              "    <tr style=\"text-align: right;\">\n",
              "      <th></th>\n",
              "      <th>Aggression</th>\n",
              "      <th>Crossing</th>\n",
              "      <th>Curve</th>\n",
              "      <th>Dribbling</th>\n",
              "      <th>Finishing</th>\n",
              "      <th>FKAccuracy</th>\n",
              "      <th>HeadingAccuracy</th>\n",
              "      <th>LongShots</th>\n",
              "      <th>Penalties</th>\n",
              "      <th>ShotPower</th>\n",
              "      <th>Volleys</th>\n",
              "      <th>ShortPassing</th>\n",
              "      <th>LongPassing</th>\n",
              "      <th>Interceptions</th>\n",
              "      <th>Marking</th>\n",
              "      <th>SlidingTackle</th>\n",
              "      <th>StandingTackle</th>\n",
              "      <th>Strength</th>\n",
              "      <th>Vision</th>\n",
              "      <th>Acceleration</th>\n",
              "      <th>Agility</th>\n",
              "      <th>Reactions</th>\n",
              "      <th>Stamina</th>\n",
              "      <th>Balance</th>\n",
              "      <th>BallControl</th>\n",
              "      <th>Composure</th>\n",
              "      <th>Jumping</th>\n",
              "      <th>SprintSpeed</th>\n",
              "      <th>Position</th>\n",
              "    </tr>\n",
              "  </thead>\n",
              "  <tbody>\n",
              "    <tr>\n",
              "      <th>0</th>\n",
              "      <td>48.0</td>\n",
              "      <td>84.0</td>\n",
              "      <td>93.0</td>\n",
              "      <td>97.0</td>\n",
              "      <td>95.0</td>\n",
              "      <td>94.0</td>\n",
              "      <td>70.0</td>\n",
              "      <td>94.0</td>\n",
              "      <td>75.0</td>\n",
              "      <td>85.0</td>\n",
              "      <td>86.0</td>\n",
              "      <td>90.0</td>\n",
              "      <td>87.0</td>\n",
              "      <td>22.0</td>\n",
              "      <td>33.0</td>\n",
              "      <td>26.0</td>\n",
              "      <td>28.0</td>\n",
              "      <td>59.0</td>\n",
              "      <td>94.0</td>\n",
              "      <td>91.0</td>\n",
              "      <td>91.0</td>\n",
              "      <td>95.0</td>\n",
              "      <td>72.0</td>\n",
              "      <td>95.0</td>\n",
              "      <td>96.0</td>\n",
              "      <td>96.0</td>\n",
              "      <td>68.0</td>\n",
              "      <td>86.0</td>\n",
              "      <td>5</td>\n",
              "    </tr>\n",
              "    <tr>\n",
              "      <th>1</th>\n",
              "      <td>63.0</td>\n",
              "      <td>84.0</td>\n",
              "      <td>81.0</td>\n",
              "      <td>88.0</td>\n",
              "      <td>94.0</td>\n",
              "      <td>76.0</td>\n",
              "      <td>89.0</td>\n",
              "      <td>93.0</td>\n",
              "      <td>85.0</td>\n",
              "      <td>95.0</td>\n",
              "      <td>87.0</td>\n",
              "      <td>81.0</td>\n",
              "      <td>77.0</td>\n",
              "      <td>29.0</td>\n",
              "      <td>28.0</td>\n",
              "      <td>23.0</td>\n",
              "      <td>31.0</td>\n",
              "      <td>79.0</td>\n",
              "      <td>82.0</td>\n",
              "      <td>89.0</td>\n",
              "      <td>87.0</td>\n",
              "      <td>96.0</td>\n",
              "      <td>88.0</td>\n",
              "      <td>70.0</td>\n",
              "      <td>94.0</td>\n",
              "      <td>95.0</td>\n",
              "      <td>95.0</td>\n",
              "      <td>91.0</td>\n",
              "      <td>4</td>\n",
              "    </tr>\n",
              "    <tr>\n",
              "      <th>2</th>\n",
              "      <td>56.0</td>\n",
              "      <td>79.0</td>\n",
              "      <td>88.0</td>\n",
              "      <td>96.0</td>\n",
              "      <td>87.0</td>\n",
              "      <td>87.0</td>\n",
              "      <td>62.0</td>\n",
              "      <td>82.0</td>\n",
              "      <td>81.0</td>\n",
              "      <td>80.0</td>\n",
              "      <td>84.0</td>\n",
              "      <td>84.0</td>\n",
              "      <td>78.0</td>\n",
              "      <td>36.0</td>\n",
              "      <td>27.0</td>\n",
              "      <td>33.0</td>\n",
              "      <td>24.0</td>\n",
              "      <td>49.0</td>\n",
              "      <td>87.0</td>\n",
              "      <td>94.0</td>\n",
              "      <td>96.0</td>\n",
              "      <td>94.0</td>\n",
              "      <td>81.0</td>\n",
              "      <td>84.0</td>\n",
              "      <td>95.0</td>\n",
              "      <td>94.0</td>\n",
              "      <td>61.0</td>\n",
              "      <td>90.0</td>\n",
              "      <td>4</td>\n",
              "    </tr>\n",
              "    <tr>\n",
              "      <th>3</th>\n",
              "      <td>38.0</td>\n",
              "      <td>17.0</td>\n",
              "      <td>21.0</td>\n",
              "      <td>18.0</td>\n",
              "      <td>13.0</td>\n",
              "      <td>19.0</td>\n",
              "      <td>21.0</td>\n",
              "      <td>12.0</td>\n",
              "      <td>40.0</td>\n",
              "      <td>31.0</td>\n",
              "      <td>13.0</td>\n",
              "      <td>50.0</td>\n",
              "      <td>51.0</td>\n",
              "      <td>30.0</td>\n",
              "      <td>15.0</td>\n",
              "      <td>13.0</td>\n",
              "      <td>21.0</td>\n",
              "      <td>64.0</td>\n",
              "      <td>68.0</td>\n",
              "      <td>57.0</td>\n",
              "      <td>60.0</td>\n",
              "      <td>90.0</td>\n",
              "      <td>43.0</td>\n",
              "      <td>43.0</td>\n",
              "      <td>42.0</td>\n",
              "      <td>68.0</td>\n",
              "      <td>67.0</td>\n",
              "      <td>58.0</td>\n",
              "      <td>1</td>\n",
              "    </tr>\n",
              "    <tr>\n",
              "      <th>4</th>\n",
              "      <td>76.0</td>\n",
              "      <td>93.0</td>\n",
              "      <td>85.0</td>\n",
              "      <td>86.0</td>\n",
              "      <td>82.0</td>\n",
              "      <td>83.0</td>\n",
              "      <td>55.0</td>\n",
              "      <td>91.0</td>\n",
              "      <td>79.0</td>\n",
              "      <td>91.0</td>\n",
              "      <td>82.0</td>\n",
              "      <td>92.0</td>\n",
              "      <td>91.0</td>\n",
              "      <td>61.0</td>\n",
              "      <td>68.0</td>\n",
              "      <td>51.0</td>\n",
              "      <td>58.0</td>\n",
              "      <td>75.0</td>\n",
              "      <td>94.0</td>\n",
              "      <td>78.0</td>\n",
              "      <td>79.0</td>\n",
              "      <td>91.0</td>\n",
              "      <td>90.0</td>\n",
              "      <td>77.0</td>\n",
              "      <td>91.0</td>\n",
              "      <td>88.0</td>\n",
              "      <td>63.0</td>\n",
              "      <td>76.0</td>\n",
              "      <td>3</td>\n",
              "    </tr>\n",
              "  </tbody>\n",
              "</table>\n",
              "</div>"
            ],
            "text/plain": [
              "   Aggression  Crossing  Curve  ...  Jumping  SprintSpeed  Position\n",
              "0        48.0      84.0   93.0  ...     68.0         86.0         5\n",
              "1        63.0      84.0   81.0  ...     95.0         91.0         4\n",
              "2        56.0      79.0   88.0  ...     61.0         90.0         4\n",
              "3        38.0      17.0   21.0  ...     67.0         58.0         1\n",
              "4        76.0      93.0   85.0  ...     63.0         76.0         3\n",
              "\n",
              "[5 rows x 29 columns]"
            ]
          },
          "metadata": {
            "tags": []
          },
          "execution_count": 162
        }
      ]
    },
    {
      "cell_type": "markdown",
      "metadata": {
        "id": "uPwEEwOgQyeE",
        "colab_type": "text"
      },
      "source": [
        "#3.CONSTRUCCIÓN DEL MODELO RANDOM FOREST"
      ]
    },
    {
      "cell_type": "markdown",
      "metadata": {
        "id": "x7WsU3IDyi5X",
        "colab_type": "text"
      },
      "source": [
        "Primero se definen los datos de entrenamiento y de testeo"
      ]
    },
    {
      "cell_type": "code",
      "metadata": {
        "id": "L_faumdxchll",
        "colab_type": "code",
        "colab": {}
      },
      "source": [
        "# Definir conjunto de datos de entrenamiento y testeo\n",
        "from sklearn.model_selection import train_test_split\n",
        "X_train1, X_test1, y_train1, y_test1 = train_test_split(dfp1.iloc[:,:-1], dfp1.iloc[:,-1], test_size=0.2, random_state=0)\n",
        "X_train2, X_test2, y_train2, y_test2 = train_test_split(dfp2.iloc[:,:-1], dfp2.iloc[:,-1], test_size=0.2, random_state=0)\n",
        "X_train3, X_test3, y_train3, y_test3 = train_test_split(dfp3.iloc[:,:-1], dfp3.iloc[:,-1], test_size=0.2, random_state=0)\n",
        "\n",
        "\n",
        "dfp1=dfp1.dropna(subset=['Position'])\n",
        "dfp2=dfp2.dropna(subset=['Position'])\n",
        "dfp3=dfp3.dropna(subset=['Position'])\n",
        "dfp1 = dfp1.dropna() \n",
        "dfp2 = dfp2.dropna() \n",
        "dfp3 = dfp3.dropna() "
      ],
      "execution_count": 0,
      "outputs": []
    },
    {
      "cell_type": "code",
      "metadata": {
        "id": "b62Iicz6eBSJ",
        "colab_type": "code",
        "colab": {}
      },
      "source": [
        "# Entrenamiento de los modelos\n",
        "from sklearn.metrics import precision_score, recall_score, classification_report, confusion_matrix\n",
        "\n",
        "RForestPrueba1 = RandomForestClassifier(random_state=0).fit(X_train1,y_train1)\n",
        "RForestPrueba2 = RandomForestClassifier(random_state=0).fit(X_train2,y_train2)\n",
        "RForestPrueba3 = RandomForestClassifier(random_state=0).fit(X_train3,y_train3)"
      ],
      "execution_count": 0,
      "outputs": []
    },
    {
      "cell_type": "code",
      "metadata": {
        "id": "0dOiqQrienSx",
        "colab_type": "code",
        "outputId": "3095f5f3-768e-4896-b383-b51855dcad3f",
        "colab": {
          "base_uri": "https://localhost:8080/",
          "height": 72
        }
      },
      "source": [
        "# Evaluación de modelos con accuracy\n",
        "\n",
        "RForestscore1 = RForestPrueba1.score(X_test1, y_test1)\n",
        "RForestscore2 = RForestPrueba2.score(X_test2, y_test2)\n",
        "RForestscore3 = RForestPrueba3.score(X_test3, y_test3)\n",
        "\n",
        "print ('Random Forest Accuracy (Default parameters): {}'.format(RForestscore1))\n",
        "print ('Random Forest Accuracy (Default parameters): {}'.format(RForestscore2))\n",
        "print ('Random Forest Accuracy (Default parameters): {}'.format(RForestscore3))"
      ],
      "execution_count": 0,
      "outputs": [
        {
          "output_type": "stream",
          "text": [
            "Random Forest Accuracy (Default parameters): 0.818307140887786\n",
            "Random Forest Accuracy (Default parameters): 0.5253863134657837\n",
            "Random Forest Accuracy (Default parameters): 0.8772513161540593\n"
          ],
          "name": "stdout"
        }
      ]
    },
    {
      "cell_type": "code",
      "metadata": {
        "id": "YR8SRx_Mmafo",
        "colab_type": "code",
        "colab": {}
      },
      "source": [
        "y_pred_prueba1 =RandomForestClassifier(random_state=0).fit(X_train1, y_train1).predict(X_test1)\n",
        "y_pred_prueba2 =RandomForestClassifier(random_state=0).fit(X_train2, y_train2).predict(X_test2)\n",
        "y_pred_prueba3 =RandomForestClassifier(random_state=0).fit(X_train3, y_train3).predict(X_test3)"
      ],
      "execution_count": 0,
      "outputs": []
    },
    {
      "cell_type": "code",
      "metadata": {
        "id": "5mVCM8Mxm76N",
        "colab_type": "code",
        "outputId": "aaab6ce7-fd01-422b-e65c-3314eae81f99",
        "colab": {
          "base_uri": "https://localhost:8080/",
          "height": 1000
        }
      },
      "source": [
        "print(classification_report(y_test1, y_pred_prueba1))\n",
        "print(classification_report(y_test3,y_pred_prueba3))\n",
        "print(classification_report(y_test2,y_pred_prueba2))\n"
      ],
      "execution_count": 0,
      "outputs": [
        {
          "output_type": "stream",
          "text": [
            "              precision    recall  f1-score   support\n",
            "\n",
            "           1       1.00      1.00      1.00       391\n",
            "           2       0.89      0.86      0.87       656\n",
            "           3       0.40      0.04      0.07       251\n",
            "           4       0.86      0.75      0.80       679\n",
            "           5       0.76      0.91      0.82      1650\n",
            "\n",
            "    accuracy                           0.82      3627\n",
            "   macro avg       0.78      0.71      0.71      3627\n",
            "weighted avg       0.80      0.82      0.79      3627\n",
            "\n",
            "              precision    recall  f1-score   support\n",
            "\n",
            "           1       1.00      1.00      1.00       405\n",
            "           2       0.92      0.93      0.92      1139\n",
            "           3       0.82      0.88      0.85      1376\n",
            "           4       0.86      0.73      0.79       689\n",
            "\n",
            "    accuracy                           0.88      3609\n",
            "   macro avg       0.90      0.88      0.89      3609\n",
            "weighted avg       0.88      0.88      0.88      3609\n",
            "\n",
            "              precision    recall  f1-score   support\n",
            "\n",
            "         CAM       0.37      0.47      0.42       173\n",
            "          CB       0.55      0.84      0.66       357\n",
            "         CDM       0.42      0.59      0.49       198\n",
            "          CF       0.00      0.00      0.00        12\n",
            "          CM       0.45      0.72      0.55       295\n",
            "          GK       1.00      1.00      1.00       400\n",
            "         LAM       0.00      0.00      0.00         5\n",
            "          LB       0.39      0.45      0.42       242\n",
            "         LCB       0.20      0.04      0.06       129\n",
            "         LCM       0.17      0.01      0.02        76\n",
            "         LDM       0.00      0.00      0.00        56\n",
            "          LF       0.00      0.00      0.00         4\n",
            "          LM       0.27      0.28      0.27       205\n",
            "          LS       0.00      0.00      0.00        38\n",
            "          LW       0.29      0.02      0.04        83\n",
            "         LWB       0.00      0.00      0.00        15\n",
            "         RAM       0.00      0.00      0.00         3\n",
            "          RB       0.40      0.49      0.44       243\n",
            "         RCB       0.38      0.12      0.18       137\n",
            "         RCM       0.00      0.00      0.00        86\n",
            "         RDM       0.33      0.02      0.04        48\n",
            "          RF       0.00      0.00      0.00         1\n",
            "          RM       0.27      0.25      0.26       232\n",
            "          RS       0.00      0.00      0.00        40\n",
            "          RW       0.25      0.03      0.05        70\n",
            "         RWB       0.00      0.00      0.00        16\n",
            "          ST       0.71      0.92      0.80       460\n",
            "\n",
            "    accuracy                           0.53      3624\n",
            "   macro avg       0.24      0.23      0.21      3624\n",
            "weighted avg       0.46      0.53      0.47      3624\n",
            "\n"
          ],
          "name": "stdout"
        },
        {
          "output_type": "stream",
          "text": [
            "/usr/local/lib/python3.6/dist-packages/sklearn/metrics/_classification.py:1272: UndefinedMetricWarning: Precision and F-score are ill-defined and being set to 0.0 in labels with no predicted samples. Use `zero_division` parameter to control this behavior.\n",
            "  _warn_prf(average, modifier, msg_start, len(result))\n"
          ],
          "name": "stderr"
        }
      ]
    },
    {
      "cell_type": "code",
      "metadata": {
        "id": "qL3yt3xjvh6-",
        "colab_type": "code",
        "colab": {}
      },
      "source": [
        "# Normalización de datos\n",
        "from sklearn import preprocessing\n",
        "X_train_scaled = preprocessing.scale(X_train3)\n",
        "X_test_scaled = preprocessing.scale(X_test3)\n",
        "X_train=X_train3\n",
        "X_test=X_test3\n",
        "y_train=y_train3\n",
        "y_test=y_test3\n"
      ],
      "execution_count": 0,
      "outputs": []
    },
    {
      "cell_type": "code",
      "metadata": {
        "id": "G3vMfILXsLGc",
        "colab_type": "code",
        "outputId": "9c4e5806-60e7-426b-96cf-5a2548d33d59",
        "colab": {
          "base_uri": "https://localhost:8080/",
          "height": 254
        }
      },
      "source": [
        "X_train_scaled"
      ],
      "execution_count": 0,
      "outputs": [
        {
          "output_type": "execute_result",
          "data": {
            "text/plain": [
              "array([[ 0.6385292 , -0.25529192, -0.00956486, ...,  0.20293472,\n",
              "        -0.60880734,  0.83753497],\n",
              "       [-1.65772087,  0.61605297,  0.31625759, ..., -0.58169304,\n",
              "         0.66135527,  1.11028296],\n",
              "       [ 0.12187293,  0.94280731,  0.69638378, ...,  0.46447731,\n",
              "        -1.2862274 ,  0.56478697],\n",
              "       ...,\n",
              "       [ 0.8681542 ,  0.8338892 ,  0.91359875, ...,  0.37729644,\n",
              "         0.83071029,  0.83753497],\n",
              "       [-1.94475213, -2.21581792, -1.80158835, ..., -0.58169304,\n",
              "        -0.35477482, -1.07170099],\n",
              "       [-0.56700209, -0.03745569,  0.26195385, ...,  0.98756248,\n",
              "         0.74603278,  0.15566498]])"
            ]
          },
          "metadata": {
            "tags": []
          },
          "execution_count": 183
        }
      ]
    },
    {
      "cell_type": "code",
      "metadata": {
        "id": "iS8b9L0crESM",
        "colab_type": "code",
        "outputId": "7c17b529-8be4-46f8-84f2-2d6d18dfe175",
        "colab": {
          "base_uri": "https://localhost:8080/",
          "height": 417
        }
      },
      "source": [
        "# Comparación de resultados normalizados\n",
        "print(classification_report(y_test3,y_pred_prueba3)) #Sin normalizar\n",
        "\n",
        "\n",
        "RForestPrueba4 = RandomForestClassifier(random_state=0).fit(X_train_scaled,y_train3)\n",
        "y_pred_prueba4 =RandomForestClassifier(random_state=0).fit(X_train_scaled, y_train3).predict(X_test_scaled)\n",
        "print(classification_report(y_test,y_pred_prueba4)) #Con normalizado"
      ],
      "execution_count": 0,
      "outputs": [
        {
          "output_type": "stream",
          "text": [
            "              precision    recall  f1-score   support\n",
            "\n",
            "           1       1.00      1.00      1.00       405\n",
            "           2       0.92      0.93      0.92      1139\n",
            "           3       0.82      0.88      0.85      1376\n",
            "           4       0.86      0.73      0.79       689\n",
            "\n",
            "    accuracy                           0.88      3609\n",
            "   macro avg       0.90      0.88      0.89      3609\n",
            "weighted avg       0.88      0.88      0.88      3609\n",
            "\n",
            "              precision    recall  f1-score   support\n",
            "\n",
            "           1       1.00      1.00      1.00       405\n",
            "           2       0.92      0.93      0.92      1139\n",
            "           3       0.82      0.87      0.85      1376\n",
            "           4       0.86      0.74      0.79       689\n",
            "\n",
            "    accuracy                           0.88      3609\n",
            "   macro avg       0.90      0.88      0.89      3609\n",
            "weighted avg       0.88      0.88      0.88      3609\n",
            "\n"
          ],
          "name": "stdout"
        }
      ]
    },
    {
      "cell_type": "code",
      "metadata": {
        "id": "RKhnL-y_baJo",
        "colab_type": "code",
        "outputId": "c12d6f9f-3c3d-4983-b6de-ca6e10d3f363",
        "colab": {
          "base_uri": "https://localhost:8080/",
          "height": 235
        }
      },
      "source": [
        "y_train"
      ],
      "execution_count": 0,
      "outputs": [
        {
          "output_type": "execute_result",
          "data": {
            "text/plain": [
              "17561     GK\n",
              "6982      GK\n",
              "397       RW\n",
              "3845     CDM\n",
              "6298      LB\n",
              "        ... \n",
              "9236      ST\n",
              "13139     ST\n",
              "9856      LM\n",
              "10813     LB\n",
              "2736      LS\n",
              "Name: Position, Length: 14495, dtype: object"
            ]
          },
          "metadata": {
            "tags": []
          },
          "execution_count": 177
        }
      ]
    },
    {
      "cell_type": "markdown",
      "metadata": {
        "id": "k1E7GmYVRxm0",
        "colab_type": "text"
      },
      "source": [
        "A continuación se ejecuta una función que evalúa los resultados óptimos de profundidad(max_depth),número de árboles (n_estimators) y el numero de variables a evaluar antes de tomar decisión (max_features).\n"
      ]
    },
    {
      "cell_type": "code",
      "metadata": {
        "id": "uwJSndABWyQn",
        "colab_type": "code",
        "colab": {}
      },
      "source": [
        "parameters_f = [{'max_depth': range(1,10), 'n_estimators': range(2,10,2), 'max_features': range(5,15)}]\n",
        "clf_all_for_g = GridSearchCV(RandomForestClassifier(random_state=0), parameters_f)\n",
        "clf_all_for_g.fit(X_train3, y_train3)\n",
        "\n",
        "print('Best depth:',clf_all_for_g.best_estimator_.max_depth)\n",
        "print('Best n trees:',clf_all_for_g.best_estimator_.n_estimators)\n",
        "print('Best n features:',clf_all_for_g.best_estimator_.max_features)\n",
        "print('Best n min samples split:',clf_all_for_g.best_estimator_.min_samples_split)\n",
        "print('Best n min samples leaf:',clf_all_for_g.best_estimator_.min_samples_leaf)\n",
        "print('Best n min samples leaf:',clf_all_for_g.best_estimator_.bootstrap)"
      ],
      "execution_count": 0,
      "outputs": []
    },
    {
      "cell_type": "code",
      "metadata": {
        "id": "dXu_PDjcIRUl",
        "colab_type": "code",
        "outputId": "e0d75297-008d-4200-f961-03e01b7cc8f8",
        "colab": {
          "base_uri": "https://localhost:8080/",
          "height": 1000
        }
      },
      "source": [
        "from sklearn.ensemble import RandomForestRegressor\n",
        "\n",
        "for i in range(20,40,2): #Se ejecuta un ciclo para validar el número de arboles óptimo para la construccion del modelo\n",
        "  for j in range (6,20,2):#Se ejecuta un ciclo para validar la profundidad óptims para la construccion del modelo\n",
        "    for k in range (6,20,2):#Se ejecuta un ciclo para validar el número variables óptimo a evaluar en cada nivel\n",
        "      for l in range (2,3,1):#Se ejecuta un ciclo para validar el requerimiento mínimo de muestras óptimo para la que se convierta en nodo\n",
        "        for m in range (2,3,1):#Se ejecuta un ciclo para validar el númerode divisiones de nodo óptimas para la construccion de un nuevo nivel\n",
        "          reg=RandomForestRegressor(n_estimators=i,max_depth=j,max_features=k,min_samples_leaf=l,min_samples_split=m,random_state=0,bootstrap=True,oob_score=True)\n",
        "          reg.fit(X_train3,y_train3)\n",
        "          oob=reg.oob_score_\n",
        "          print('n_estimators = '+str(i)+'max_deph = '+str(j)+'max_features = '+str(k)+'min_samples_leaf = '+str(l)+'min_samples_split = '+str(m)+'OOB score is '+str(oob))\n",
        "          print('------------------------------')  "
      ],
      "execution_count": 0,
      "outputs": [
        {
          "output_type": "stream",
          "text": [
            "/usr/local/lib/python3.6/dist-packages/sklearn/ensemble/_forest.py:815: UserWarning: Some inputs do not have OOB scores. This probably means too few trees were used to compute any reliable oob estimates.\n",
            "  warn(\"Some inputs do not have OOB scores. \"\n"
          ],
          "name": "stderr"
        },
        {
          "output_type": "stream",
          "text": [
            "n_estimators = 20max_deph = 6max_features = 6min_samples_leaf = 2min_samples_split = 2OOB score is 0.8591060708534901\n",
            "------------------------------\n"
          ],
          "name": "stdout"
        },
        {
          "output_type": "stream",
          "text": [
            "/usr/local/lib/python3.6/dist-packages/sklearn/ensemble/_forest.py:815: UserWarning: Some inputs do not have OOB scores. This probably means too few trees were used to compute any reliable oob estimates.\n",
            "  warn(\"Some inputs do not have OOB scores. \"\n"
          ],
          "name": "stderr"
        },
        {
          "output_type": "stream",
          "text": [
            "n_estimators = 20max_deph = 6max_features = 8min_samples_leaf = 2min_samples_split = 2OOB score is 0.86171328243288\n",
            "------------------------------\n"
          ],
          "name": "stdout"
        },
        {
          "output_type": "stream",
          "text": [
            "/usr/local/lib/python3.6/dist-packages/sklearn/ensemble/_forest.py:815: UserWarning: Some inputs do not have OOB scores. This probably means too few trees were used to compute any reliable oob estimates.\n",
            "  warn(\"Some inputs do not have OOB scores. \"\n"
          ],
          "name": "stderr"
        },
        {
          "output_type": "stream",
          "text": [
            "n_estimators = 20max_deph = 6max_features = 10min_samples_leaf = 2min_samples_split = 2OOB score is 0.863300874081483\n",
            "------------------------------\n"
          ],
          "name": "stdout"
        },
        {
          "output_type": "stream",
          "text": [
            "/usr/local/lib/python3.6/dist-packages/sklearn/ensemble/_forest.py:815: UserWarning: Some inputs do not have OOB scores. This probably means too few trees were used to compute any reliable oob estimates.\n",
            "  warn(\"Some inputs do not have OOB scores. \"\n"
          ],
          "name": "stderr"
        },
        {
          "output_type": "stream",
          "text": [
            "n_estimators = 20max_deph = 6max_features = 12min_samples_leaf = 2min_samples_split = 2OOB score is 0.8643664550884262\n",
            "------------------------------\n"
          ],
          "name": "stdout"
        },
        {
          "output_type": "stream",
          "text": [
            "/usr/local/lib/python3.6/dist-packages/sklearn/ensemble/_forest.py:815: UserWarning: Some inputs do not have OOB scores. This probably means too few trees were used to compute any reliable oob estimates.\n",
            "  warn(\"Some inputs do not have OOB scores. \"\n"
          ],
          "name": "stderr"
        },
        {
          "output_type": "stream",
          "text": [
            "n_estimators = 20max_deph = 6max_features = 14min_samples_leaf = 2min_samples_split = 2OOB score is 0.8662409169594276\n",
            "------------------------------\n"
          ],
          "name": "stdout"
        },
        {
          "output_type": "stream",
          "text": [
            "/usr/local/lib/python3.6/dist-packages/sklearn/ensemble/_forest.py:815: UserWarning: Some inputs do not have OOB scores. This probably means too few trees were used to compute any reliable oob estimates.\n",
            "  warn(\"Some inputs do not have OOB scores. \"\n"
          ],
          "name": "stderr"
        },
        {
          "output_type": "stream",
          "text": [
            "n_estimators = 20max_deph = 6max_features = 16min_samples_leaf = 2min_samples_split = 2OOB score is 0.8676249894105115\n",
            "------------------------------\n"
          ],
          "name": "stdout"
        },
        {
          "output_type": "stream",
          "text": [
            "/usr/local/lib/python3.6/dist-packages/sklearn/ensemble/_forest.py:815: UserWarning: Some inputs do not have OOB scores. This probably means too few trees were used to compute any reliable oob estimates.\n",
            "  warn(\"Some inputs do not have OOB scores. \"\n"
          ],
          "name": "stderr"
        },
        {
          "output_type": "stream",
          "text": [
            "n_estimators = 20max_deph = 6max_features = 18min_samples_leaf = 2min_samples_split = 2OOB score is 0.8664393659663279\n",
            "------------------------------\n"
          ],
          "name": "stdout"
        },
        {
          "output_type": "stream",
          "text": [
            "/usr/local/lib/python3.6/dist-packages/sklearn/ensemble/_forest.py:815: UserWarning: Some inputs do not have OOB scores. This probably means too few trees were used to compute any reliable oob estimates.\n",
            "  warn(\"Some inputs do not have OOB scores. \"\n"
          ],
          "name": "stderr"
        },
        {
          "output_type": "stream",
          "text": [
            "n_estimators = 20max_deph = 8max_features = 6min_samples_leaf = 2min_samples_split = 2OOB score is 0.8712983644909862\n",
            "------------------------------\n"
          ],
          "name": "stdout"
        },
        {
          "output_type": "stream",
          "text": [
            "/usr/local/lib/python3.6/dist-packages/sklearn/ensemble/_forest.py:815: UserWarning: Some inputs do not have OOB scores. This probably means too few trees were used to compute any reliable oob estimates.\n",
            "  warn(\"Some inputs do not have OOB scores. \"\n"
          ],
          "name": "stderr"
        },
        {
          "output_type": "stream",
          "text": [
            "n_estimators = 20max_deph = 8max_features = 8min_samples_leaf = 2min_samples_split = 2OOB score is 0.8751622469698124\n",
            "------------------------------\n"
          ],
          "name": "stdout"
        },
        {
          "output_type": "stream",
          "text": [
            "/usr/local/lib/python3.6/dist-packages/sklearn/ensemble/_forest.py:815: UserWarning: Some inputs do not have OOB scores. This probably means too few trees were used to compute any reliable oob estimates.\n",
            "  warn(\"Some inputs do not have OOB scores. \"\n"
          ],
          "name": "stderr"
        },
        {
          "output_type": "stream",
          "text": [
            "n_estimators = 20max_deph = 8max_features = 10min_samples_leaf = 2min_samples_split = 2OOB score is 0.8740847235516755\n",
            "------------------------------\n"
          ],
          "name": "stdout"
        },
        {
          "output_type": "stream",
          "text": [
            "/usr/local/lib/python3.6/dist-packages/sklearn/ensemble/_forest.py:815: UserWarning: Some inputs do not have OOB scores. This probably means too few trees were used to compute any reliable oob estimates.\n",
            "  warn(\"Some inputs do not have OOB scores. \"\n"
          ],
          "name": "stderr"
        },
        {
          "output_type": "stream",
          "text": [
            "n_estimators = 20max_deph = 8max_features = 12min_samples_leaf = 2min_samples_split = 2OOB score is 0.8769376960856641\n",
            "------------------------------\n"
          ],
          "name": "stdout"
        },
        {
          "output_type": "stream",
          "text": [
            "/usr/local/lib/python3.6/dist-packages/sklearn/ensemble/_forest.py:815: UserWarning: Some inputs do not have OOB scores. This probably means too few trees were used to compute any reliable oob estimates.\n",
            "  warn(\"Some inputs do not have OOB scores. \"\n"
          ],
          "name": "stderr"
        },
        {
          "output_type": "stream",
          "text": [
            "n_estimators = 20max_deph = 8max_features = 14min_samples_leaf = 2min_samples_split = 2OOB score is 0.876773294908919\n",
            "------------------------------\n"
          ],
          "name": "stdout"
        },
        {
          "output_type": "stream",
          "text": [
            "/usr/local/lib/python3.6/dist-packages/sklearn/ensemble/_forest.py:815: UserWarning: Some inputs do not have OOB scores. This probably means too few trees were used to compute any reliable oob estimates.\n",
            "  warn(\"Some inputs do not have OOB scores. \"\n"
          ],
          "name": "stderr"
        },
        {
          "output_type": "stream",
          "text": [
            "n_estimators = 20max_deph = 8max_features = 16min_samples_leaf = 2min_samples_split = 2OOB score is 0.8778373134213563\n",
            "------------------------------\n"
          ],
          "name": "stdout"
        },
        {
          "output_type": "stream",
          "text": [
            "/usr/local/lib/python3.6/dist-packages/sklearn/ensemble/_forest.py:815: UserWarning: Some inputs do not have OOB scores. This probably means too few trees were used to compute any reliable oob estimates.\n",
            "  warn(\"Some inputs do not have OOB scores. \"\n"
          ],
          "name": "stderr"
        },
        {
          "output_type": "stream",
          "text": [
            "n_estimators = 20max_deph = 8max_features = 18min_samples_leaf = 2min_samples_split = 2OOB score is 0.877986446807709\n",
            "------------------------------\n"
          ],
          "name": "stdout"
        },
        {
          "output_type": "stream",
          "text": [
            "/usr/local/lib/python3.6/dist-packages/sklearn/ensemble/_forest.py:815: UserWarning: Some inputs do not have OOB scores. This probably means too few trees were used to compute any reliable oob estimates.\n",
            "  warn(\"Some inputs do not have OOB scores. \"\n"
          ],
          "name": "stderr"
        },
        {
          "output_type": "stream",
          "text": [
            "n_estimators = 20max_deph = 10max_features = 6min_samples_leaf = 2min_samples_split = 2OOB score is 0.8761453405646176\n",
            "------------------------------\n"
          ],
          "name": "stdout"
        },
        {
          "output_type": "stream",
          "text": [
            "/usr/local/lib/python3.6/dist-packages/sklearn/ensemble/_forest.py:815: UserWarning: Some inputs do not have OOB scores. This probably means too few trees were used to compute any reliable oob estimates.\n",
            "  warn(\"Some inputs do not have OOB scores. \"\n"
          ],
          "name": "stderr"
        },
        {
          "output_type": "stream",
          "text": [
            "n_estimators = 20max_deph = 10max_features = 8min_samples_leaf = 2min_samples_split = 2OOB score is 0.8784563883357625\n",
            "------------------------------\n"
          ],
          "name": "stdout"
        },
        {
          "output_type": "stream",
          "text": [
            "/usr/local/lib/python3.6/dist-packages/sklearn/ensemble/_forest.py:815: UserWarning: Some inputs do not have OOB scores. This probably means too few trees were used to compute any reliable oob estimates.\n",
            "  warn(\"Some inputs do not have OOB scores. \"\n"
          ],
          "name": "stderr"
        },
        {
          "output_type": "stream",
          "text": [
            "n_estimators = 20max_deph = 10max_features = 10min_samples_leaf = 2min_samples_split = 2OOB score is 0.8796533616413424\n",
            "------------------------------\n"
          ],
          "name": "stdout"
        },
        {
          "output_type": "stream",
          "text": [
            "/usr/local/lib/python3.6/dist-packages/sklearn/ensemble/_forest.py:815: UserWarning: Some inputs do not have OOB scores. This probably means too few trees were used to compute any reliable oob estimates.\n",
            "  warn(\"Some inputs do not have OOB scores. \"\n"
          ],
          "name": "stderr"
        },
        {
          "output_type": "stream",
          "text": [
            "n_estimators = 20max_deph = 10max_features = 12min_samples_leaf = 2min_samples_split = 2OOB score is 0.8789501921625249\n",
            "------------------------------\n"
          ],
          "name": "stdout"
        },
        {
          "output_type": "stream",
          "text": [
            "/usr/local/lib/python3.6/dist-packages/sklearn/ensemble/_forest.py:815: UserWarning: Some inputs do not have OOB scores. This probably means too few trees were used to compute any reliable oob estimates.\n",
            "  warn(\"Some inputs do not have OOB scores. \"\n"
          ],
          "name": "stderr"
        },
        {
          "output_type": "stream",
          "text": [
            "n_estimators = 20max_deph = 10max_features = 14min_samples_leaf = 2min_samples_split = 2OOB score is 0.87920210290467\n",
            "------------------------------\n"
          ],
          "name": "stdout"
        },
        {
          "output_type": "stream",
          "text": [
            "/usr/local/lib/python3.6/dist-packages/sklearn/ensemble/_forest.py:815: UserWarning: Some inputs do not have OOB scores. This probably means too few trees were used to compute any reliable oob estimates.\n",
            "  warn(\"Some inputs do not have OOB scores. \"\n"
          ],
          "name": "stderr"
        },
        {
          "output_type": "stream",
          "text": [
            "n_estimators = 20max_deph = 10max_features = 16min_samples_leaf = 2min_samples_split = 2OOB score is 0.8786139281821455\n",
            "------------------------------\n"
          ],
          "name": "stdout"
        },
        {
          "output_type": "stream",
          "text": [
            "/usr/local/lib/python3.6/dist-packages/sklearn/ensemble/_forest.py:815: UserWarning: Some inputs do not have OOB scores. This probably means too few trees were used to compute any reliable oob estimates.\n",
            "  warn(\"Some inputs do not have OOB scores. \"\n"
          ],
          "name": "stderr"
        },
        {
          "output_type": "stream",
          "text": [
            "n_estimators = 20max_deph = 10max_features = 18min_samples_leaf = 2min_samples_split = 2OOB score is 0.8818621787735168\n",
            "------------------------------\n"
          ],
          "name": "stdout"
        },
        {
          "output_type": "stream",
          "text": [
            "/usr/local/lib/python3.6/dist-packages/sklearn/ensemble/_forest.py:815: UserWarning: Some inputs do not have OOB scores. This probably means too few trees were used to compute any reliable oob estimates.\n",
            "  warn(\"Some inputs do not have OOB scores. \"\n"
          ],
          "name": "stderr"
        },
        {
          "output_type": "stream",
          "text": [
            "n_estimators = 20max_deph = 12max_features = 6min_samples_leaf = 2min_samples_split = 2OOB score is 0.8762099082848971\n",
            "------------------------------\n"
          ],
          "name": "stdout"
        },
        {
          "output_type": "stream",
          "text": [
            "/usr/local/lib/python3.6/dist-packages/sklearn/ensemble/_forest.py:815: UserWarning: Some inputs do not have OOB scores. This probably means too few trees were used to compute any reliable oob estimates.\n",
            "  warn(\"Some inputs do not have OOB scores. \"\n"
          ],
          "name": "stderr"
        },
        {
          "output_type": "stream",
          "text": [
            "n_estimators = 20max_deph = 12max_features = 8min_samples_leaf = 2min_samples_split = 2OOB score is 0.8783637880207148\n",
            "------------------------------\n"
          ],
          "name": "stdout"
        },
        {
          "output_type": "stream",
          "text": [
            "/usr/local/lib/python3.6/dist-packages/sklearn/ensemble/_forest.py:815: UserWarning: Some inputs do not have OOB scores. This probably means too few trees were used to compute any reliable oob estimates.\n",
            "  warn(\"Some inputs do not have OOB scores. \"\n"
          ],
          "name": "stderr"
        },
        {
          "output_type": "stream",
          "text": [
            "n_estimators = 20max_deph = 12max_features = 10min_samples_leaf = 2min_samples_split = 2OOB score is 0.8771424176006568\n",
            "------------------------------\n"
          ],
          "name": "stdout"
        },
        {
          "output_type": "stream",
          "text": [
            "/usr/local/lib/python3.6/dist-packages/sklearn/ensemble/_forest.py:815: UserWarning: Some inputs do not have OOB scores. This probably means too few trees were used to compute any reliable oob estimates.\n",
            "  warn(\"Some inputs do not have OOB scores. \"\n"
          ],
          "name": "stderr"
        },
        {
          "output_type": "stream",
          "text": [
            "n_estimators = 20max_deph = 12max_features = 12min_samples_leaf = 2min_samples_split = 2OOB score is 0.8773959755774638\n",
            "------------------------------\n"
          ],
          "name": "stdout"
        },
        {
          "output_type": "stream",
          "text": [
            "/usr/local/lib/python3.6/dist-packages/sklearn/ensemble/_forest.py:815: UserWarning: Some inputs do not have OOB scores. This probably means too few trees were used to compute any reliable oob estimates.\n",
            "  warn(\"Some inputs do not have OOB scores. \"\n"
          ],
          "name": "stderr"
        },
        {
          "output_type": "stream",
          "text": [
            "n_estimators = 20max_deph = 12max_features = 14min_samples_leaf = 2min_samples_split = 2OOB score is 0.8788194327499889\n",
            "------------------------------\n"
          ],
          "name": "stdout"
        },
        {
          "output_type": "stream",
          "text": [
            "/usr/local/lib/python3.6/dist-packages/sklearn/ensemble/_forest.py:815: UserWarning: Some inputs do not have OOB scores. This probably means too few trees were used to compute any reliable oob estimates.\n",
            "  warn(\"Some inputs do not have OOB scores. \"\n"
          ],
          "name": "stderr"
        },
        {
          "output_type": "stream",
          "text": [
            "n_estimators = 20max_deph = 12max_features = 16min_samples_leaf = 2min_samples_split = 2OOB score is 0.8785761900700346\n",
            "------------------------------\n"
          ],
          "name": "stdout"
        },
        {
          "output_type": "stream",
          "text": [
            "/usr/local/lib/python3.6/dist-packages/sklearn/ensemble/_forest.py:815: UserWarning: Some inputs do not have OOB scores. This probably means too few trees were used to compute any reliable oob estimates.\n",
            "  warn(\"Some inputs do not have OOB scores. \"\n"
          ],
          "name": "stderr"
        },
        {
          "output_type": "stream",
          "text": [
            "n_estimators = 20max_deph = 12max_features = 18min_samples_leaf = 2min_samples_split = 2OOB score is 0.878153980979834\n",
            "------------------------------\n"
          ],
          "name": "stdout"
        },
        {
          "output_type": "stream",
          "text": [
            "/usr/local/lib/python3.6/dist-packages/sklearn/ensemble/_forest.py:815: UserWarning: Some inputs do not have OOB scores. This probably means too few trees were used to compute any reliable oob estimates.\n",
            "  warn(\"Some inputs do not have OOB scores. \"\n"
          ],
          "name": "stderr"
        },
        {
          "output_type": "stream",
          "text": [
            "n_estimators = 20max_deph = 14max_features = 6min_samples_leaf = 2min_samples_split = 2OOB score is 0.8763623170119792\n",
            "------------------------------\n"
          ],
          "name": "stdout"
        },
        {
          "output_type": "stream",
          "text": [
            "/usr/local/lib/python3.6/dist-packages/sklearn/ensemble/_forest.py:815: UserWarning: Some inputs do not have OOB scores. This probably means too few trees were used to compute any reliable oob estimates.\n",
            "  warn(\"Some inputs do not have OOB scores. \"\n"
          ],
          "name": "stderr"
        },
        {
          "output_type": "stream",
          "text": [
            "n_estimators = 20max_deph = 14max_features = 8min_samples_leaf = 2min_samples_split = 2OOB score is 0.8772686866162621\n",
            "------------------------------\n"
          ],
          "name": "stdout"
        },
        {
          "output_type": "stream",
          "text": [
            "/usr/local/lib/python3.6/dist-packages/sklearn/ensemble/_forest.py:815: UserWarning: Some inputs do not have OOB scores. This probably means too few trees were used to compute any reliable oob estimates.\n",
            "  warn(\"Some inputs do not have OOB scores. \"\n"
          ],
          "name": "stderr"
        },
        {
          "output_type": "stream",
          "text": [
            "n_estimators = 20max_deph = 14max_features = 10min_samples_leaf = 2min_samples_split = 2OOB score is 0.876360096138502\n",
            "------------------------------\n"
          ],
          "name": "stdout"
        },
        {
          "output_type": "stream",
          "text": [
            "/usr/local/lib/python3.6/dist-packages/sklearn/ensemble/_forest.py:815: UserWarning: Some inputs do not have OOB scores. This probably means too few trees were used to compute any reliable oob estimates.\n",
            "  warn(\"Some inputs do not have OOB scores. \"\n"
          ],
          "name": "stderr"
        },
        {
          "output_type": "stream",
          "text": [
            "n_estimators = 20max_deph = 14max_features = 12min_samples_leaf = 2min_samples_split = 2OOB score is 0.8761300998868237\n",
            "------------------------------\n"
          ],
          "name": "stdout"
        },
        {
          "output_type": "stream",
          "text": [
            "/usr/local/lib/python3.6/dist-packages/sklearn/ensemble/_forest.py:815: UserWarning: Some inputs do not have OOB scores. This probably means too few trees were used to compute any reliable oob estimates.\n",
            "  warn(\"Some inputs do not have OOB scores. \"\n"
          ],
          "name": "stderr"
        },
        {
          "output_type": "stream",
          "text": [
            "n_estimators = 20max_deph = 14max_features = 14min_samples_leaf = 2min_samples_split = 2OOB score is 0.876142058553091\n",
            "------------------------------\n"
          ],
          "name": "stdout"
        },
        {
          "output_type": "stream",
          "text": [
            "/usr/local/lib/python3.6/dist-packages/sklearn/ensemble/_forest.py:815: UserWarning: Some inputs do not have OOB scores. This probably means too few trees were used to compute any reliable oob estimates.\n",
            "  warn(\"Some inputs do not have OOB scores. \"\n"
          ],
          "name": "stderr"
        },
        {
          "output_type": "stream",
          "text": [
            "n_estimators = 20max_deph = 14max_features = 16min_samples_leaf = 2min_samples_split = 2OOB score is 0.8760035411590916\n",
            "------------------------------\n"
          ],
          "name": "stdout"
        },
        {
          "output_type": "stream",
          "text": [
            "/usr/local/lib/python3.6/dist-packages/sklearn/ensemble/_forest.py:815: UserWarning: Some inputs do not have OOB scores. This probably means too few trees were used to compute any reliable oob estimates.\n",
            "  warn(\"Some inputs do not have OOB scores. \"\n"
          ],
          "name": "stderr"
        },
        {
          "output_type": "stream",
          "text": [
            "n_estimators = 20max_deph = 14max_features = 18min_samples_leaf = 2min_samples_split = 2OOB score is 0.8764454661793606\n",
            "------------------------------\n"
          ],
          "name": "stdout"
        },
        {
          "output_type": "stream",
          "text": [
            "/usr/local/lib/python3.6/dist-packages/sklearn/ensemble/_forest.py:815: UserWarning: Some inputs do not have OOB scores. This probably means too few trees were used to compute any reliable oob estimates.\n",
            "  warn(\"Some inputs do not have OOB scores. \"\n"
          ],
          "name": "stderr"
        },
        {
          "output_type": "stream",
          "text": [
            "n_estimators = 20max_deph = 16max_features = 6min_samples_leaf = 2min_samples_split = 2OOB score is 0.8732171842050807\n",
            "------------------------------\n"
          ],
          "name": "stdout"
        },
        {
          "output_type": "stream",
          "text": [
            "/usr/local/lib/python3.6/dist-packages/sklearn/ensemble/_forest.py:815: UserWarning: Some inputs do not have OOB scores. This probably means too few trees were used to compute any reliable oob estimates.\n",
            "  warn(\"Some inputs do not have OOB scores. \"\n"
          ],
          "name": "stderr"
        },
        {
          "output_type": "stream",
          "text": [
            "n_estimators = 20max_deph = 16max_features = 8min_samples_leaf = 2min_samples_split = 2OOB score is 0.8750892406430949\n",
            "------------------------------\n"
          ],
          "name": "stdout"
        },
        {
          "output_type": "stream",
          "text": [
            "/usr/local/lib/python3.6/dist-packages/sklearn/ensemble/_forest.py:815: UserWarning: Some inputs do not have OOB scores. This probably means too few trees were used to compute any reliable oob estimates.\n",
            "  warn(\"Some inputs do not have OOB scores. \"\n"
          ],
          "name": "stderr"
        },
        {
          "output_type": "stream",
          "text": [
            "n_estimators = 20max_deph = 16max_features = 10min_samples_leaf = 2min_samples_split = 2OOB score is 0.8772416581123862\n",
            "------------------------------\n"
          ],
          "name": "stdout"
        },
        {
          "output_type": "stream",
          "text": [
            "/usr/local/lib/python3.6/dist-packages/sklearn/ensemble/_forest.py:815: UserWarning: Some inputs do not have OOB scores. This probably means too few trees were used to compute any reliable oob estimates.\n",
            "  warn(\"Some inputs do not have OOB scores. \"\n"
          ],
          "name": "stderr"
        },
        {
          "output_type": "stream",
          "text": [
            "n_estimators = 20max_deph = 16max_features = 12min_samples_leaf = 2min_samples_split = 2OOB score is 0.875450637385626\n",
            "------------------------------\n"
          ],
          "name": "stdout"
        },
        {
          "output_type": "stream",
          "text": [
            "/usr/local/lib/python3.6/dist-packages/sklearn/ensemble/_forest.py:815: UserWarning: Some inputs do not have OOB scores. This probably means too few trees were used to compute any reliable oob estimates.\n",
            "  warn(\"Some inputs do not have OOB scores. \"\n"
          ],
          "name": "stderr"
        },
        {
          "output_type": "stream",
          "text": [
            "n_estimators = 20max_deph = 16max_features = 14min_samples_leaf = 2min_samples_split = 2OOB score is 0.8752997207629196\n",
            "------------------------------\n"
          ],
          "name": "stdout"
        },
        {
          "output_type": "stream",
          "text": [
            "/usr/local/lib/python3.6/dist-packages/sklearn/ensemble/_forest.py:815: UserWarning: Some inputs do not have OOB scores. This probably means too few trees were used to compute any reliable oob estimates.\n",
            "  warn(\"Some inputs do not have OOB scores. \"\n"
          ],
          "name": "stderr"
        },
        {
          "output_type": "stream",
          "text": [
            "n_estimators = 20max_deph = 16max_features = 16min_samples_leaf = 2min_samples_split = 2OOB score is 0.8754244153553145\n",
            "------------------------------\n"
          ],
          "name": "stdout"
        },
        {
          "output_type": "stream",
          "text": [
            "/usr/local/lib/python3.6/dist-packages/sklearn/ensemble/_forest.py:815: UserWarning: Some inputs do not have OOB scores. This probably means too few trees were used to compute any reliable oob estimates.\n",
            "  warn(\"Some inputs do not have OOB scores. \"\n"
          ],
          "name": "stderr"
        },
        {
          "output_type": "stream",
          "text": [
            "n_estimators = 20max_deph = 16max_features = 18min_samples_leaf = 2min_samples_split = 2OOB score is 0.8750131696505921\n",
            "------------------------------\n"
          ],
          "name": "stdout"
        },
        {
          "output_type": "stream",
          "text": [
            "/usr/local/lib/python3.6/dist-packages/sklearn/ensemble/_forest.py:815: UserWarning: Some inputs do not have OOB scores. This probably means too few trees were used to compute any reliable oob estimates.\n",
            "  warn(\"Some inputs do not have OOB scores. \"\n"
          ],
          "name": "stderr"
        },
        {
          "output_type": "stream",
          "text": [
            "n_estimators = 20max_deph = 18max_features = 6min_samples_leaf = 2min_samples_split = 2OOB score is 0.8728204077138642\n",
            "------------------------------\n"
          ],
          "name": "stdout"
        },
        {
          "output_type": "stream",
          "text": [
            "/usr/local/lib/python3.6/dist-packages/sklearn/ensemble/_forest.py:815: UserWarning: Some inputs do not have OOB scores. This probably means too few trees were used to compute any reliable oob estimates.\n",
            "  warn(\"Some inputs do not have OOB scores. \"\n"
          ],
          "name": "stderr"
        },
        {
          "output_type": "stream",
          "text": [
            "n_estimators = 20max_deph = 18max_features = 8min_samples_leaf = 2min_samples_split = 2OOB score is 0.8746743310553599\n",
            "------------------------------\n"
          ],
          "name": "stdout"
        },
        {
          "output_type": "stream",
          "text": [
            "/usr/local/lib/python3.6/dist-packages/sklearn/ensemble/_forest.py:815: UserWarning: Some inputs do not have OOB scores. This probably means too few trees were used to compute any reliable oob estimates.\n",
            "  warn(\"Some inputs do not have OOB scores. \"\n"
          ],
          "name": "stderr"
        },
        {
          "output_type": "stream",
          "text": [
            "n_estimators = 20max_deph = 18max_features = 10min_samples_leaf = 2min_samples_split = 2OOB score is 0.8751308829261527\n",
            "------------------------------\n"
          ],
          "name": "stdout"
        },
        {
          "output_type": "stream",
          "text": [
            "/usr/local/lib/python3.6/dist-packages/sklearn/ensemble/_forest.py:815: UserWarning: Some inputs do not have OOB scores. This probably means too few trees were used to compute any reliable oob estimates.\n",
            "  warn(\"Some inputs do not have OOB scores. \"\n"
          ],
          "name": "stderr"
        },
        {
          "output_type": "stream",
          "text": [
            "n_estimators = 20max_deph = 18max_features = 12min_samples_leaf = 2min_samples_split = 2OOB score is 0.8751141818266311\n",
            "------------------------------\n"
          ],
          "name": "stdout"
        },
        {
          "output_type": "stream",
          "text": [
            "/usr/local/lib/python3.6/dist-packages/sklearn/ensemble/_forest.py:815: UserWarning: Some inputs do not have OOB scores. This probably means too few trees were used to compute any reliable oob estimates.\n",
            "  warn(\"Some inputs do not have OOB scores. \"\n"
          ],
          "name": "stderr"
        },
        {
          "output_type": "stream",
          "text": [
            "n_estimators = 20max_deph = 18max_features = 14min_samples_leaf = 2min_samples_split = 2OOB score is 0.8741385953934113\n",
            "------------------------------\n"
          ],
          "name": "stdout"
        },
        {
          "output_type": "stream",
          "text": [
            "/usr/local/lib/python3.6/dist-packages/sklearn/ensemble/_forest.py:815: UserWarning: Some inputs do not have OOB scores. This probably means too few trees were used to compute any reliable oob estimates.\n",
            "  warn(\"Some inputs do not have OOB scores. \"\n"
          ],
          "name": "stderr"
        },
        {
          "output_type": "stream",
          "text": [
            "n_estimators = 20max_deph = 18max_features = 16min_samples_leaf = 2min_samples_split = 2OOB score is 0.8735354571803228\n",
            "------------------------------\n"
          ],
          "name": "stdout"
        },
        {
          "output_type": "stream",
          "text": [
            "/usr/local/lib/python3.6/dist-packages/sklearn/ensemble/_forest.py:815: UserWarning: Some inputs do not have OOB scores. This probably means too few trees were used to compute any reliable oob estimates.\n",
            "  warn(\"Some inputs do not have OOB scores. \"\n"
          ],
          "name": "stderr"
        },
        {
          "output_type": "stream",
          "text": [
            "n_estimators = 20max_deph = 18max_features = 18min_samples_leaf = 2min_samples_split = 2OOB score is 0.8729923177748029\n",
            "------------------------------\n"
          ],
          "name": "stdout"
        },
        {
          "output_type": "stream",
          "text": [
            "/usr/local/lib/python3.6/dist-packages/sklearn/ensemble/_forest.py:815: UserWarning: Some inputs do not have OOB scores. This probably means too few trees were used to compute any reliable oob estimates.\n",
            "  warn(\"Some inputs do not have OOB scores. \"\n"
          ],
          "name": "stderr"
        },
        {
          "output_type": "stream",
          "text": [
            "n_estimators = 22max_deph = 6max_features = 6min_samples_leaf = 2min_samples_split = 2OOB score is 0.8590808377449031\n",
            "------------------------------\n"
          ],
          "name": "stdout"
        },
        {
          "output_type": "stream",
          "text": [
            "/usr/local/lib/python3.6/dist-packages/sklearn/ensemble/_forest.py:815: UserWarning: Some inputs do not have OOB scores. This probably means too few trees were used to compute any reliable oob estimates.\n",
            "  warn(\"Some inputs do not have OOB scores. \"\n"
          ],
          "name": "stderr"
        },
        {
          "output_type": "stream",
          "text": [
            "n_estimators = 22max_deph = 6max_features = 8min_samples_leaf = 2min_samples_split = 2OOB score is 0.8622385210069137\n",
            "------------------------------\n"
          ],
          "name": "stdout"
        },
        {
          "output_type": "stream",
          "text": [
            "/usr/local/lib/python3.6/dist-packages/sklearn/ensemble/_forest.py:815: UserWarning: Some inputs do not have OOB scores. This probably means too few trees were used to compute any reliable oob estimates.\n",
            "  warn(\"Some inputs do not have OOB scores. \"\n"
          ],
          "name": "stderr"
        },
        {
          "output_type": "stream",
          "text": [
            "n_estimators = 22max_deph = 6max_features = 10min_samples_leaf = 2min_samples_split = 2OOB score is 0.86360645350182\n",
            "------------------------------\n"
          ],
          "name": "stdout"
        },
        {
          "output_type": "stream",
          "text": [
            "/usr/local/lib/python3.6/dist-packages/sklearn/ensemble/_forest.py:815: UserWarning: Some inputs do not have OOB scores. This probably means too few trees were used to compute any reliable oob estimates.\n",
            "  warn(\"Some inputs do not have OOB scores. \"\n"
          ],
          "name": "stderr"
        },
        {
          "output_type": "stream",
          "text": [
            "n_estimators = 22max_deph = 6max_features = 12min_samples_leaf = 2min_samples_split = 2OOB score is 0.8649198107029047\n",
            "------------------------------\n"
          ],
          "name": "stdout"
        },
        {
          "output_type": "stream",
          "text": [
            "/usr/local/lib/python3.6/dist-packages/sklearn/ensemble/_forest.py:815: UserWarning: Some inputs do not have OOB scores. This probably means too few trees were used to compute any reliable oob estimates.\n",
            "  warn(\"Some inputs do not have OOB scores. \"\n"
          ],
          "name": "stderr"
        },
        {
          "output_type": "stream",
          "text": [
            "n_estimators = 22max_deph = 6max_features = 14min_samples_leaf = 2min_samples_split = 2OOB score is 0.8669888464539588\n",
            "------------------------------\n"
          ],
          "name": "stdout"
        },
        {
          "output_type": "stream",
          "text": [
            "/usr/local/lib/python3.6/dist-packages/sklearn/ensemble/_forest.py:815: UserWarning: Some inputs do not have OOB scores. This probably means too few trees were used to compute any reliable oob estimates.\n",
            "  warn(\"Some inputs do not have OOB scores. \"\n"
          ],
          "name": "stderr"
        },
        {
          "output_type": "stream",
          "text": [
            "n_estimators = 22max_deph = 6max_features = 16min_samples_leaf = 2min_samples_split = 2OOB score is 0.868329658305883\n",
            "------------------------------\n"
          ],
          "name": "stdout"
        },
        {
          "output_type": "stream",
          "text": [
            "/usr/local/lib/python3.6/dist-packages/sklearn/ensemble/_forest.py:815: UserWarning: Some inputs do not have OOB scores. This probably means too few trees were used to compute any reliable oob estimates.\n",
            "  warn(\"Some inputs do not have OOB scores. \"\n"
          ],
          "name": "stderr"
        },
        {
          "output_type": "stream",
          "text": [
            "n_estimators = 22max_deph = 6max_features = 18min_samples_leaf = 2min_samples_split = 2OOB score is 0.8671463296880122\n",
            "------------------------------\n"
          ],
          "name": "stdout"
        },
        {
          "output_type": "stream",
          "text": [
            "/usr/local/lib/python3.6/dist-packages/sklearn/ensemble/_forest.py:815: UserWarning: Some inputs do not have OOB scores. This probably means too few trees were used to compute any reliable oob estimates.\n",
            "  warn(\"Some inputs do not have OOB scores. \"\n"
          ],
          "name": "stderr"
        },
        {
          "output_type": "stream",
          "text": [
            "n_estimators = 22max_deph = 8max_features = 6min_samples_leaf = 2min_samples_split = 2OOB score is 0.8724152216381482\n",
            "------------------------------\n"
          ],
          "name": "stdout"
        },
        {
          "output_type": "stream",
          "text": [
            "/usr/local/lib/python3.6/dist-packages/sklearn/ensemble/_forest.py:815: UserWarning: Some inputs do not have OOB scores. This probably means too few trees were used to compute any reliable oob estimates.\n",
            "  warn(\"Some inputs do not have OOB scores. \"\n"
          ],
          "name": "stderr"
        },
        {
          "output_type": "stream",
          "text": [
            "n_estimators = 22max_deph = 8max_features = 8min_samples_leaf = 2min_samples_split = 2OOB score is 0.87590444385039\n",
            "------------------------------\n"
          ],
          "name": "stdout"
        },
        {
          "output_type": "stream",
          "text": [
            "/usr/local/lib/python3.6/dist-packages/sklearn/ensemble/_forest.py:815: UserWarning: Some inputs do not have OOB scores. This probably means too few trees were used to compute any reliable oob estimates.\n",
            "  warn(\"Some inputs do not have OOB scores. \"\n"
          ],
          "name": "stderr"
        },
        {
          "output_type": "stream",
          "text": [
            "n_estimators = 22max_deph = 8max_features = 10min_samples_leaf = 2min_samples_split = 2OOB score is 0.8751184823444822\n",
            "------------------------------\n"
          ],
          "name": "stdout"
        },
        {
          "output_type": "stream",
          "text": [
            "/usr/local/lib/python3.6/dist-packages/sklearn/ensemble/_forest.py:815: UserWarning: Some inputs do not have OOB scores. This probably means too few trees were used to compute any reliable oob estimates.\n",
            "  warn(\"Some inputs do not have OOB scores. \"\n"
          ],
          "name": "stderr"
        },
        {
          "output_type": "stream",
          "text": [
            "n_estimators = 22max_deph = 8max_features = 12min_samples_leaf = 2min_samples_split = 2OOB score is 0.8778922813353717\n",
            "------------------------------\n"
          ],
          "name": "stdout"
        },
        {
          "output_type": "stream",
          "text": [
            "/usr/local/lib/python3.6/dist-packages/sklearn/ensemble/_forest.py:815: UserWarning: Some inputs do not have OOB scores. This probably means too few trees were used to compute any reliable oob estimates.\n",
            "  warn(\"Some inputs do not have OOB scores. \"\n"
          ],
          "name": "stderr"
        },
        {
          "output_type": "stream",
          "text": [
            "n_estimators = 22max_deph = 8max_features = 14min_samples_leaf = 2min_samples_split = 2OOB score is 0.8775860092138555\n",
            "------------------------------\n"
          ],
          "name": "stdout"
        },
        {
          "output_type": "stream",
          "text": [
            "/usr/local/lib/python3.6/dist-packages/sklearn/ensemble/_forest.py:815: UserWarning: Some inputs do not have OOB scores. This probably means too few trees were used to compute any reliable oob estimates.\n",
            "  warn(\"Some inputs do not have OOB scores. \"\n"
          ],
          "name": "stderr"
        },
        {
          "output_type": "stream",
          "text": [
            "n_estimators = 22max_deph = 8max_features = 16min_samples_leaf = 2min_samples_split = 2OOB score is 0.8787556760623881\n",
            "------------------------------\n"
          ],
          "name": "stdout"
        },
        {
          "output_type": "stream",
          "text": [
            "/usr/local/lib/python3.6/dist-packages/sklearn/ensemble/_forest.py:815: UserWarning: Some inputs do not have OOB scores. This probably means too few trees were used to compute any reliable oob estimates.\n",
            "  warn(\"Some inputs do not have OOB scores. \"\n"
          ],
          "name": "stderr"
        },
        {
          "output_type": "stream",
          "text": [
            "n_estimators = 22max_deph = 8max_features = 18min_samples_leaf = 2min_samples_split = 2OOB score is 0.8788046633468578\n",
            "------------------------------\n"
          ],
          "name": "stdout"
        },
        {
          "output_type": "stream",
          "text": [
            "/usr/local/lib/python3.6/dist-packages/sklearn/ensemble/_forest.py:815: UserWarning: Some inputs do not have OOB scores. This probably means too few trees were used to compute any reliable oob estimates.\n",
            "  warn(\"Some inputs do not have OOB scores. \"\n"
          ],
          "name": "stderr"
        },
        {
          "output_type": "stream",
          "text": [
            "n_estimators = 22max_deph = 10max_features = 6min_samples_leaf = 2min_samples_split = 2OOB score is 0.8772553320023732\n",
            "------------------------------\n"
          ],
          "name": "stdout"
        },
        {
          "output_type": "stream",
          "text": [
            "/usr/local/lib/python3.6/dist-packages/sklearn/ensemble/_forest.py:815: UserWarning: Some inputs do not have OOB scores. This probably means too few trees were used to compute any reliable oob estimates.\n",
            "  warn(\"Some inputs do not have OOB scores. \"\n"
          ],
          "name": "stderr"
        },
        {
          "output_type": "stream",
          "text": [
            "n_estimators = 22max_deph = 10max_features = 8min_samples_leaf = 2min_samples_split = 2OOB score is 0.8796167189479441\n",
            "------------------------------\n"
          ],
          "name": "stdout"
        },
        {
          "output_type": "stream",
          "text": [
            "/usr/local/lib/python3.6/dist-packages/sklearn/ensemble/_forest.py:815: UserWarning: Some inputs do not have OOB scores. This probably means too few trees were used to compute any reliable oob estimates.\n",
            "  warn(\"Some inputs do not have OOB scores. \"\n"
          ],
          "name": "stderr"
        },
        {
          "output_type": "stream",
          "text": [
            "n_estimators = 22max_deph = 10max_features = 10min_samples_leaf = 2min_samples_split = 2OOB score is 0.8808201274806263\n",
            "------------------------------\n"
          ],
          "name": "stdout"
        },
        {
          "output_type": "stream",
          "text": [
            "/usr/local/lib/python3.6/dist-packages/sklearn/ensemble/_forest.py:815: UserWarning: Some inputs do not have OOB scores. This probably means too few trees were used to compute any reliable oob estimates.\n",
            "  warn(\"Some inputs do not have OOB scores. \"\n"
          ],
          "name": "stderr"
        },
        {
          "output_type": "stream",
          "text": [
            "n_estimators = 22max_deph = 10max_features = 12min_samples_leaf = 2min_samples_split = 2OOB score is 0.8802843930825008\n",
            "------------------------------\n"
          ],
          "name": "stdout"
        },
        {
          "output_type": "stream",
          "text": [
            "/usr/local/lib/python3.6/dist-packages/sklearn/ensemble/_forest.py:815: UserWarning: Some inputs do not have OOB scores. This probably means too few trees were used to compute any reliable oob estimates.\n",
            "  warn(\"Some inputs do not have OOB scores. \"\n"
          ],
          "name": "stderr"
        },
        {
          "output_type": "stream",
          "text": [
            "n_estimators = 22max_deph = 10max_features = 14min_samples_leaf = 2min_samples_split = 2OOB score is 0.8806095057315093\n",
            "------------------------------\n"
          ],
          "name": "stdout"
        },
        {
          "output_type": "stream",
          "text": [
            "/usr/local/lib/python3.6/dist-packages/sklearn/ensemble/_forest.py:815: UserWarning: Some inputs do not have OOB scores. This probably means too few trees were used to compute any reliable oob estimates.\n",
            "  warn(\"Some inputs do not have OOB scores. \"\n"
          ],
          "name": "stderr"
        },
        {
          "output_type": "stream",
          "text": [
            "n_estimators = 22max_deph = 10max_features = 16min_samples_leaf = 2min_samples_split = 2OOB score is 0.8801208459637354\n",
            "------------------------------\n"
          ],
          "name": "stdout"
        },
        {
          "output_type": "stream",
          "text": [
            "/usr/local/lib/python3.6/dist-packages/sklearn/ensemble/_forest.py:815: UserWarning: Some inputs do not have OOB scores. This probably means too few trees were used to compute any reliable oob estimates.\n",
            "  warn(\"Some inputs do not have OOB scores. \"\n"
          ],
          "name": "stderr"
        },
        {
          "output_type": "stream",
          "text": [
            "n_estimators = 22max_deph = 10max_features = 18min_samples_leaf = 2min_samples_split = 2OOB score is 0.8825385511408979\n",
            "------------------------------\n"
          ],
          "name": "stdout"
        },
        {
          "output_type": "stream",
          "text": [
            "/usr/local/lib/python3.6/dist-packages/sklearn/ensemble/_forest.py:815: UserWarning: Some inputs do not have OOB scores. This probably means too few trees were used to compute any reliable oob estimates.\n",
            "  warn(\"Some inputs do not have OOB scores. \"\n"
          ],
          "name": "stderr"
        },
        {
          "output_type": "stream",
          "text": [
            "n_estimators = 22max_deph = 12max_features = 6min_samples_leaf = 2min_samples_split = 2OOB score is 0.8774202013455117\n",
            "------------------------------\n"
          ],
          "name": "stdout"
        },
        {
          "output_type": "stream",
          "text": [
            "/usr/local/lib/python3.6/dist-packages/sklearn/ensemble/_forest.py:815: UserWarning: Some inputs do not have OOB scores. This probably means too few trees were used to compute any reliable oob estimates.\n",
            "  warn(\"Some inputs do not have OOB scores. \"\n"
          ],
          "name": "stderr"
        },
        {
          "output_type": "stream",
          "text": [
            "n_estimators = 22max_deph = 12max_features = 8min_samples_leaf = 2min_samples_split = 2OOB score is 0.8800343662432688\n",
            "------------------------------\n"
          ],
          "name": "stdout"
        },
        {
          "output_type": "stream",
          "text": [
            "/usr/local/lib/python3.6/dist-packages/sklearn/ensemble/_forest.py:815: UserWarning: Some inputs do not have OOB scores. This probably means too few trees were used to compute any reliable oob estimates.\n",
            "  warn(\"Some inputs do not have OOB scores. \"\n"
          ],
          "name": "stderr"
        },
        {
          "output_type": "stream",
          "text": [
            "n_estimators = 22max_deph = 12max_features = 10min_samples_leaf = 2min_samples_split = 2OOB score is 0.8786989934865821\n",
            "------------------------------\n"
          ],
          "name": "stdout"
        },
        {
          "output_type": "stream",
          "text": [
            "/usr/local/lib/python3.6/dist-packages/sklearn/ensemble/_forest.py:815: UserWarning: Some inputs do not have OOB scores. This probably means too few trees were used to compute any reliable oob estimates.\n",
            "  warn(\"Some inputs do not have OOB scores. \"\n"
          ],
          "name": "stderr"
        },
        {
          "output_type": "stream",
          "text": [
            "n_estimators = 22max_deph = 12max_features = 12min_samples_leaf = 2min_samples_split = 2OOB score is 0.8782676684347492\n",
            "------------------------------\n"
          ],
          "name": "stdout"
        },
        {
          "output_type": "stream",
          "text": [
            "/usr/local/lib/python3.6/dist-packages/sklearn/ensemble/_forest.py:815: UserWarning: Some inputs do not have OOB scores. This probably means too few trees were used to compute any reliable oob estimates.\n",
            "  warn(\"Some inputs do not have OOB scores. \"\n"
          ],
          "name": "stderr"
        },
        {
          "output_type": "stream",
          "text": [
            "n_estimators = 22max_deph = 12max_features = 14min_samples_leaf = 2min_samples_split = 2OOB score is 0.8798173810311407\n",
            "------------------------------\n"
          ],
          "name": "stdout"
        },
        {
          "output_type": "stream",
          "text": [
            "/usr/local/lib/python3.6/dist-packages/sklearn/ensemble/_forest.py:815: UserWarning: Some inputs do not have OOB scores. This probably means too few trees were used to compute any reliable oob estimates.\n",
            "  warn(\"Some inputs do not have OOB scores. \"\n"
          ],
          "name": "stderr"
        },
        {
          "output_type": "stream",
          "text": [
            "n_estimators = 22max_deph = 12max_features = 16min_samples_leaf = 2min_samples_split = 2OOB score is 0.8799821363431001\n",
            "------------------------------\n"
          ],
          "name": "stdout"
        },
        {
          "output_type": "stream",
          "text": [
            "/usr/local/lib/python3.6/dist-packages/sklearn/ensemble/_forest.py:815: UserWarning: Some inputs do not have OOB scores. This probably means too few trees were used to compute any reliable oob estimates.\n",
            "  warn(\"Some inputs do not have OOB scores. \"\n"
          ],
          "name": "stderr"
        },
        {
          "output_type": "stream",
          "text": [
            "n_estimators = 22max_deph = 12max_features = 18min_samples_leaf = 2min_samples_split = 2OOB score is 0.8797799720255907\n",
            "------------------------------\n"
          ],
          "name": "stdout"
        },
        {
          "output_type": "stream",
          "text": [
            "/usr/local/lib/python3.6/dist-packages/sklearn/ensemble/_forest.py:815: UserWarning: Some inputs do not have OOB scores. This probably means too few trees were used to compute any reliable oob estimates.\n",
            "  warn(\"Some inputs do not have OOB scores. \"\n"
          ],
          "name": "stderr"
        },
        {
          "output_type": "stream",
          "text": [
            "n_estimators = 22max_deph = 14max_features = 6min_samples_leaf = 2min_samples_split = 2OOB score is 0.8777571291714769\n",
            "------------------------------\n"
          ],
          "name": "stdout"
        },
        {
          "output_type": "stream",
          "text": [
            "/usr/local/lib/python3.6/dist-packages/sklearn/ensemble/_forest.py:815: UserWarning: Some inputs do not have OOB scores. This probably means too few trees were used to compute any reliable oob estimates.\n",
            "  warn(\"Some inputs do not have OOB scores. \"\n"
          ],
          "name": "stderr"
        },
        {
          "output_type": "stream",
          "text": [
            "n_estimators = 22max_deph = 14max_features = 8min_samples_leaf = 2min_samples_split = 2OOB score is 0.8786073882971381\n",
            "------------------------------\n"
          ],
          "name": "stdout"
        },
        {
          "output_type": "stream",
          "text": [
            "/usr/local/lib/python3.6/dist-packages/sklearn/ensemble/_forest.py:815: UserWarning: Some inputs do not have OOB scores. This probably means too few trees were used to compute any reliable oob estimates.\n",
            "  warn(\"Some inputs do not have OOB scores. \"\n"
          ],
          "name": "stderr"
        },
        {
          "output_type": "stream",
          "text": [
            "n_estimators = 22max_deph = 14max_features = 10min_samples_leaf = 2min_samples_split = 2OOB score is 0.8778888838746528\n",
            "------------------------------\n"
          ],
          "name": "stdout"
        },
        {
          "output_type": "stream",
          "text": [
            "/usr/local/lib/python3.6/dist-packages/sklearn/ensemble/_forest.py:815: UserWarning: Some inputs do not have OOB scores. This probably means too few trees were used to compute any reliable oob estimates.\n",
            "  warn(\"Some inputs do not have OOB scores. \"\n"
          ],
          "name": "stderr"
        },
        {
          "output_type": "stream",
          "text": [
            "n_estimators = 22max_deph = 14max_features = 12min_samples_leaf = 2min_samples_split = 2OOB score is 0.8776609745549157\n",
            "------------------------------\n"
          ],
          "name": "stdout"
        },
        {
          "output_type": "stream",
          "text": [
            "/usr/local/lib/python3.6/dist-packages/sklearn/ensemble/_forest.py:815: UserWarning: Some inputs do not have OOB scores. This probably means too few trees were used to compute any reliable oob estimates.\n",
            "  warn(\"Some inputs do not have OOB scores. \"\n"
          ],
          "name": "stderr"
        },
        {
          "output_type": "stream",
          "text": [
            "n_estimators = 22max_deph = 14max_features = 14min_samples_leaf = 2min_samples_split = 2OOB score is 0.8778881441700269\n",
            "------------------------------\n"
          ],
          "name": "stdout"
        },
        {
          "output_type": "stream",
          "text": [
            "/usr/local/lib/python3.6/dist-packages/sklearn/ensemble/_forest.py:815: UserWarning: Some inputs do not have OOB scores. This probably means too few trees were used to compute any reliable oob estimates.\n",
            "  warn(\"Some inputs do not have OOB scores. \"\n"
          ],
          "name": "stderr"
        },
        {
          "output_type": "stream",
          "text": [
            "n_estimators = 22max_deph = 14max_features = 16min_samples_leaf = 2min_samples_split = 2OOB score is 0.8777716256665223\n",
            "------------------------------\n"
          ],
          "name": "stdout"
        },
        {
          "output_type": "stream",
          "text": [
            "/usr/local/lib/python3.6/dist-packages/sklearn/ensemble/_forest.py:815: UserWarning: Some inputs do not have OOB scores. This probably means too few trees were used to compute any reliable oob estimates.\n",
            "  warn(\"Some inputs do not have OOB scores. \"\n"
          ],
          "name": "stderr"
        },
        {
          "output_type": "stream",
          "text": [
            "n_estimators = 22max_deph = 14max_features = 18min_samples_leaf = 2min_samples_split = 2OOB score is 0.877809584174741\n",
            "------------------------------\n"
          ],
          "name": "stdout"
        },
        {
          "output_type": "stream",
          "text": [
            "/usr/local/lib/python3.6/dist-packages/sklearn/ensemble/_forest.py:815: UserWarning: Some inputs do not have OOB scores. This probably means too few trees were used to compute any reliable oob estimates.\n",
            "  warn(\"Some inputs do not have OOB scores. \"\n"
          ],
          "name": "stderr"
        },
        {
          "output_type": "stream",
          "text": [
            "n_estimators = 22max_deph = 16max_features = 6min_samples_leaf = 2min_samples_split = 2OOB score is 0.8750323268632211\n",
            "------------------------------\n"
          ],
          "name": "stdout"
        },
        {
          "output_type": "stream",
          "text": [
            "/usr/local/lib/python3.6/dist-packages/sklearn/ensemble/_forest.py:815: UserWarning: Some inputs do not have OOB scores. This probably means too few trees were used to compute any reliable oob estimates.\n",
            "  warn(\"Some inputs do not have OOB scores. \"\n"
          ],
          "name": "stderr"
        },
        {
          "output_type": "stream",
          "text": [
            "n_estimators = 22max_deph = 16max_features = 8min_samples_leaf = 2min_samples_split = 2OOB score is 0.8765532379939982\n",
            "------------------------------\n"
          ],
          "name": "stdout"
        },
        {
          "output_type": "stream",
          "text": [
            "/usr/local/lib/python3.6/dist-packages/sklearn/ensemble/_forest.py:815: UserWarning: Some inputs do not have OOB scores. This probably means too few trees were used to compute any reliable oob estimates.\n",
            "  warn(\"Some inputs do not have OOB scores. \"\n"
          ],
          "name": "stderr"
        },
        {
          "output_type": "stream",
          "text": [
            "n_estimators = 22max_deph = 16max_features = 10min_samples_leaf = 2min_samples_split = 2OOB score is 0.8785628318708711\n",
            "------------------------------\n"
          ],
          "name": "stdout"
        },
        {
          "output_type": "stream",
          "text": [
            "/usr/local/lib/python3.6/dist-packages/sklearn/ensemble/_forest.py:815: UserWarning: Some inputs do not have OOB scores. This probably means too few trees were used to compute any reliable oob estimates.\n",
            "  warn(\"Some inputs do not have OOB scores. \"\n"
          ],
          "name": "stderr"
        },
        {
          "output_type": "stream",
          "text": [
            "n_estimators = 22max_deph = 16max_features = 12min_samples_leaf = 2min_samples_split = 2OOB score is 0.8778146211964925\n",
            "------------------------------\n"
          ],
          "name": "stdout"
        },
        {
          "output_type": "stream",
          "text": [
            "/usr/local/lib/python3.6/dist-packages/sklearn/ensemble/_forest.py:815: UserWarning: Some inputs do not have OOB scores. This probably means too few trees were used to compute any reliable oob estimates.\n",
            "  warn(\"Some inputs do not have OOB scores. \"\n"
          ],
          "name": "stderr"
        },
        {
          "output_type": "stream",
          "text": [
            "n_estimators = 22max_deph = 16max_features = 14min_samples_leaf = 2min_samples_split = 2OOB score is 0.8769727808404891\n",
            "------------------------------\n"
          ],
          "name": "stdout"
        },
        {
          "output_type": "stream",
          "text": [
            "/usr/local/lib/python3.6/dist-packages/sklearn/ensemble/_forest.py:815: UserWarning: Some inputs do not have OOB scores. This probably means too few trees were used to compute any reliable oob estimates.\n",
            "  warn(\"Some inputs do not have OOB scores. \"\n"
          ],
          "name": "stderr"
        },
        {
          "output_type": "stream",
          "text": [
            "n_estimators = 22max_deph = 16max_features = 16min_samples_leaf = 2min_samples_split = 2OOB score is 0.8768439956442553\n",
            "------------------------------\n"
          ],
          "name": "stdout"
        },
        {
          "output_type": "stream",
          "text": [
            "/usr/local/lib/python3.6/dist-packages/sklearn/ensemble/_forest.py:815: UserWarning: Some inputs do not have OOB scores. This probably means too few trees were used to compute any reliable oob estimates.\n",
            "  warn(\"Some inputs do not have OOB scores. \"\n"
          ],
          "name": "stderr"
        },
        {
          "output_type": "stream",
          "text": [
            "n_estimators = 22max_deph = 16max_features = 18min_samples_leaf = 2min_samples_split = 2OOB score is 0.8769925273022546\n",
            "------------------------------\n"
          ],
          "name": "stdout"
        },
        {
          "output_type": "stream",
          "text": [
            "/usr/local/lib/python3.6/dist-packages/sklearn/ensemble/_forest.py:815: UserWarning: Some inputs do not have OOB scores. This probably means too few trees were used to compute any reliable oob estimates.\n",
            "  warn(\"Some inputs do not have OOB scores. \"\n"
          ],
          "name": "stderr"
        },
        {
          "output_type": "stream",
          "text": [
            "n_estimators = 22max_deph = 18max_features = 6min_samples_leaf = 2min_samples_split = 2OOB score is 0.874952473987046\n",
            "------------------------------\n"
          ],
          "name": "stdout"
        },
        {
          "output_type": "stream",
          "text": [
            "/usr/local/lib/python3.6/dist-packages/sklearn/ensemble/_forest.py:815: UserWarning: Some inputs do not have OOB scores. This probably means too few trees were used to compute any reliable oob estimates.\n",
            "  warn(\"Some inputs do not have OOB scores. \"\n"
          ],
          "name": "stderr"
        },
        {
          "output_type": "stream",
          "text": [
            "n_estimators = 22max_deph = 18max_features = 8min_samples_leaf = 2min_samples_split = 2OOB score is 0.8764826753374905\n",
            "------------------------------\n"
          ],
          "name": "stdout"
        },
        {
          "output_type": "stream",
          "text": [
            "/usr/local/lib/python3.6/dist-packages/sklearn/ensemble/_forest.py:815: UserWarning: Some inputs do not have OOB scores. This probably means too few trees were used to compute any reliable oob estimates.\n",
            "  warn(\"Some inputs do not have OOB scores. \"\n"
          ],
          "name": "stderr"
        },
        {
          "output_type": "stream",
          "text": [
            "n_estimators = 22max_deph = 18max_features = 10min_samples_leaf = 2min_samples_split = 2OOB score is 0.8766652945644259\n",
            "------------------------------\n"
          ],
          "name": "stdout"
        },
        {
          "output_type": "stream",
          "text": [
            "/usr/local/lib/python3.6/dist-packages/sklearn/ensemble/_forest.py:815: UserWarning: Some inputs do not have OOB scores. This probably means too few trees were used to compute any reliable oob estimates.\n",
            "  warn(\"Some inputs do not have OOB scores. \"\n"
          ],
          "name": "stderr"
        },
        {
          "output_type": "stream",
          "text": [
            "n_estimators = 22max_deph = 18max_features = 12min_samples_leaf = 2min_samples_split = 2OOB score is 0.8771324270592481\n",
            "------------------------------\n"
          ],
          "name": "stdout"
        },
        {
          "output_type": "stream",
          "text": [
            "/usr/local/lib/python3.6/dist-packages/sklearn/ensemble/_forest.py:815: UserWarning: Some inputs do not have OOB scores. This probably means too few trees were used to compute any reliable oob estimates.\n",
            "  warn(\"Some inputs do not have OOB scores. \"\n"
          ],
          "name": "stderr"
        },
        {
          "output_type": "stream",
          "text": [
            "n_estimators = 22max_deph = 18max_features = 14min_samples_leaf = 2min_samples_split = 2OOB score is 0.8759817401835843\n",
            "------------------------------\n"
          ],
          "name": "stdout"
        },
        {
          "output_type": "stream",
          "text": [
            "/usr/local/lib/python3.6/dist-packages/sklearn/ensemble/_forest.py:815: UserWarning: Some inputs do not have OOB scores. This probably means too few trees were used to compute any reliable oob estimates.\n",
            "  warn(\"Some inputs do not have OOB scores. \"\n"
          ],
          "name": "stderr"
        },
        {
          "output_type": "stream",
          "text": [
            "n_estimators = 22max_deph = 18max_features = 16min_samples_leaf = 2min_samples_split = 2OOB score is 0.8751675899017827\n",
            "------------------------------\n"
          ],
          "name": "stdout"
        },
        {
          "output_type": "stream",
          "text": [
            "/usr/local/lib/python3.6/dist-packages/sklearn/ensemble/_forest.py:815: UserWarning: Some inputs do not have OOB scores. This probably means too few trees were used to compute any reliable oob estimates.\n",
            "  warn(\"Some inputs do not have OOB scores. \"\n"
          ],
          "name": "stderr"
        },
        {
          "output_type": "stream",
          "text": [
            "n_estimators = 22max_deph = 18max_features = 18min_samples_leaf = 2min_samples_split = 2OOB score is 0.8748094335740704\n",
            "------------------------------\n"
          ],
          "name": "stdout"
        },
        {
          "output_type": "stream",
          "text": [
            "/usr/local/lib/python3.6/dist-packages/sklearn/ensemble/_forest.py:815: UserWarning: Some inputs do not have OOB scores. This probably means too few trees were used to compute any reliable oob estimates.\n",
            "  warn(\"Some inputs do not have OOB scores. \"\n"
          ],
          "name": "stderr"
        },
        {
          "output_type": "stream",
          "text": [
            "n_estimators = 24max_deph = 6max_features = 6min_samples_leaf = 2min_samples_split = 2OOB score is 0.8594747223356272\n",
            "------------------------------\n"
          ],
          "name": "stdout"
        },
        {
          "output_type": "stream",
          "text": [
            "/usr/local/lib/python3.6/dist-packages/sklearn/ensemble/_forest.py:815: UserWarning: Some inputs do not have OOB scores. This probably means too few trees were used to compute any reliable oob estimates.\n",
            "  warn(\"Some inputs do not have OOB scores. \"\n"
          ],
          "name": "stderr"
        },
        {
          "output_type": "stream",
          "text": [
            "n_estimators = 24max_deph = 6max_features = 8min_samples_leaf = 2min_samples_split = 2OOB score is 0.8625114783647582\n",
            "------------------------------\n"
          ],
          "name": "stdout"
        },
        {
          "output_type": "stream",
          "text": [
            "/usr/local/lib/python3.6/dist-packages/sklearn/ensemble/_forest.py:815: UserWarning: Some inputs do not have OOB scores. This probably means too few trees were used to compute any reliable oob estimates.\n",
            "  warn(\"Some inputs do not have OOB scores. \"\n"
          ],
          "name": "stderr"
        },
        {
          "output_type": "stream",
          "text": [
            "n_estimators = 24max_deph = 6max_features = 10min_samples_leaf = 2min_samples_split = 2OOB score is 0.864007388308471\n",
            "------------------------------\n"
          ],
          "name": "stdout"
        },
        {
          "output_type": "stream",
          "text": [
            "/usr/local/lib/python3.6/dist-packages/sklearn/ensemble/_forest.py:815: UserWarning: Some inputs do not have OOB scores. This probably means too few trees were used to compute any reliable oob estimates.\n",
            "  warn(\"Some inputs do not have OOB scores. \"\n"
          ],
          "name": "stderr"
        },
        {
          "output_type": "stream",
          "text": [
            "n_estimators = 24max_deph = 6max_features = 12min_samples_leaf = 2min_samples_split = 2OOB score is 0.8651263820481667\n",
            "------------------------------\n"
          ],
          "name": "stdout"
        },
        {
          "output_type": "stream",
          "text": [
            "/usr/local/lib/python3.6/dist-packages/sklearn/ensemble/_forest.py:815: UserWarning: Some inputs do not have OOB scores. This probably means too few trees were used to compute any reliable oob estimates.\n",
            "  warn(\"Some inputs do not have OOB scores. \"\n"
          ],
          "name": "stderr"
        },
        {
          "output_type": "stream",
          "text": [
            "n_estimators = 24max_deph = 6max_features = 14min_samples_leaf = 2min_samples_split = 2OOB score is 0.8674472543569932\n",
            "------------------------------\n"
          ],
          "name": "stdout"
        },
        {
          "output_type": "stream",
          "text": [
            "/usr/local/lib/python3.6/dist-packages/sklearn/ensemble/_forest.py:815: UserWarning: Some inputs do not have OOB scores. This probably means too few trees were used to compute any reliable oob estimates.\n",
            "  warn(\"Some inputs do not have OOB scores. \"\n"
          ],
          "name": "stderr"
        },
        {
          "output_type": "stream",
          "text": [
            "n_estimators = 24max_deph = 6max_features = 16min_samples_leaf = 2min_samples_split = 2OOB score is 0.8682527182107262\n",
            "------------------------------\n"
          ],
          "name": "stdout"
        },
        {
          "output_type": "stream",
          "text": [
            "/usr/local/lib/python3.6/dist-packages/sklearn/ensemble/_forest.py:815: UserWarning: Some inputs do not have OOB scores. This probably means too few trees were used to compute any reliable oob estimates.\n",
            "  warn(\"Some inputs do not have OOB scores. \"\n"
          ],
          "name": "stderr"
        },
        {
          "output_type": "stream",
          "text": [
            "n_estimators = 24max_deph = 6max_features = 18min_samples_leaf = 2min_samples_split = 2OOB score is 0.8672712312088255\n",
            "------------------------------\n"
          ],
          "name": "stdout"
        },
        {
          "output_type": "stream",
          "text": [
            "/usr/local/lib/python3.6/dist-packages/sklearn/ensemble/_forest.py:815: UserWarning: Some inputs do not have OOB scores. This probably means too few trees were used to compute any reliable oob estimates.\n",
            "  warn(\"Some inputs do not have OOB scores. \"\n"
          ],
          "name": "stderr"
        },
        {
          "output_type": "stream",
          "text": [
            "n_estimators = 24max_deph = 8max_features = 6min_samples_leaf = 2min_samples_split = 2OOB score is 0.8726539052590236\n",
            "------------------------------\n"
          ],
          "name": "stdout"
        },
        {
          "output_type": "stream",
          "text": [
            "/usr/local/lib/python3.6/dist-packages/sklearn/ensemble/_forest.py:815: UserWarning: Some inputs do not have OOB scores. This probably means too few trees were used to compute any reliable oob estimates.\n",
            "  warn(\"Some inputs do not have OOB scores. \"\n"
          ],
          "name": "stderr"
        },
        {
          "output_type": "stream",
          "text": [
            "n_estimators = 24max_deph = 8max_features = 8min_samples_leaf = 2min_samples_split = 2OOB score is 0.876328538656965\n",
            "------------------------------\n"
          ],
          "name": "stdout"
        },
        {
          "output_type": "stream",
          "text": [
            "/usr/local/lib/python3.6/dist-packages/sklearn/ensemble/_forest.py:815: UserWarning: Some inputs do not have OOB scores. This probably means too few trees were used to compute any reliable oob estimates.\n",
            "  warn(\"Some inputs do not have OOB scores. \"\n"
          ],
          "name": "stderr"
        },
        {
          "output_type": "stream",
          "text": [
            "n_estimators = 24max_deph = 8max_features = 10min_samples_leaf = 2min_samples_split = 2OOB score is 0.8754993240082399\n",
            "------------------------------\n"
          ],
          "name": "stdout"
        },
        {
          "output_type": "stream",
          "text": [
            "/usr/local/lib/python3.6/dist-packages/sklearn/ensemble/_forest.py:815: UserWarning: Some inputs do not have OOB scores. This probably means too few trees were used to compute any reliable oob estimates.\n",
            "  warn(\"Some inputs do not have OOB scores. \"\n"
          ],
          "name": "stderr"
        },
        {
          "output_type": "stream",
          "text": [
            "n_estimators = 24max_deph = 8max_features = 12min_samples_leaf = 2min_samples_split = 2OOB score is 0.8786513414377223\n",
            "------------------------------\n"
          ],
          "name": "stdout"
        },
        {
          "output_type": "stream",
          "text": [
            "/usr/local/lib/python3.6/dist-packages/sklearn/ensemble/_forest.py:815: UserWarning: Some inputs do not have OOB scores. This probably means too few trees were used to compute any reliable oob estimates.\n",
            "  warn(\"Some inputs do not have OOB scores. \"\n"
          ],
          "name": "stderr"
        },
        {
          "output_type": "stream",
          "text": [
            "n_estimators = 24max_deph = 8max_features = 14min_samples_leaf = 2min_samples_split = 2OOB score is 0.8783988888718852\n",
            "------------------------------\n"
          ],
          "name": "stdout"
        },
        {
          "output_type": "stream",
          "text": [
            "/usr/local/lib/python3.6/dist-packages/sklearn/ensemble/_forest.py:815: UserWarning: Some inputs do not have OOB scores. This probably means too few trees were used to compute any reliable oob estimates.\n",
            "  warn(\"Some inputs do not have OOB scores. \"\n"
          ],
          "name": "stderr"
        },
        {
          "output_type": "stream",
          "text": [
            "n_estimators = 24max_deph = 8max_features = 16min_samples_leaf = 2min_samples_split = 2OOB score is 0.8790232656173762\n",
            "------------------------------\n"
          ],
          "name": "stdout"
        },
        {
          "output_type": "stream",
          "text": [
            "/usr/local/lib/python3.6/dist-packages/sklearn/ensemble/_forest.py:815: UserWarning: Some inputs do not have OOB scores. This probably means too few trees were used to compute any reliable oob estimates.\n",
            "  warn(\"Some inputs do not have OOB scores. \"\n"
          ],
          "name": "stderr"
        },
        {
          "output_type": "stream",
          "text": [
            "n_estimators = 24max_deph = 8max_features = 18min_samples_leaf = 2min_samples_split = 2OOB score is 0.8793295027088565\n",
            "------------------------------\n"
          ],
          "name": "stdout"
        },
        {
          "output_type": "stream",
          "text": [
            "/usr/local/lib/python3.6/dist-packages/sklearn/ensemble/_forest.py:815: UserWarning: Some inputs do not have OOB scores. This probably means too few trees were used to compute any reliable oob estimates.\n",
            "  warn(\"Some inputs do not have OOB scores. \"\n"
          ],
          "name": "stderr"
        },
        {
          "output_type": "stream",
          "text": [
            "n_estimators = 24max_deph = 10max_features = 6min_samples_leaf = 2min_samples_split = 2OOB score is 0.8779168424442544\n",
            "------------------------------\n"
          ],
          "name": "stdout"
        },
        {
          "output_type": "stream",
          "text": [
            "/usr/local/lib/python3.6/dist-packages/sklearn/ensemble/_forest.py:815: UserWarning: Some inputs do not have OOB scores. This probably means too few trees were used to compute any reliable oob estimates.\n",
            "  warn(\"Some inputs do not have OOB scores. \"\n"
          ],
          "name": "stderr"
        },
        {
          "output_type": "stream",
          "text": [
            "n_estimators = 24max_deph = 10max_features = 8min_samples_leaf = 2min_samples_split = 2OOB score is 0.8806883345864209\n",
            "------------------------------\n"
          ],
          "name": "stdout"
        },
        {
          "output_type": "stream",
          "text": [
            "/usr/local/lib/python3.6/dist-packages/sklearn/ensemble/_forest.py:815: UserWarning: Some inputs do not have OOB scores. This probably means too few trees were used to compute any reliable oob estimates.\n",
            "  warn(\"Some inputs do not have OOB scores. \"\n"
          ],
          "name": "stderr"
        },
        {
          "output_type": "stream",
          "text": [
            "n_estimators = 24max_deph = 10max_features = 10min_samples_leaf = 2min_samples_split = 2OOB score is 0.8812483489530731\n",
            "------------------------------\n"
          ],
          "name": "stdout"
        },
        {
          "output_type": "stream",
          "text": [
            "/usr/local/lib/python3.6/dist-packages/sklearn/ensemble/_forest.py:815: UserWarning: Some inputs do not have OOB scores. This probably means too few trees were used to compute any reliable oob estimates.\n",
            "  warn(\"Some inputs do not have OOB scores. \"\n"
          ],
          "name": "stderr"
        },
        {
          "output_type": "stream",
          "text": [
            "n_estimators = 24max_deph = 10max_features = 12min_samples_leaf = 2min_samples_split = 2OOB score is 0.8814182279066729\n",
            "------------------------------\n"
          ],
          "name": "stdout"
        },
        {
          "output_type": "stream",
          "text": [
            "/usr/local/lib/python3.6/dist-packages/sklearn/ensemble/_forest.py:815: UserWarning: Some inputs do not have OOB scores. This probably means too few trees were used to compute any reliable oob estimates.\n",
            "  warn(\"Some inputs do not have OOB scores. \"\n"
          ],
          "name": "stderr"
        },
        {
          "output_type": "stream",
          "text": [
            "n_estimators = 24max_deph = 10max_features = 14min_samples_leaf = 2min_samples_split = 2OOB score is 0.8815961657532746\n",
            "------------------------------\n"
          ],
          "name": "stdout"
        },
        {
          "output_type": "stream",
          "text": [
            "/usr/local/lib/python3.6/dist-packages/sklearn/ensemble/_forest.py:815: UserWarning: Some inputs do not have OOB scores. This probably means too few trees were used to compute any reliable oob estimates.\n",
            "  warn(\"Some inputs do not have OOB scores. \"\n"
          ],
          "name": "stderr"
        },
        {
          "output_type": "stream",
          "text": [
            "n_estimators = 24max_deph = 10max_features = 16min_samples_leaf = 2min_samples_split = 2OOB score is 0.8812239880257243\n",
            "------------------------------\n"
          ],
          "name": "stdout"
        },
        {
          "output_type": "stream",
          "text": [
            "/usr/local/lib/python3.6/dist-packages/sklearn/ensemble/_forest.py:815: UserWarning: Some inputs do not have OOB scores. This probably means too few trees were used to compute any reliable oob estimates.\n",
            "  warn(\"Some inputs do not have OOB scores. \"\n"
          ],
          "name": "stderr"
        },
        {
          "output_type": "stream",
          "text": [
            "n_estimators = 24max_deph = 10max_features = 18min_samples_leaf = 2min_samples_split = 2OOB score is 0.8831554934065019\n",
            "------------------------------\n"
          ],
          "name": "stdout"
        },
        {
          "output_type": "stream",
          "text": [
            "/usr/local/lib/python3.6/dist-packages/sklearn/ensemble/_forest.py:815: UserWarning: Some inputs do not have OOB scores. This probably means too few trees were used to compute any reliable oob estimates.\n",
            "  warn(\"Some inputs do not have OOB scores. \"\n"
          ],
          "name": "stderr"
        },
        {
          "output_type": "stream",
          "text": [
            "n_estimators = 24max_deph = 12max_features = 6min_samples_leaf = 2min_samples_split = 2OOB score is 0.8786668264535298\n",
            "------------------------------\n"
          ],
          "name": "stdout"
        },
        {
          "output_type": "stream",
          "text": [
            "/usr/local/lib/python3.6/dist-packages/sklearn/ensemble/_forest.py:815: UserWarning: Some inputs do not have OOB scores. This probably means too few trees were used to compute any reliable oob estimates.\n",
            "  warn(\"Some inputs do not have OOB scores. \"\n"
          ],
          "name": "stderr"
        },
        {
          "output_type": "stream",
          "text": [
            "n_estimators = 24max_deph = 12max_features = 8min_samples_leaf = 2min_samples_split = 2OOB score is 0.8812270398020803\n",
            "------------------------------\n"
          ],
          "name": "stdout"
        },
        {
          "output_type": "stream",
          "text": [
            "/usr/local/lib/python3.6/dist-packages/sklearn/ensemble/_forest.py:815: UserWarning: Some inputs do not have OOB scores. This probably means too few trees were used to compute any reliable oob estimates.\n",
            "  warn(\"Some inputs do not have OOB scores. \"\n"
          ],
          "name": "stderr"
        },
        {
          "output_type": "stream",
          "text": [
            "n_estimators = 24max_deph = 12max_features = 10min_samples_leaf = 2min_samples_split = 2OOB score is 0.8796156580887681\n",
            "------------------------------\n"
          ],
          "name": "stdout"
        },
        {
          "output_type": "stream",
          "text": [
            "/usr/local/lib/python3.6/dist-packages/sklearn/ensemble/_forest.py:815: UserWarning: Some inputs do not have OOB scores. This probably means too few trees were used to compute any reliable oob estimates.\n",
            "  warn(\"Some inputs do not have OOB scores. \"\n"
          ],
          "name": "stderr"
        },
        {
          "output_type": "stream",
          "text": [
            "n_estimators = 24max_deph = 12max_features = 12min_samples_leaf = 2min_samples_split = 2OOB score is 0.8796606864437975\n",
            "------------------------------\n"
          ],
          "name": "stdout"
        },
        {
          "output_type": "stream",
          "text": [
            "/usr/local/lib/python3.6/dist-packages/sklearn/ensemble/_forest.py:815: UserWarning: Some inputs do not have OOB scores. This probably means too few trees were used to compute any reliable oob estimates.\n",
            "  warn(\"Some inputs do not have OOB scores. \"\n"
          ],
          "name": "stderr"
        },
        {
          "output_type": "stream",
          "text": [
            "n_estimators = 24max_deph = 12max_features = 14min_samples_leaf = 2min_samples_split = 2OOB score is 0.8805723477002635\n",
            "------------------------------\n"
          ],
          "name": "stdout"
        },
        {
          "output_type": "stream",
          "text": [
            "/usr/local/lib/python3.6/dist-packages/sklearn/ensemble/_forest.py:815: UserWarning: Some inputs do not have OOB scores. This probably means too few trees were used to compute any reliable oob estimates.\n",
            "  warn(\"Some inputs do not have OOB scores. \"\n"
          ],
          "name": "stderr"
        },
        {
          "output_type": "stream",
          "text": [
            "n_estimators = 24max_deph = 12max_features = 16min_samples_leaf = 2min_samples_split = 2OOB score is 0.8812981219067378\n",
            "------------------------------\n"
          ],
          "name": "stdout"
        },
        {
          "output_type": "stream",
          "text": [
            "/usr/local/lib/python3.6/dist-packages/sklearn/ensemble/_forest.py:815: UserWarning: Some inputs do not have OOB scores. This probably means too few trees were used to compute any reliable oob estimates.\n",
            "  warn(\"Some inputs do not have OOB scores. \"\n"
          ],
          "name": "stderr"
        },
        {
          "output_type": "stream",
          "text": [
            "n_estimators = 24max_deph = 12max_features = 18min_samples_leaf = 2min_samples_split = 2OOB score is 0.8807562889358875\n",
            "------------------------------\n"
          ],
          "name": "stdout"
        },
        {
          "output_type": "stream",
          "text": [
            "/usr/local/lib/python3.6/dist-packages/sklearn/ensemble/_forest.py:815: UserWarning: Some inputs do not have OOB scores. This probably means too few trees were used to compute any reliable oob estimates.\n",
            "  warn(\"Some inputs do not have OOB scores. \"\n"
          ],
          "name": "stderr"
        },
        {
          "output_type": "stream",
          "text": [
            "n_estimators = 24max_deph = 14max_features = 6min_samples_leaf = 2min_samples_split = 2OOB score is 0.878958712876025\n",
            "------------------------------\n"
          ],
          "name": "stdout"
        },
        {
          "output_type": "stream",
          "text": [
            "/usr/local/lib/python3.6/dist-packages/sklearn/ensemble/_forest.py:815: UserWarning: Some inputs do not have OOB scores. This probably means too few trees were used to compute any reliable oob estimates.\n",
            "  warn(\"Some inputs do not have OOB scores. \"\n"
          ],
          "name": "stderr"
        },
        {
          "output_type": "stream",
          "text": [
            "n_estimators = 24max_deph = 14max_features = 8min_samples_leaf = 2min_samples_split = 2OOB score is 0.8796624207768431\n",
            "------------------------------\n"
          ],
          "name": "stdout"
        },
        {
          "output_type": "stream",
          "text": [
            "/usr/local/lib/python3.6/dist-packages/sklearn/ensemble/_forest.py:815: UserWarning: Some inputs do not have OOB scores. This probably means too few trees were used to compute any reliable oob estimates.\n",
            "  warn(\"Some inputs do not have OOB scores. \"\n"
          ],
          "name": "stderr"
        },
        {
          "output_type": "stream",
          "text": [
            "n_estimators = 24max_deph = 14max_features = 10min_samples_leaf = 2min_samples_split = 2OOB score is 0.878786726950059\n",
            "------------------------------\n"
          ],
          "name": "stdout"
        },
        {
          "output_type": "stream",
          "text": [
            "/usr/local/lib/python3.6/dist-packages/sklearn/ensemble/_forest.py:815: UserWarning: Some inputs do not have OOB scores. This probably means too few trees were used to compute any reliable oob estimates.\n",
            "  warn(\"Some inputs do not have OOB scores. \"\n"
          ],
          "name": "stderr"
        },
        {
          "output_type": "stream",
          "text": [
            "n_estimators = 24max_deph = 14max_features = 12min_samples_leaf = 2min_samples_split = 2OOB score is 0.8788506059379904\n",
            "------------------------------\n"
          ],
          "name": "stdout"
        },
        {
          "output_type": "stream",
          "text": [
            "/usr/local/lib/python3.6/dist-packages/sklearn/ensemble/_forest.py:815: UserWarning: Some inputs do not have OOB scores. This probably means too few trees were used to compute any reliable oob estimates.\n",
            "  warn(\"Some inputs do not have OOB scores. \"\n"
          ],
          "name": "stderr"
        },
        {
          "output_type": "stream",
          "text": [
            "n_estimators = 24max_deph = 14max_features = 14min_samples_leaf = 2min_samples_split = 2OOB score is 0.8790043857066532\n",
            "------------------------------\n"
          ],
          "name": "stdout"
        },
        {
          "output_type": "stream",
          "text": [
            "/usr/local/lib/python3.6/dist-packages/sklearn/ensemble/_forest.py:815: UserWarning: Some inputs do not have OOB scores. This probably means too few trees were used to compute any reliable oob estimates.\n",
            "  warn(\"Some inputs do not have OOB scores. \"\n"
          ],
          "name": "stderr"
        },
        {
          "output_type": "stream",
          "text": [
            "n_estimators = 24max_deph = 14max_features = 16min_samples_leaf = 2min_samples_split = 2OOB score is 0.8794835404671615\n",
            "------------------------------\n"
          ],
          "name": "stdout"
        },
        {
          "output_type": "stream",
          "text": [
            "/usr/local/lib/python3.6/dist-packages/sklearn/ensemble/_forest.py:815: UserWarning: Some inputs do not have OOB scores. This probably means too few trees were used to compute any reliable oob estimates.\n",
            "  warn(\"Some inputs do not have OOB scores. \"\n"
          ],
          "name": "stderr"
        },
        {
          "output_type": "stream",
          "text": [
            "n_estimators = 24max_deph = 14max_features = 18min_samples_leaf = 2min_samples_split = 2OOB score is 0.8792456253876059\n",
            "------------------------------\n"
          ],
          "name": "stdout"
        },
        {
          "output_type": "stream",
          "text": [
            "/usr/local/lib/python3.6/dist-packages/sklearn/ensemble/_forest.py:815: UserWarning: Some inputs do not have OOB scores. This probably means too few trees were used to compute any reliable oob estimates.\n",
            "  warn(\"Some inputs do not have OOB scores. \"\n"
          ],
          "name": "stderr"
        },
        {
          "output_type": "stream",
          "text": [
            "n_estimators = 24max_deph = 16max_features = 6min_samples_leaf = 2min_samples_split = 2OOB score is 0.8766178285331465\n",
            "------------------------------\n"
          ],
          "name": "stdout"
        },
        {
          "output_type": "stream",
          "text": [
            "/usr/local/lib/python3.6/dist-packages/sklearn/ensemble/_forest.py:815: UserWarning: Some inputs do not have OOB scores. This probably means too few trees were used to compute any reliable oob estimates.\n",
            "  warn(\"Some inputs do not have OOB scores. \"\n"
          ],
          "name": "stderr"
        },
        {
          "output_type": "stream",
          "text": [
            "n_estimators = 24max_deph = 16max_features = 8min_samples_leaf = 2min_samples_split = 2OOB score is 0.8779345011471382\n",
            "------------------------------\n"
          ],
          "name": "stdout"
        },
        {
          "output_type": "stream",
          "text": [
            "/usr/local/lib/python3.6/dist-packages/sklearn/ensemble/_forest.py:815: UserWarning: Some inputs do not have OOB scores. This probably means too few trees were used to compute any reliable oob estimates.\n",
            "  warn(\"Some inputs do not have OOB scores. \"\n"
          ],
          "name": "stderr"
        },
        {
          "output_type": "stream",
          "text": [
            "n_estimators = 24max_deph = 16max_features = 10min_samples_leaf = 2min_samples_split = 2OOB score is 0.8801521957852052\n",
            "------------------------------\n"
          ],
          "name": "stdout"
        },
        {
          "output_type": "stream",
          "text": [
            "/usr/local/lib/python3.6/dist-packages/sklearn/ensemble/_forest.py:815: UserWarning: Some inputs do not have OOB scores. This probably means too few trees were used to compute any reliable oob estimates.\n",
            "  warn(\"Some inputs do not have OOB scores. \"\n"
          ],
          "name": "stderr"
        },
        {
          "output_type": "stream",
          "text": [
            "n_estimators = 24max_deph = 16max_features = 12min_samples_leaf = 2min_samples_split = 2OOB score is 0.8789200017816416\n",
            "------------------------------\n"
          ],
          "name": "stdout"
        },
        {
          "output_type": "stream",
          "text": [
            "/usr/local/lib/python3.6/dist-packages/sklearn/ensemble/_forest.py:815: UserWarning: Some inputs do not have OOB scores. This probably means too few trees were used to compute any reliable oob estimates.\n",
            "  warn(\"Some inputs do not have OOB scores. \"\n"
          ],
          "name": "stderr"
        },
        {
          "output_type": "stream",
          "text": [
            "n_estimators = 24max_deph = 16max_features = 14min_samples_leaf = 2min_samples_split = 2OOB score is 0.8781489383773793\n",
            "------------------------------\n"
          ],
          "name": "stdout"
        },
        {
          "output_type": "stream",
          "text": [
            "/usr/local/lib/python3.6/dist-packages/sklearn/ensemble/_forest.py:815: UserWarning: Some inputs do not have OOB scores. This probably means too few trees were used to compute any reliable oob estimates.\n",
            "  warn(\"Some inputs do not have OOB scores. \"\n"
          ],
          "name": "stderr"
        },
        {
          "output_type": "stream",
          "text": [
            "n_estimators = 24max_deph = 16max_features = 16min_samples_leaf = 2min_samples_split = 2OOB score is 0.8779521924835283\n",
            "------------------------------\n"
          ],
          "name": "stdout"
        },
        {
          "output_type": "stream",
          "text": [
            "/usr/local/lib/python3.6/dist-packages/sklearn/ensemble/_forest.py:815: UserWarning: Some inputs do not have OOB scores. This probably means too few trees were used to compute any reliable oob estimates.\n",
            "  warn(\"Some inputs do not have OOB scores. \"\n"
          ],
          "name": "stderr"
        },
        {
          "output_type": "stream",
          "text": [
            "n_estimators = 24max_deph = 16max_features = 18min_samples_leaf = 2min_samples_split = 2OOB score is 0.8781159750610665\n",
            "------------------------------\n"
          ],
          "name": "stdout"
        },
        {
          "output_type": "stream",
          "text": [
            "/usr/local/lib/python3.6/dist-packages/sklearn/ensemble/_forest.py:815: UserWarning: Some inputs do not have OOB scores. This probably means too few trees were used to compute any reliable oob estimates.\n",
            "  warn(\"Some inputs do not have OOB scores. \"\n"
          ],
          "name": "stderr"
        },
        {
          "output_type": "stream",
          "text": [
            "n_estimators = 24max_deph = 18max_features = 6min_samples_leaf = 2min_samples_split = 2OOB score is 0.8763989834018983\n",
            "------------------------------\n"
          ],
          "name": "stdout"
        },
        {
          "output_type": "stream",
          "text": [
            "/usr/local/lib/python3.6/dist-packages/sklearn/ensemble/_forest.py:815: UserWarning: Some inputs do not have OOB scores. This probably means too few trees were used to compute any reliable oob estimates.\n",
            "  warn(\"Some inputs do not have OOB scores. \"\n"
          ],
          "name": "stderr"
        },
        {
          "output_type": "stream",
          "text": [
            "n_estimators = 24max_deph = 18max_features = 8min_samples_leaf = 2min_samples_split = 2OOB score is 0.8775506192216491\n",
            "------------------------------\n"
          ],
          "name": "stdout"
        },
        {
          "output_type": "stream",
          "text": [
            "/usr/local/lib/python3.6/dist-packages/sklearn/ensemble/_forest.py:815: UserWarning: Some inputs do not have OOB scores. This probably means too few trees were used to compute any reliable oob estimates.\n",
            "  warn(\"Some inputs do not have OOB scores. \"\n"
          ],
          "name": "stderr"
        },
        {
          "output_type": "stream",
          "text": [
            "n_estimators = 24max_deph = 18max_features = 10min_samples_leaf = 2min_samples_split = 2OOB score is 0.8784672949925444\n",
            "------------------------------\n"
          ],
          "name": "stdout"
        },
        {
          "output_type": "stream",
          "text": [
            "/usr/local/lib/python3.6/dist-packages/sklearn/ensemble/_forest.py:815: UserWarning: Some inputs do not have OOB scores. This probably means too few trees were used to compute any reliable oob estimates.\n",
            "  warn(\"Some inputs do not have OOB scores. \"\n"
          ],
          "name": "stderr"
        },
        {
          "output_type": "stream",
          "text": [
            "n_estimators = 24max_deph = 18max_features = 12min_samples_leaf = 2min_samples_split = 2OOB score is 0.8784695271443373\n",
            "------------------------------\n"
          ],
          "name": "stdout"
        },
        {
          "output_type": "stream",
          "text": [
            "/usr/local/lib/python3.6/dist-packages/sklearn/ensemble/_forest.py:815: UserWarning: Some inputs do not have OOB scores. This probably means too few trees were used to compute any reliable oob estimates.\n",
            "  warn(\"Some inputs do not have OOB scores. \"\n"
          ],
          "name": "stderr"
        },
        {
          "output_type": "stream",
          "text": [
            "n_estimators = 24max_deph = 18max_features = 14min_samples_leaf = 2min_samples_split = 2OOB score is 0.8774938642300204\n",
            "------------------------------\n"
          ],
          "name": "stdout"
        },
        {
          "output_type": "stream",
          "text": [
            "/usr/local/lib/python3.6/dist-packages/sklearn/ensemble/_forest.py:815: UserWarning: Some inputs do not have OOB scores. This probably means too few trees were used to compute any reliable oob estimates.\n",
            "  warn(\"Some inputs do not have OOB scores. \"\n"
          ],
          "name": "stderr"
        },
        {
          "output_type": "stream",
          "text": [
            "n_estimators = 24max_deph = 18max_features = 16min_samples_leaf = 2min_samples_split = 2OOB score is 0.8764589709643537\n",
            "------------------------------\n"
          ],
          "name": "stdout"
        },
        {
          "output_type": "stream",
          "text": [
            "/usr/local/lib/python3.6/dist-packages/sklearn/ensemble/_forest.py:815: UserWarning: Some inputs do not have OOB scores. This probably means too few trees were used to compute any reliable oob estimates.\n",
            "  warn(\"Some inputs do not have OOB scores. \"\n"
          ],
          "name": "stderr"
        },
        {
          "output_type": "stream",
          "text": [
            "n_estimators = 24max_deph = 18max_features = 18min_samples_leaf = 2min_samples_split = 2OOB score is 0.8761890131701388\n",
            "------------------------------\n"
          ],
          "name": "stdout"
        },
        {
          "output_type": "stream",
          "text": [
            "/usr/local/lib/python3.6/dist-packages/sklearn/ensemble/_forest.py:815: UserWarning: Some inputs do not have OOB scores. This probably means too few trees were used to compute any reliable oob estimates.\n",
            "  warn(\"Some inputs do not have OOB scores. \"\n"
          ],
          "name": "stderr"
        },
        {
          "output_type": "stream",
          "text": [
            "n_estimators = 26max_deph = 6max_features = 6min_samples_leaf = 2min_samples_split = 2OOB score is 0.8595113675791504\n",
            "------------------------------\n"
          ],
          "name": "stdout"
        },
        {
          "output_type": "stream",
          "text": [
            "/usr/local/lib/python3.6/dist-packages/sklearn/ensemble/_forest.py:815: UserWarning: Some inputs do not have OOB scores. This probably means too few trees were used to compute any reliable oob estimates.\n",
            "  warn(\"Some inputs do not have OOB scores. \"\n"
          ],
          "name": "stderr"
        },
        {
          "output_type": "stream",
          "text": [
            "n_estimators = 26max_deph = 6max_features = 8min_samples_leaf = 2min_samples_split = 2OOB score is 0.8630902676747279\n",
            "------------------------------\n"
          ],
          "name": "stdout"
        },
        {
          "output_type": "stream",
          "text": [
            "/usr/local/lib/python3.6/dist-packages/sklearn/ensemble/_forest.py:815: UserWarning: Some inputs do not have OOB scores. This probably means too few trees were used to compute any reliable oob estimates.\n",
            "  warn(\"Some inputs do not have OOB scores. \"\n"
          ],
          "name": "stderr"
        },
        {
          "output_type": "stream",
          "text": [
            "n_estimators = 26max_deph = 6max_features = 10min_samples_leaf = 2min_samples_split = 2OOB score is 0.8643435740154786\n",
            "------------------------------\n"
          ],
          "name": "stdout"
        },
        {
          "output_type": "stream",
          "text": [
            "/usr/local/lib/python3.6/dist-packages/sklearn/ensemble/_forest.py:815: UserWarning: Some inputs do not have OOB scores. This probably means too few trees were used to compute any reliable oob estimates.\n",
            "  warn(\"Some inputs do not have OOB scores. \"\n"
          ],
          "name": "stderr"
        },
        {
          "output_type": "stream",
          "text": [
            "n_estimators = 26max_deph = 6max_features = 12min_samples_leaf = 2min_samples_split = 2OOB score is 0.8657586588778814\n",
            "------------------------------\n"
          ],
          "name": "stdout"
        },
        {
          "output_type": "stream",
          "text": [
            "/usr/local/lib/python3.6/dist-packages/sklearn/ensemble/_forest.py:815: UserWarning: Some inputs do not have OOB scores. This probably means too few trees were used to compute any reliable oob estimates.\n",
            "  warn(\"Some inputs do not have OOB scores. \"\n"
          ],
          "name": "stderr"
        },
        {
          "output_type": "stream",
          "text": [
            "n_estimators = 26max_deph = 6max_features = 14min_samples_leaf = 2min_samples_split = 2OOB score is 0.8677209847515102\n",
            "------------------------------\n"
          ],
          "name": "stdout"
        },
        {
          "output_type": "stream",
          "text": [
            "/usr/local/lib/python3.6/dist-packages/sklearn/ensemble/_forest.py:815: UserWarning: Some inputs do not have OOB scores. This probably means too few trees were used to compute any reliable oob estimates.\n",
            "  warn(\"Some inputs do not have OOB scores. \"\n"
          ],
          "name": "stderr"
        },
        {
          "output_type": "stream",
          "text": [
            "n_estimators = 26max_deph = 6max_features = 16min_samples_leaf = 2min_samples_split = 2OOB score is 0.8681515663764606\n",
            "------------------------------\n"
          ],
          "name": "stdout"
        },
        {
          "output_type": "stream",
          "text": [
            "/usr/local/lib/python3.6/dist-packages/sklearn/ensemble/_forest.py:815: UserWarning: Some inputs do not have OOB scores. This probably means too few trees were used to compute any reliable oob estimates.\n",
            "  warn(\"Some inputs do not have OOB scores. \"\n"
          ],
          "name": "stderr"
        },
        {
          "output_type": "stream",
          "text": [
            "n_estimators = 26max_deph = 6max_features = 18min_samples_leaf = 2min_samples_split = 2OOB score is 0.8673884094089455\n",
            "------------------------------\n"
          ],
          "name": "stdout"
        },
        {
          "output_type": "stream",
          "text": [
            "/usr/local/lib/python3.6/dist-packages/sklearn/ensemble/_forest.py:815: UserWarning: Some inputs do not have OOB scores. This probably means too few trees were used to compute any reliable oob estimates.\n",
            "  warn(\"Some inputs do not have OOB scores. \"\n"
          ],
          "name": "stderr"
        },
        {
          "output_type": "stream",
          "text": [
            "n_estimators = 26max_deph = 8max_features = 6min_samples_leaf = 2min_samples_split = 2OOB score is 0.8733278789593296\n",
            "------------------------------\n"
          ],
          "name": "stdout"
        },
        {
          "output_type": "stream",
          "text": [
            "/usr/local/lib/python3.6/dist-packages/sklearn/ensemble/_forest.py:815: UserWarning: Some inputs do not have OOB scores. This probably means too few trees were used to compute any reliable oob estimates.\n",
            "  warn(\"Some inputs do not have OOB scores. \"\n"
          ],
          "name": "stderr"
        },
        {
          "output_type": "stream",
          "text": [
            "n_estimators = 26max_deph = 8max_features = 8min_samples_leaf = 2min_samples_split = 2OOB score is 0.8763728470084304\n",
            "------------------------------\n"
          ],
          "name": "stdout"
        },
        {
          "output_type": "stream",
          "text": [
            "/usr/local/lib/python3.6/dist-packages/sklearn/ensemble/_forest.py:815: UserWarning: Some inputs do not have OOB scores. This probably means too few trees were used to compute any reliable oob estimates.\n",
            "  warn(\"Some inputs do not have OOB scores. \"\n"
          ],
          "name": "stderr"
        },
        {
          "output_type": "stream",
          "text": [
            "n_estimators = 26max_deph = 8max_features = 10min_samples_leaf = 2min_samples_split = 2OOB score is 0.8763163390730266\n",
            "------------------------------\n"
          ],
          "name": "stdout"
        },
        {
          "output_type": "stream",
          "text": [
            "/usr/local/lib/python3.6/dist-packages/sklearn/ensemble/_forest.py:815: UserWarning: Some inputs do not have OOB scores. This probably means too few trees were used to compute any reliable oob estimates.\n",
            "  warn(\"Some inputs do not have OOB scores. \"\n"
          ],
          "name": "stderr"
        },
        {
          "output_type": "stream",
          "text": [
            "n_estimators = 26max_deph = 8max_features = 12min_samples_leaf = 2min_samples_split = 2OOB score is 0.878843499779507\n",
            "------------------------------\n"
          ],
          "name": "stdout"
        },
        {
          "output_type": "stream",
          "text": [
            "/usr/local/lib/python3.6/dist-packages/sklearn/ensemble/_forest.py:815: UserWarning: Some inputs do not have OOB scores. This probably means too few trees were used to compute any reliable oob estimates.\n",
            "  warn(\"Some inputs do not have OOB scores. \"\n"
          ],
          "name": "stderr"
        },
        {
          "output_type": "stream",
          "text": [
            "n_estimators = 26max_deph = 8max_features = 14min_samples_leaf = 2min_samples_split = 2OOB score is 0.8788445147735346\n",
            "------------------------------\n"
          ],
          "name": "stdout"
        },
        {
          "output_type": "stream",
          "text": [
            "/usr/local/lib/python3.6/dist-packages/sklearn/ensemble/_forest.py:815: UserWarning: Some inputs do not have OOB scores. This probably means too few trees were used to compute any reliable oob estimates.\n",
            "  warn(\"Some inputs do not have OOB scores. \"\n"
          ],
          "name": "stderr"
        },
        {
          "output_type": "stream",
          "text": [
            "n_estimators = 26max_deph = 8max_features = 16min_samples_leaf = 2min_samples_split = 2OOB score is 0.8793261425350656\n",
            "------------------------------\n"
          ],
          "name": "stdout"
        },
        {
          "output_type": "stream",
          "text": [
            "/usr/local/lib/python3.6/dist-packages/sklearn/ensemble/_forest.py:815: UserWarning: Some inputs do not have OOB scores. This probably means too few trees were used to compute any reliable oob estimates.\n",
            "  warn(\"Some inputs do not have OOB scores. \"\n"
          ],
          "name": "stderr"
        },
        {
          "output_type": "stream",
          "text": [
            "n_estimators = 26max_deph = 8max_features = 18min_samples_leaf = 2min_samples_split = 2OOB score is 0.8797108653719186\n",
            "------------------------------\n"
          ],
          "name": "stdout"
        },
        {
          "output_type": "stream",
          "text": [
            "/usr/local/lib/python3.6/dist-packages/sklearn/ensemble/_forest.py:815: UserWarning: Some inputs do not have OOB scores. This probably means too few trees were used to compute any reliable oob estimates.\n",
            "  warn(\"Some inputs do not have OOB scores. \"\n"
          ],
          "name": "stderr"
        },
        {
          "output_type": "stream",
          "text": [
            "n_estimators = 26max_deph = 10max_features = 6min_samples_leaf = 2min_samples_split = 2OOB score is 0.8789602530420053\n",
            "------------------------------\n"
          ],
          "name": "stdout"
        },
        {
          "output_type": "stream",
          "text": [
            "/usr/local/lib/python3.6/dist-packages/sklearn/ensemble/_forest.py:815: UserWarning: Some inputs do not have OOB scores. This probably means too few trees were used to compute any reliable oob estimates.\n",
            "  warn(\"Some inputs do not have OOB scores. \"\n"
          ],
          "name": "stderr"
        },
        {
          "output_type": "stream",
          "text": [
            "n_estimators = 26max_deph = 10max_features = 8min_samples_leaf = 2min_samples_split = 2OOB score is 0.881120858510349\n",
            "------------------------------\n"
          ],
          "name": "stdout"
        },
        {
          "output_type": "stream",
          "text": [
            "/usr/local/lib/python3.6/dist-packages/sklearn/ensemble/_forest.py:815: UserWarning: Some inputs do not have OOB scores. This probably means too few trees were used to compute any reliable oob estimates.\n",
            "  warn(\"Some inputs do not have OOB scores. \"\n"
          ],
          "name": "stderr"
        },
        {
          "output_type": "stream",
          "text": [
            "n_estimators = 26max_deph = 10max_features = 10min_samples_leaf = 2min_samples_split = 2OOB score is 0.8821082750867177\n",
            "------------------------------\n"
          ],
          "name": "stdout"
        },
        {
          "output_type": "stream",
          "text": [
            "/usr/local/lib/python3.6/dist-packages/sklearn/ensemble/_forest.py:815: UserWarning: Some inputs do not have OOB scores. This probably means too few trees were used to compute any reliable oob estimates.\n",
            "  warn(\"Some inputs do not have OOB scores. \"\n"
          ],
          "name": "stderr"
        },
        {
          "output_type": "stream",
          "text": [
            "n_estimators = 26max_deph = 10max_features = 12min_samples_leaf = 2min_samples_split = 2OOB score is 0.881800522698114\n",
            "------------------------------\n"
          ],
          "name": "stdout"
        },
        {
          "output_type": "stream",
          "text": [
            "/usr/local/lib/python3.6/dist-packages/sklearn/ensemble/_forest.py:815: UserWarning: Some inputs do not have OOB scores. This probably means too few trees were used to compute any reliable oob estimates.\n",
            "  warn(\"Some inputs do not have OOB scores. \"\n"
          ],
          "name": "stderr"
        },
        {
          "output_type": "stream",
          "text": [
            "n_estimators = 26max_deph = 10max_features = 14min_samples_leaf = 2min_samples_split = 2OOB score is 0.8821934914170241\n",
            "------------------------------\n"
          ],
          "name": "stdout"
        },
        {
          "output_type": "stream",
          "text": [
            "/usr/local/lib/python3.6/dist-packages/sklearn/ensemble/_forest.py:815: UserWarning: Some inputs do not have OOB scores. This probably means too few trees were used to compute any reliable oob estimates.\n",
            "  warn(\"Some inputs do not have OOB scores. \"\n"
          ],
          "name": "stderr"
        },
        {
          "output_type": "stream",
          "text": [
            "n_estimators = 26max_deph = 10max_features = 16min_samples_leaf = 2min_samples_split = 2OOB score is 0.8818882038532629\n",
            "------------------------------\n"
          ],
          "name": "stdout"
        },
        {
          "output_type": "stream",
          "text": [
            "/usr/local/lib/python3.6/dist-packages/sklearn/ensemble/_forest.py:815: UserWarning: Some inputs do not have OOB scores. This probably means too few trees were used to compute any reliable oob estimates.\n",
            "  warn(\"Some inputs do not have OOB scores. \"\n"
          ],
          "name": "stderr"
        },
        {
          "output_type": "stream",
          "text": [
            "n_estimators = 26max_deph = 10max_features = 18min_samples_leaf = 2min_samples_split = 2OOB score is 0.8837149249091387\n",
            "------------------------------\n"
          ],
          "name": "stdout"
        },
        {
          "output_type": "stream",
          "text": [
            "/usr/local/lib/python3.6/dist-packages/sklearn/ensemble/_forest.py:815: UserWarning: Some inputs do not have OOB scores. This probably means too few trees were used to compute any reliable oob estimates.\n",
            "  warn(\"Some inputs do not have OOB scores. \"\n"
          ],
          "name": "stderr"
        },
        {
          "output_type": "stream",
          "text": [
            "n_estimators = 26max_deph = 12max_features = 6min_samples_leaf = 2min_samples_split = 2OOB score is 0.8795481622517383\n",
            "------------------------------\n"
          ],
          "name": "stdout"
        },
        {
          "output_type": "stream",
          "text": [
            "/usr/local/lib/python3.6/dist-packages/sklearn/ensemble/_forest.py:815: UserWarning: Some inputs do not have OOB scores. This probably means too few trees were used to compute any reliable oob estimates.\n",
            "  warn(\"Some inputs do not have OOB scores. \"\n"
          ],
          "name": "stderr"
        },
        {
          "output_type": "stream",
          "text": [
            "n_estimators = 26max_deph = 12max_features = 8min_samples_leaf = 2min_samples_split = 2OOB score is 0.8817428840776501\n",
            "------------------------------\n"
          ],
          "name": "stdout"
        },
        {
          "output_type": "stream",
          "text": [
            "/usr/local/lib/python3.6/dist-packages/sklearn/ensemble/_forest.py:815: UserWarning: Some inputs do not have OOB scores. This probably means too few trees were used to compute any reliable oob estimates.\n",
            "  warn(\"Some inputs do not have OOB scores. \"\n"
          ],
          "name": "stderr"
        },
        {
          "output_type": "stream",
          "text": [
            "n_estimators = 26max_deph = 12max_features = 10min_samples_leaf = 2min_samples_split = 2OOB score is 0.881004991912185\n",
            "------------------------------\n"
          ],
          "name": "stdout"
        },
        {
          "output_type": "stream",
          "text": [
            "/usr/local/lib/python3.6/dist-packages/sklearn/ensemble/_forest.py:815: UserWarning: Some inputs do not have OOB scores. This probably means too few trees were used to compute any reliable oob estimates.\n",
            "  warn(\"Some inputs do not have OOB scores. \"\n"
          ],
          "name": "stderr"
        },
        {
          "output_type": "stream",
          "text": [
            "n_estimators = 26max_deph = 12max_features = 12min_samples_leaf = 2min_samples_split = 2OOB score is 0.8808711534868532\n",
            "------------------------------\n"
          ],
          "name": "stdout"
        },
        {
          "output_type": "stream",
          "text": [
            "/usr/local/lib/python3.6/dist-packages/sklearn/ensemble/_forest.py:815: UserWarning: Some inputs do not have OOB scores. This probably means too few trees were used to compute any reliable oob estimates.\n",
            "  warn(\"Some inputs do not have OOB scores. \"\n"
          ],
          "name": "stderr"
        },
        {
          "output_type": "stream",
          "text": [
            "n_estimators = 26max_deph = 12max_features = 14min_samples_leaf = 2min_samples_split = 2OOB score is 0.8813380148850063\n",
            "------------------------------\n"
          ],
          "name": "stdout"
        },
        {
          "output_type": "stream",
          "text": [
            "/usr/local/lib/python3.6/dist-packages/sklearn/ensemble/_forest.py:815: UserWarning: Some inputs do not have OOB scores. This probably means too few trees were used to compute any reliable oob estimates.\n",
            "  warn(\"Some inputs do not have OOB scores. \"\n"
          ],
          "name": "stderr"
        },
        {
          "output_type": "stream",
          "text": [
            "n_estimators = 26max_deph = 12max_features = 16min_samples_leaf = 2min_samples_split = 2OOB score is 0.8819656580567449\n",
            "------------------------------\n"
          ],
          "name": "stdout"
        },
        {
          "output_type": "stream",
          "text": [
            "/usr/local/lib/python3.6/dist-packages/sklearn/ensemble/_forest.py:815: UserWarning: Some inputs do not have OOB scores. This probably means too few trees were used to compute any reliable oob estimates.\n",
            "  warn(\"Some inputs do not have OOB scores. \"\n"
          ],
          "name": "stderr"
        },
        {
          "output_type": "stream",
          "text": [
            "n_estimators = 26max_deph = 12max_features = 18min_samples_leaf = 2min_samples_split = 2OOB score is 0.882004907646459\n",
            "------------------------------\n"
          ],
          "name": "stdout"
        },
        {
          "output_type": "stream",
          "text": [
            "/usr/local/lib/python3.6/dist-packages/sklearn/ensemble/_forest.py:815: UserWarning: Some inputs do not have OOB scores. This probably means too few trees were used to compute any reliable oob estimates.\n",
            "  warn(\"Some inputs do not have OOB scores. \"\n"
          ],
          "name": "stderr"
        },
        {
          "output_type": "stream",
          "text": [
            "n_estimators = 26max_deph = 14max_features = 6min_samples_leaf = 2min_samples_split = 2OOB score is 0.8798214831937619\n",
            "------------------------------\n"
          ],
          "name": "stdout"
        },
        {
          "output_type": "stream",
          "text": [
            "/usr/local/lib/python3.6/dist-packages/sklearn/ensemble/_forest.py:815: UserWarning: Some inputs do not have OOB scores. This probably means too few trees were used to compute any reliable oob estimates.\n",
            "  warn(\"Some inputs do not have OOB scores. \"\n"
          ],
          "name": "stderr"
        },
        {
          "output_type": "stream",
          "text": [
            "n_estimators = 26max_deph = 14max_features = 8min_samples_leaf = 2min_samples_split = 2OOB score is 0.8805936815354025\n",
            "------------------------------\n"
          ],
          "name": "stdout"
        },
        {
          "output_type": "stream",
          "text": [
            "/usr/local/lib/python3.6/dist-packages/sklearn/ensemble/_forest.py:815: UserWarning: Some inputs do not have OOB scores. This probably means too few trees were used to compute any reliable oob estimates.\n",
            "  warn(\"Some inputs do not have OOB scores. \"\n"
          ],
          "name": "stderr"
        },
        {
          "output_type": "stream",
          "text": [
            "n_estimators = 26max_deph = 14max_features = 10min_samples_leaf = 2min_samples_split = 2OOB score is 0.8796065813107699\n",
            "------------------------------\n"
          ],
          "name": "stdout"
        },
        {
          "output_type": "stream",
          "text": [
            "/usr/local/lib/python3.6/dist-packages/sklearn/ensemble/_forest.py:815: UserWarning: Some inputs do not have OOB scores. This probably means too few trees were used to compute any reliable oob estimates.\n",
            "  warn(\"Some inputs do not have OOB scores. \"\n"
          ],
          "name": "stderr"
        },
        {
          "output_type": "stream",
          "text": [
            "n_estimators = 26max_deph = 14max_features = 12min_samples_leaf = 2min_samples_split = 2OOB score is 0.8800496736689579\n",
            "------------------------------\n"
          ],
          "name": "stdout"
        },
        {
          "output_type": "stream",
          "text": [
            "/usr/local/lib/python3.6/dist-packages/sklearn/ensemble/_forest.py:815: UserWarning: Some inputs do not have OOB scores. This probably means too few trees were used to compute any reliable oob estimates.\n",
            "  warn(\"Some inputs do not have OOB scores. \"\n"
          ],
          "name": "stderr"
        },
        {
          "output_type": "stream",
          "text": [
            "n_estimators = 26max_deph = 14max_features = 14min_samples_leaf = 2min_samples_split = 2OOB score is 0.8809128055605021\n",
            "------------------------------\n"
          ],
          "name": "stdout"
        },
        {
          "output_type": "stream",
          "text": [
            "/usr/local/lib/python3.6/dist-packages/sklearn/ensemble/_forest.py:815: UserWarning: Some inputs do not have OOB scores. This probably means too few trees were used to compute any reliable oob estimates.\n",
            "  warn(\"Some inputs do not have OOB scores. \"\n"
          ],
          "name": "stderr"
        },
        {
          "output_type": "stream",
          "text": [
            "n_estimators = 26max_deph = 14max_features = 16min_samples_leaf = 2min_samples_split = 2OOB score is 0.8801237044611233\n",
            "------------------------------\n"
          ],
          "name": "stdout"
        },
        {
          "output_type": "stream",
          "text": [
            "/usr/local/lib/python3.6/dist-packages/sklearn/ensemble/_forest.py:815: UserWarning: Some inputs do not have OOB scores. This probably means too few trees were used to compute any reliable oob estimates.\n",
            "  warn(\"Some inputs do not have OOB scores. \"\n"
          ],
          "name": "stderr"
        },
        {
          "output_type": "stream",
          "text": [
            "n_estimators = 26max_deph = 14max_features = 18min_samples_leaf = 2min_samples_split = 2OOB score is 0.8801475385437652\n",
            "------------------------------\n"
          ],
          "name": "stdout"
        },
        {
          "output_type": "stream",
          "text": [
            "/usr/local/lib/python3.6/dist-packages/sklearn/ensemble/_forest.py:815: UserWarning: Some inputs do not have OOB scores. This probably means too few trees were used to compute any reliable oob estimates.\n",
            "  warn(\"Some inputs do not have OOB scores. \"\n"
          ],
          "name": "stderr"
        },
        {
          "output_type": "stream",
          "text": [
            "n_estimators = 26max_deph = 16max_features = 6min_samples_leaf = 2min_samples_split = 2OOB score is 0.8779782200957078\n",
            "------------------------------\n"
          ],
          "name": "stdout"
        },
        {
          "output_type": "stream",
          "text": [
            "/usr/local/lib/python3.6/dist-packages/sklearn/ensemble/_forest.py:815: UserWarning: Some inputs do not have OOB scores. This probably means too few trees were used to compute any reliable oob estimates.\n",
            "  warn(\"Some inputs do not have OOB scores. \"\n"
          ],
          "name": "stderr"
        },
        {
          "output_type": "stream",
          "text": [
            "n_estimators = 26max_deph = 16max_features = 8min_samples_leaf = 2min_samples_split = 2OOB score is 0.878862559802541\n",
            "------------------------------\n"
          ],
          "name": "stdout"
        },
        {
          "output_type": "stream",
          "text": [
            "/usr/local/lib/python3.6/dist-packages/sklearn/ensemble/_forest.py:815: UserWarning: Some inputs do not have OOB scores. This probably means too few trees were used to compute any reliable oob estimates.\n",
            "  warn(\"Some inputs do not have OOB scores. \"\n"
          ],
          "name": "stderr"
        },
        {
          "output_type": "stream",
          "text": [
            "n_estimators = 26max_deph = 16max_features = 10min_samples_leaf = 2min_samples_split = 2OOB score is 0.8815753180453705\n",
            "------------------------------\n"
          ],
          "name": "stdout"
        },
        {
          "output_type": "stream",
          "text": [
            "/usr/local/lib/python3.6/dist-packages/sklearn/ensemble/_forest.py:815: UserWarning: Some inputs do not have OOB scores. This probably means too few trees were used to compute any reliable oob estimates.\n",
            "  warn(\"Some inputs do not have OOB scores. \"\n"
          ],
          "name": "stderr"
        },
        {
          "output_type": "stream",
          "text": [
            "n_estimators = 26max_deph = 16max_features = 12min_samples_leaf = 2min_samples_split = 2OOB score is 0.8805500511698918\n",
            "------------------------------\n"
          ],
          "name": "stdout"
        },
        {
          "output_type": "stream",
          "text": [
            "/usr/local/lib/python3.6/dist-packages/sklearn/ensemble/_forest.py:815: UserWarning: Some inputs do not have OOB scores. This probably means too few trees were used to compute any reliable oob estimates.\n",
            "  warn(\"Some inputs do not have OOB scores. \"\n"
          ],
          "name": "stderr"
        },
        {
          "output_type": "stream",
          "text": [
            "n_estimators = 26max_deph = 16max_features = 14min_samples_leaf = 2min_samples_split = 2OOB score is 0.8789776936964032\n",
            "------------------------------\n"
          ],
          "name": "stdout"
        },
        {
          "output_type": "stream",
          "text": [
            "/usr/local/lib/python3.6/dist-packages/sklearn/ensemble/_forest.py:815: UserWarning: Some inputs do not have OOB scores. This probably means too few trees were used to compute any reliable oob estimates.\n",
            "  warn(\"Some inputs do not have OOB scores. \"\n"
          ],
          "name": "stderr"
        },
        {
          "output_type": "stream",
          "text": [
            "n_estimators = 26max_deph = 16max_features = 16min_samples_leaf = 2min_samples_split = 2OOB score is 0.8794090291003102\n",
            "------------------------------\n"
          ],
          "name": "stdout"
        },
        {
          "output_type": "stream",
          "text": [
            "/usr/local/lib/python3.6/dist-packages/sklearn/ensemble/_forest.py:815: UserWarning: Some inputs do not have OOB scores. This probably means too few trees were used to compute any reliable oob estimates.\n",
            "  warn(\"Some inputs do not have OOB scores. \"\n"
          ],
          "name": "stderr"
        },
        {
          "output_type": "stream",
          "text": [
            "n_estimators = 26max_deph = 16max_features = 18min_samples_leaf = 2min_samples_split = 2OOB score is 0.8790899153361993\n",
            "------------------------------\n"
          ],
          "name": "stdout"
        },
        {
          "output_type": "stream",
          "text": [
            "/usr/local/lib/python3.6/dist-packages/sklearn/ensemble/_forest.py:815: UserWarning: Some inputs do not have OOB scores. This probably means too few trees were used to compute any reliable oob estimates.\n",
            "  warn(\"Some inputs do not have OOB scores. \"\n"
          ],
          "name": "stderr"
        },
        {
          "output_type": "stream",
          "text": [
            "n_estimators = 26max_deph = 18max_features = 6min_samples_leaf = 2min_samples_split = 2OOB score is 0.8772083606533434\n",
            "------------------------------\n"
          ],
          "name": "stdout"
        },
        {
          "output_type": "stream",
          "text": [
            "/usr/local/lib/python3.6/dist-packages/sklearn/ensemble/_forest.py:815: UserWarning: Some inputs do not have OOB scores. This probably means too few trees were used to compute any reliable oob estimates.\n",
            "  warn(\"Some inputs do not have OOB scores. \"\n"
          ],
          "name": "stderr"
        },
        {
          "output_type": "stream",
          "text": [
            "n_estimators = 26max_deph = 18max_features = 8min_samples_leaf = 2min_samples_split = 2OOB score is 0.8788007151035834\n",
            "------------------------------\n"
          ],
          "name": "stdout"
        },
        {
          "output_type": "stream",
          "text": [
            "/usr/local/lib/python3.6/dist-packages/sklearn/ensemble/_forest.py:815: UserWarning: Some inputs do not have OOB scores. This probably means too few trees were used to compute any reliable oob estimates.\n",
            "  warn(\"Some inputs do not have OOB scores. \"\n"
          ],
          "name": "stderr"
        },
        {
          "output_type": "stream",
          "text": [
            "n_estimators = 26max_deph = 18max_features = 10min_samples_leaf = 2min_samples_split = 2OOB score is 0.8797714376776741\n",
            "------------------------------\n"
          ],
          "name": "stdout"
        },
        {
          "output_type": "stream",
          "text": [
            "/usr/local/lib/python3.6/dist-packages/sklearn/ensemble/_forest.py:815: UserWarning: Some inputs do not have OOB scores. This probably means too few trees were used to compute any reliable oob estimates.\n",
            "  warn(\"Some inputs do not have OOB scores. \"\n"
          ],
          "name": "stderr"
        },
        {
          "output_type": "stream",
          "text": [
            "n_estimators = 26max_deph = 18max_features = 12min_samples_leaf = 2min_samples_split = 2OOB score is 0.8799197170116148\n",
            "------------------------------\n"
          ],
          "name": "stdout"
        },
        {
          "output_type": "stream",
          "text": [
            "/usr/local/lib/python3.6/dist-packages/sklearn/ensemble/_forest.py:815: UserWarning: Some inputs do not have OOB scores. This probably means too few trees were used to compute any reliable oob estimates.\n",
            "  warn(\"Some inputs do not have OOB scores. \"\n"
          ],
          "name": "stderr"
        },
        {
          "output_type": "stream",
          "text": [
            "n_estimators = 26max_deph = 18max_features = 14min_samples_leaf = 2min_samples_split = 2OOB score is 0.8786615551111938\n",
            "------------------------------\n"
          ],
          "name": "stdout"
        },
        {
          "output_type": "stream",
          "text": [
            "/usr/local/lib/python3.6/dist-packages/sklearn/ensemble/_forest.py:815: UserWarning: Some inputs do not have OOB scores. This probably means too few trees were used to compute any reliable oob estimates.\n",
            "  warn(\"Some inputs do not have OOB scores. \"\n"
          ],
          "name": "stderr"
        },
        {
          "output_type": "stream",
          "text": [
            "n_estimators = 26max_deph = 18max_features = 16min_samples_leaf = 2min_samples_split = 2OOB score is 0.8777477618988281\n",
            "------------------------------\n"
          ],
          "name": "stdout"
        },
        {
          "output_type": "stream",
          "text": [
            "/usr/local/lib/python3.6/dist-packages/sklearn/ensemble/_forest.py:815: UserWarning: Some inputs do not have OOB scores. This probably means too few trees were used to compute any reliable oob estimates.\n",
            "  warn(\"Some inputs do not have OOB scores. \"\n"
          ],
          "name": "stderr"
        },
        {
          "output_type": "stream",
          "text": [
            "n_estimators = 26max_deph = 18max_features = 18min_samples_leaf = 2min_samples_split = 2OOB score is 0.8775338666012165\n",
            "------------------------------\n",
            "n_estimators = 28max_deph = 6max_features = 6min_samples_leaf = 2min_samples_split = 2OOB score is 0.860325337258328\n",
            "------------------------------\n",
            "n_estimators = 28max_deph = 6max_features = 8min_samples_leaf = 2min_samples_split = 2OOB score is 0.8643875865087255\n",
            "------------------------------\n",
            "n_estimators = 28max_deph = 6max_features = 10min_samples_leaf = 2min_samples_split = 2OOB score is 0.8654916620910102\n",
            "------------------------------\n",
            "n_estimators = 28max_deph = 6max_features = 12min_samples_leaf = 2min_samples_split = 2OOB score is 0.8671073121681543\n",
            "------------------------------\n",
            "n_estimators = 28max_deph = 6max_features = 14min_samples_leaf = 2min_samples_split = 2OOB score is 0.8687558068468635\n",
            "------------------------------\n",
            "n_estimators = 28max_deph = 6max_features = 16min_samples_leaf = 2min_samples_split = 2OOB score is 0.8691823521664642\n",
            "------------------------------\n",
            "n_estimators = 28max_deph = 6max_features = 18min_samples_leaf = 2min_samples_split = 2OOB score is 0.8682274897629879\n",
            "------------------------------\n",
            "n_estimators = 28max_deph = 8max_features = 6min_samples_leaf = 2min_samples_split = 2OOB score is 0.8741305802643697\n",
            "------------------------------\n",
            "n_estimators = 28max_deph = 8max_features = 8min_samples_leaf = 2min_samples_split = 2OOB score is 0.8777889894221056\n",
            "------------------------------\n",
            "n_estimators = 28max_deph = 8max_features = 10min_samples_leaf = 2min_samples_split = 2OOB score is 0.8775865293547668\n",
            "------------------------------\n",
            "n_estimators = 28max_deph = 8max_features = 12min_samples_leaf = 2min_samples_split = 2OOB score is 0.8800023143548319\n",
            "------------------------------\n",
            "n_estimators = 28max_deph = 8max_features = 14min_samples_leaf = 2min_samples_split = 2OOB score is 0.8800408464598207\n",
            "------------------------------\n",
            "n_estimators = 28max_deph = 8max_features = 16min_samples_leaf = 2min_samples_split = 2OOB score is 0.8805728142712749\n",
            "------------------------------\n",
            "n_estimators = 28max_deph = 8max_features = 18min_samples_leaf = 2min_samples_split = 2OOB score is 0.880743250913541\n",
            "------------------------------\n",
            "n_estimators = 28max_deph = 10max_features = 6min_samples_leaf = 2min_samples_split = 2OOB score is 0.8803836031574871\n",
            "------------------------------\n",
            "n_estimators = 28max_deph = 10max_features = 8min_samples_leaf = 2min_samples_split = 2OOB score is 0.8824975185416484\n",
            "------------------------------\n",
            "n_estimators = 28max_deph = 10max_features = 10min_samples_leaf = 2min_samples_split = 2OOB score is 0.8836432254106378\n",
            "------------------------------\n",
            "n_estimators = 28max_deph = 10max_features = 12min_samples_leaf = 2min_samples_split = 2OOB score is 0.8832405908615286\n",
            "------------------------------\n",
            "n_estimators = 28max_deph = 10max_features = 14min_samples_leaf = 2min_samples_split = 2OOB score is 0.8834931827766287\n",
            "------------------------------\n",
            "n_estimators = 28max_deph = 10max_features = 16min_samples_leaf = 2min_samples_split = 2OOB score is 0.8833861187744358\n",
            "------------------------------\n",
            "n_estimators = 28max_deph = 10max_features = 18min_samples_leaf = 2min_samples_split = 2OOB score is 0.885091958000629\n",
            "------------------------------\n",
            "n_estimators = 28max_deph = 12max_features = 6min_samples_leaf = 2min_samples_split = 2OOB score is 0.8809274306902066\n",
            "------------------------------\n",
            "n_estimators = 28max_deph = 12max_features = 8min_samples_leaf = 2min_samples_split = 2OOB score is 0.8832679649876854\n",
            "------------------------------\n",
            "n_estimators = 28max_deph = 12max_features = 10min_samples_leaf = 2min_samples_split = 2OOB score is 0.8826707056022802\n",
            "------------------------------\n",
            "n_estimators = 28max_deph = 12max_features = 12min_samples_leaf = 2min_samples_split = 2OOB score is 0.882728387035995\n",
            "------------------------------\n",
            "n_estimators = 28max_deph = 12max_features = 14min_samples_leaf = 2min_samples_split = 2OOB score is 0.8828752005022512\n",
            "------------------------------\n",
            "n_estimators = 28max_deph = 12max_features = 16min_samples_leaf = 2min_samples_split = 2OOB score is 0.8834148821832718\n",
            "------------------------------\n",
            "n_estimators = 28max_deph = 12max_features = 18min_samples_leaf = 2min_samples_split = 2OOB score is 0.8832112892978431\n",
            "------------------------------\n",
            "n_estimators = 28max_deph = 14max_features = 6min_samples_leaf = 2min_samples_split = 2OOB score is 0.8810743634285744\n",
            "------------------------------\n",
            "n_estimators = 28max_deph = 14max_features = 8min_samples_leaf = 2min_samples_split = 2OOB score is 0.8824647738980217\n",
            "------------------------------\n",
            "n_estimators = 28max_deph = 14max_features = 10min_samples_leaf = 2min_samples_split = 2OOB score is 0.881363376669461\n",
            "------------------------------\n",
            "n_estimators = 28max_deph = 14max_features = 12min_samples_leaf = 2min_samples_split = 2OOB score is 0.882009306591069\n",
            "------------------------------\n",
            "n_estimators = 28max_deph = 14max_features = 14min_samples_leaf = 2min_samples_split = 2OOB score is 0.8827750269649585\n",
            "------------------------------\n",
            "n_estimators = 28max_deph = 14max_features = 16min_samples_leaf = 2min_samples_split = 2OOB score is 0.8820830338127108\n",
            "------------------------------\n",
            "n_estimators = 28max_deph = 14max_features = 18min_samples_leaf = 2min_samples_split = 2OOB score is 0.8816987309636051\n",
            "------------------------------\n",
            "n_estimators = 28max_deph = 16max_features = 6min_samples_leaf = 2min_samples_split = 2OOB score is 0.8798336510538942\n",
            "------------------------------\n",
            "n_estimators = 28max_deph = 16max_features = 8min_samples_leaf = 2min_samples_split = 2OOB score is 0.8806694720183098\n",
            "------------------------------\n",
            "n_estimators = 28max_deph = 16max_features = 10min_samples_leaf = 2min_samples_split = 2OOB score is 0.8829612660497249\n",
            "------------------------------\n",
            "n_estimators = 28max_deph = 16max_features = 12min_samples_leaf = 2min_samples_split = 2OOB score is 0.8823877876819363\n",
            "------------------------------\n",
            "n_estimators = 28max_deph = 16max_features = 14min_samples_leaf = 2min_samples_split = 2OOB score is 0.8806666564769225\n",
            "------------------------------\n",
            "n_estimators = 28max_deph = 16max_features = 16min_samples_leaf = 2min_samples_split = 2OOB score is 0.881470331648684\n",
            "------------------------------\n",
            "n_estimators = 28max_deph = 16max_features = 18min_samples_leaf = 2min_samples_split = 2OOB score is 0.8809915656526532\n",
            "------------------------------\n",
            "n_estimators = 28max_deph = 18max_features = 6min_samples_leaf = 2min_samples_split = 2OOB score is 0.8786067779193234\n",
            "------------------------------\n",
            "n_estimators = 28max_deph = 18max_features = 8min_samples_leaf = 2min_samples_split = 2OOB score is 0.8805598343314456\n",
            "------------------------------\n",
            "n_estimators = 28max_deph = 18max_features = 10min_samples_leaf = 2min_samples_split = 2OOB score is 0.8815260405339375\n",
            "------------------------------\n",
            "n_estimators = 28max_deph = 18max_features = 12min_samples_leaf = 2min_samples_split = 2OOB score is 0.8818001599521941\n",
            "------------------------------\n",
            "n_estimators = 28max_deph = 18max_features = 14min_samples_leaf = 2min_samples_split = 2OOB score is 0.880752717381659\n",
            "------------------------------\n",
            "n_estimators = 28max_deph = 18max_features = 16min_samples_leaf = 2min_samples_split = 2OOB score is 0.8797429899305671\n",
            "------------------------------\n",
            "n_estimators = 28max_deph = 18max_features = 18min_samples_leaf = 2min_samples_split = 2OOB score is 0.8791125673623226\n",
            "------------------------------\n",
            "n_estimators = 30max_deph = 6max_features = 6min_samples_leaf = 2min_samples_split = 2OOB score is 0.8605542391885042\n",
            "------------------------------\n",
            "n_estimators = 30max_deph = 6max_features = 8min_samples_leaf = 2min_samples_split = 2OOB score is 0.864293552879126\n",
            "------------------------------\n",
            "n_estimators = 30max_deph = 6max_features = 10min_samples_leaf = 2min_samples_split = 2OOB score is 0.8658515373914819\n",
            "------------------------------\n",
            "n_estimators = 30max_deph = 6max_features = 12min_samples_leaf = 2min_samples_split = 2OOB score is 0.8675256640541177\n",
            "------------------------------\n",
            "n_estimators = 30max_deph = 6max_features = 14min_samples_leaf = 2min_samples_split = 2OOB score is 0.8688700258733167\n",
            "------------------------------\n",
            "n_estimators = 30max_deph = 6max_features = 16min_samples_leaf = 2min_samples_split = 2OOB score is 0.8696382861436448\n",
            "------------------------------\n",
            "n_estimators = 30max_deph = 6max_features = 18min_samples_leaf = 2min_samples_split = 2OOB score is 0.8684631800836725\n",
            "------------------------------\n",
            "n_estimators = 30max_deph = 8max_features = 6min_samples_leaf = 2min_samples_split = 2OOB score is 0.8746155323787975\n",
            "------------------------------\n",
            "n_estimators = 30max_deph = 8max_features = 8min_samples_leaf = 2min_samples_split = 2OOB score is 0.8777714311083243\n",
            "------------------------------\n",
            "n_estimators = 30max_deph = 8max_features = 10min_samples_leaf = 2min_samples_split = 2OOB score is 0.8780986018629812\n",
            "------------------------------\n",
            "n_estimators = 30max_deph = 8max_features = 12min_samples_leaf = 2min_samples_split = 2OOB score is 0.8802730709860838\n",
            "------------------------------\n",
            "n_estimators = 30max_deph = 8max_features = 14min_samples_leaf = 2min_samples_split = 2OOB score is 0.8802653206643708\n",
            "------------------------------\n",
            "n_estimators = 30max_deph = 8max_features = 16min_samples_leaf = 2min_samples_split = 2OOB score is 0.8809694752448849\n",
            "------------------------------\n",
            "n_estimators = 30max_deph = 8max_features = 18min_samples_leaf = 2min_samples_split = 2OOB score is 0.8808344001459455\n",
            "------------------------------\n",
            "n_estimators = 30max_deph = 10max_features = 6min_samples_leaf = 2min_samples_split = 2OOB score is 0.8808913659066077\n",
            "------------------------------\n",
            "n_estimators = 30max_deph = 10max_features = 8min_samples_leaf = 2min_samples_split = 2OOB score is 0.8829335494512769\n",
            "------------------------------\n",
            "n_estimators = 30max_deph = 10max_features = 10min_samples_leaf = 2min_samples_split = 2OOB score is 0.8841270213916554\n",
            "------------------------------\n",
            "n_estimators = 30max_deph = 10max_features = 12min_samples_leaf = 2min_samples_split = 2OOB score is 0.8834192170430546\n",
            "------------------------------\n",
            "n_estimators = 30max_deph = 10max_features = 14min_samples_leaf = 2min_samples_split = 2OOB score is 0.8839738952894757\n",
            "------------------------------\n",
            "n_estimators = 30max_deph = 10max_features = 16min_samples_leaf = 2min_samples_split = 2OOB score is 0.8839363280309607\n",
            "------------------------------\n",
            "n_estimators = 30max_deph = 10max_features = 18min_samples_leaf = 2min_samples_split = 2OOB score is 0.8855861380100081\n",
            "------------------------------\n",
            "n_estimators = 30max_deph = 12max_features = 6min_samples_leaf = 2min_samples_split = 2OOB score is 0.8812594290383735\n",
            "------------------------------\n",
            "n_estimators = 30max_deph = 12max_features = 8min_samples_leaf = 2min_samples_split = 2OOB score is 0.883828654684553\n",
            "------------------------------\n",
            "n_estimators = 30max_deph = 12max_features = 10min_samples_leaf = 2min_samples_split = 2OOB score is 0.8836059639948584\n",
            "------------------------------\n",
            "n_estimators = 30max_deph = 12max_features = 12min_samples_leaf = 2min_samples_split = 2OOB score is 0.8834220508829812\n",
            "------------------------------\n",
            "n_estimators = 30max_deph = 12max_features = 14min_samples_leaf = 2min_samples_split = 2OOB score is 0.883271773158366\n",
            "------------------------------\n",
            "n_estimators = 30max_deph = 12max_features = 16min_samples_leaf = 2min_samples_split = 2OOB score is 0.8837376629623256\n",
            "------------------------------\n",
            "n_estimators = 30max_deph = 12max_features = 18min_samples_leaf = 2min_samples_split = 2OOB score is 0.8839342764415906\n",
            "------------------------------\n",
            "n_estimators = 30max_deph = 14max_features = 6min_samples_leaf = 2min_samples_split = 2OOB score is 0.8818771098492787\n",
            "------------------------------\n",
            "n_estimators = 30max_deph = 14max_features = 8min_samples_leaf = 2min_samples_split = 2OOB score is 0.883276351210538\n",
            "------------------------------\n",
            "n_estimators = 30max_deph = 14max_features = 10min_samples_leaf = 2min_samples_split = 2OOB score is 0.8824846980873828\n",
            "------------------------------\n",
            "n_estimators = 30max_deph = 14max_features = 12min_samples_leaf = 2min_samples_split = 2OOB score is 0.8828813213221621\n",
            "------------------------------\n",
            "n_estimators = 30max_deph = 14max_features = 14min_samples_leaf = 2min_samples_split = 2OOB score is 0.8834177102439761\n",
            "------------------------------\n",
            "n_estimators = 30max_deph = 14max_features = 16min_samples_leaf = 2min_samples_split = 2OOB score is 0.882621096741947\n",
            "------------------------------\n",
            "n_estimators = 30max_deph = 14max_features = 18min_samples_leaf = 2min_samples_split = 2OOB score is 0.8820997758039525\n",
            "------------------------------\n",
            "n_estimators = 30max_deph = 16max_features = 6min_samples_leaf = 2min_samples_split = 2OOB score is 0.880635578130136\n",
            "------------------------------\n",
            "n_estimators = 30max_deph = 16max_features = 8min_samples_leaf = 2min_samples_split = 2OOB score is 0.8817642687316568\n",
            "------------------------------\n",
            "n_estimators = 30max_deph = 16max_features = 10min_samples_leaf = 2min_samples_split = 2OOB score is 0.8837242531054572\n",
            "------------------------------\n",
            "n_estimators = 30max_deph = 16max_features = 12min_samples_leaf = 2min_samples_split = 2OOB score is 0.8829369292589072\n",
            "------------------------------\n",
            "n_estimators = 30max_deph = 16max_features = 14min_samples_leaf = 2min_samples_split = 2OOB score is 0.8815030708757768\n",
            "------------------------------\n",
            "n_estimators = 30max_deph = 16max_features = 16min_samples_leaf = 2min_samples_split = 2OOB score is 0.8819340288205757\n",
            "------------------------------\n",
            "n_estimators = 30max_deph = 16max_features = 18min_samples_leaf = 2min_samples_split = 2OOB score is 0.8816010560284802\n",
            "------------------------------\n",
            "n_estimators = 30max_deph = 18max_features = 6min_samples_leaf = 2min_samples_split = 2OOB score is 0.8796626478486398\n",
            "------------------------------\n",
            "n_estimators = 30max_deph = 18max_features = 8min_samples_leaf = 2min_samples_split = 2OOB score is 0.8815488192297908\n",
            "------------------------------\n",
            "n_estimators = 30max_deph = 18max_features = 10min_samples_leaf = 2min_samples_split = 2OOB score is 0.8823605694917569\n",
            "------------------------------\n",
            "n_estimators = 30max_deph = 18max_features = 12min_samples_leaf = 2min_samples_split = 2OOB score is 0.8823135137684478\n",
            "------------------------------\n",
            "n_estimators = 30max_deph = 18max_features = 14min_samples_leaf = 2min_samples_split = 2OOB score is 0.8819116956615763\n",
            "------------------------------\n",
            "n_estimators = 30max_deph = 18max_features = 16min_samples_leaf = 2min_samples_split = 2OOB score is 0.8806428238426537\n",
            "------------------------------\n",
            "n_estimators = 30max_deph = 18max_features = 18min_samples_leaf = 2min_samples_split = 2OOB score is 0.8798571005912823\n",
            "------------------------------\n",
            "n_estimators = 32max_deph = 6max_features = 6min_samples_leaf = 2min_samples_split = 2OOB score is 0.8608929119650099\n",
            "------------------------------\n",
            "n_estimators = 32max_deph = 6max_features = 8min_samples_leaf = 2min_samples_split = 2OOB score is 0.8643533745428091\n",
            "------------------------------\n",
            "n_estimators = 32max_deph = 6max_features = 10min_samples_leaf = 2min_samples_split = 2OOB score is 0.866498258411855\n",
            "------------------------------\n",
            "n_estimators = 32max_deph = 6max_features = 12min_samples_leaf = 2min_samples_split = 2OOB score is 0.867443438416156\n",
            "------------------------------\n",
            "n_estimators = 32max_deph = 6max_features = 14min_samples_leaf = 2min_samples_split = 2OOB score is 0.8693885178750754\n",
            "------------------------------\n",
            "n_estimators = 32max_deph = 6max_features = 16min_samples_leaf = 2min_samples_split = 2OOB score is 0.8698624546186593\n",
            "------------------------------\n",
            "n_estimators = 32max_deph = 6max_features = 18min_samples_leaf = 2min_samples_split = 2OOB score is 0.868728441023841\n",
            "------------------------------\n",
            "n_estimators = 32max_deph = 8max_features = 6min_samples_leaf = 2min_samples_split = 2OOB score is 0.8749051473634007\n",
            "------------------------------\n",
            "n_estimators = 32max_deph = 8max_features = 8min_samples_leaf = 2min_samples_split = 2OOB score is 0.8779323652932287\n",
            "------------------------------\n",
            "n_estimators = 32max_deph = 8max_features = 10min_samples_leaf = 2min_samples_split = 2OOB score is 0.8784895912568389\n",
            "------------------------------\n",
            "n_estimators = 32max_deph = 8max_features = 12min_samples_leaf = 2min_samples_split = 2OOB score is 0.8805400371259107\n",
            "------------------------------\n",
            "n_estimators = 32max_deph = 8max_features = 14min_samples_leaf = 2min_samples_split = 2OOB score is 0.8806211284642408\n",
            "------------------------------\n",
            "n_estimators = 32max_deph = 8max_features = 16min_samples_leaf = 2min_samples_split = 2OOB score is 0.8812601427889684\n",
            "------------------------------\n",
            "n_estimators = 32max_deph = 8max_features = 18min_samples_leaf = 2min_samples_split = 2OOB score is 0.8808990815023099\n",
            "------------------------------\n",
            "n_estimators = 32max_deph = 10max_features = 6min_samples_leaf = 2min_samples_split = 2OOB score is 0.8815810986128798\n",
            "------------------------------\n",
            "n_estimators = 32max_deph = 10max_features = 8min_samples_leaf = 2min_samples_split = 2OOB score is 0.8833505221545294\n",
            "------------------------------\n",
            "n_estimators = 32max_deph = 10max_features = 10min_samples_leaf = 2min_samples_split = 2OOB score is 0.8848074395619182\n",
            "------------------------------\n",
            "n_estimators = 32max_deph = 10max_features = 12min_samples_leaf = 2min_samples_split = 2OOB score is 0.883930487815218\n",
            "------------------------------\n",
            "n_estimators = 32max_deph = 10max_features = 14min_samples_leaf = 2min_samples_split = 2OOB score is 0.8845467359572446\n",
            "------------------------------\n",
            "n_estimators = 32max_deph = 10max_features = 16min_samples_leaf = 2min_samples_split = 2OOB score is 0.8842410908127879\n",
            "------------------------------\n",
            "n_estimators = 32max_deph = 10max_features = 18min_samples_leaf = 2min_samples_split = 2OOB score is 0.8858022282294888\n",
            "------------------------------\n",
            "n_estimators = 32max_deph = 12max_features = 6min_samples_leaf = 2min_samples_split = 2OOB score is 0.8812166131779048\n",
            "------------------------------\n",
            "n_estimators = 32max_deph = 12max_features = 8min_samples_leaf = 2min_samples_split = 2OOB score is 0.8847812876204412\n",
            "------------------------------\n",
            "n_estimators = 32max_deph = 12max_features = 10min_samples_leaf = 2min_samples_split = 2OOB score is 0.8840668034757277\n",
            "------------------------------\n",
            "n_estimators = 32max_deph = 12max_features = 12min_samples_leaf = 2min_samples_split = 2OOB score is 0.8839192455745915\n",
            "------------------------------\n",
            "n_estimators = 32max_deph = 12max_features = 14min_samples_leaf = 2min_samples_split = 2OOB score is 0.8839577105357728\n",
            "------------------------------\n",
            "n_estimators = 32max_deph = 12max_features = 16min_samples_leaf = 2min_samples_split = 2OOB score is 0.8841051615871608\n",
            "------------------------------\n",
            "n_estimators = 32max_deph = 12max_features = 18min_samples_leaf = 2min_samples_split = 2OOB score is 0.884408803144389\n",
            "------------------------------\n",
            "n_estimators = 32max_deph = 14max_features = 6min_samples_leaf = 2min_samples_split = 2OOB score is 0.882807081206198\n",
            "------------------------------\n",
            "n_estimators = 32max_deph = 14max_features = 8min_samples_leaf = 2min_samples_split = 2OOB score is 0.8838682957992194\n",
            "------------------------------\n",
            "n_estimators = 32max_deph = 14max_features = 10min_samples_leaf = 2min_samples_split = 2OOB score is 0.8833460726907815\n",
            "------------------------------\n",
            "n_estimators = 32max_deph = 14max_features = 12min_samples_leaf = 2min_samples_split = 2OOB score is 0.8834316598682023\n",
            "------------------------------\n",
            "n_estimators = 32max_deph = 14max_features = 14min_samples_leaf = 2min_samples_split = 2OOB score is 0.8838871946481417\n",
            "------------------------------\n",
            "n_estimators = 32max_deph = 14max_features = 16min_samples_leaf = 2min_samples_split = 2OOB score is 0.8832860071003609\n",
            "------------------------------\n",
            "n_estimators = 32max_deph = 14max_features = 18min_samples_leaf = 2min_samples_split = 2OOB score is 0.8825735256553675\n",
            "------------------------------\n",
            "n_estimators = 32max_deph = 16max_features = 6min_samples_leaf = 2min_samples_split = 2OOB score is 0.8815766353617923\n",
            "------------------------------\n",
            "n_estimators = 32max_deph = 16max_features = 8min_samples_leaf = 2min_samples_split = 2OOB score is 0.8822737364489059\n",
            "------------------------------\n",
            "n_estimators = 32max_deph = 16max_features = 10min_samples_leaf = 2min_samples_split = 2OOB score is 0.8841832399558299\n",
            "------------------------------\n",
            "n_estimators = 32max_deph = 16max_features = 12min_samples_leaf = 2min_samples_split = 2OOB score is 0.8835918327545338\n",
            "------------------------------\n",
            "n_estimators = 32max_deph = 16max_features = 14min_samples_leaf = 2min_samples_split = 2OOB score is 0.8819174619786799\n",
            "------------------------------\n",
            "n_estimators = 32max_deph = 16max_features = 16min_samples_leaf = 2min_samples_split = 2OOB score is 0.8826427749767155\n",
            "------------------------------\n",
            "n_estimators = 32max_deph = 16max_features = 18min_samples_leaf = 2min_samples_split = 2OOB score is 0.8824650288710302\n",
            "------------------------------\n",
            "n_estimators = 32max_deph = 18max_features = 6min_samples_leaf = 2min_samples_split = 2OOB score is 0.8803444421933108\n",
            "------------------------------\n",
            "n_estimators = 32max_deph = 18max_features = 8min_samples_leaf = 2min_samples_split = 2OOB score is 0.8821632380639874\n",
            "------------------------------\n",
            "n_estimators = 32max_deph = 18max_features = 10min_samples_leaf = 2min_samples_split = 2OOB score is 0.8828398542096867\n",
            "------------------------------\n",
            "n_estimators = 32max_deph = 18max_features = 12min_samples_leaf = 2min_samples_split = 2OOB score is 0.8830068288183075\n",
            "------------------------------\n",
            "n_estimators = 32max_deph = 18max_features = 14min_samples_leaf = 2min_samples_split = 2OOB score is 0.8824515843940642\n",
            "------------------------------\n",
            "n_estimators = 32max_deph = 18max_features = 16min_samples_leaf = 2min_samples_split = 2OOB score is 0.8815301261335112\n",
            "------------------------------\n",
            "n_estimators = 32max_deph = 18max_features = 18min_samples_leaf = 2min_samples_split = 2OOB score is 0.8803259999364343\n",
            "------------------------------\n",
            "n_estimators = 34max_deph = 6max_features = 6min_samples_leaf = 2min_samples_split = 2OOB score is 0.8612478636197164\n",
            "------------------------------\n",
            "n_estimators = 34max_deph = 6max_features = 8min_samples_leaf = 2min_samples_split = 2OOB score is 0.8642309380170171\n",
            "------------------------------\n",
            "n_estimators = 34max_deph = 6max_features = 10min_samples_leaf = 2min_samples_split = 2OOB score is 0.8663536748273997\n",
            "------------------------------\n",
            "n_estimators = 34max_deph = 6max_features = 12min_samples_leaf = 2min_samples_split = 2OOB score is 0.8676737374599939\n",
            "------------------------------\n",
            "n_estimators = 34max_deph = 6max_features = 14min_samples_leaf = 2min_samples_split = 2OOB score is 0.8694804723718238\n",
            "------------------------------\n",
            "n_estimators = 34max_deph = 6max_features = 16min_samples_leaf = 2min_samples_split = 2OOB score is 0.8702475696189386\n",
            "------------------------------\n",
            "n_estimators = 34max_deph = 6max_features = 18min_samples_leaf = 2min_samples_split = 2OOB score is 0.8692178647278498\n",
            "------------------------------\n",
            "n_estimators = 34max_deph = 8max_features = 6min_samples_leaf = 2min_samples_split = 2OOB score is 0.8748981015400431\n",
            "------------------------------\n",
            "n_estimators = 34max_deph = 8max_features = 8min_samples_leaf = 2min_samples_split = 2OOB score is 0.8780220726828372\n",
            "------------------------------\n",
            "n_estimators = 34max_deph = 8max_features = 10min_samples_leaf = 2min_samples_split = 2OOB score is 0.8788025716425895\n",
            "------------------------------\n",
            "n_estimators = 34max_deph = 8max_features = 12min_samples_leaf = 2min_samples_split = 2OOB score is 0.8807064411390422\n",
            "------------------------------\n",
            "n_estimators = 34max_deph = 8max_features = 14min_samples_leaf = 2min_samples_split = 2OOB score is 0.8812520126533874\n",
            "------------------------------\n",
            "n_estimators = 34max_deph = 8max_features = 16min_samples_leaf = 2min_samples_split = 2OOB score is 0.8818716539851537\n",
            "------------------------------\n",
            "n_estimators = 34max_deph = 8max_features = 18min_samples_leaf = 2min_samples_split = 2OOB score is 0.8811272251324704\n",
            "------------------------------\n",
            "n_estimators = 34max_deph = 10max_features = 6min_samples_leaf = 2min_samples_split = 2OOB score is 0.8818449991729757\n",
            "------------------------------\n",
            "n_estimators = 34max_deph = 10max_features = 8min_samples_leaf = 2min_samples_split = 2OOB score is 0.8837837120683592\n",
            "------------------------------\n",
            "n_estimators = 34max_deph = 10max_features = 10min_samples_leaf = 2min_samples_split = 2OOB score is 0.8853059891068296\n",
            "------------------------------\n",
            "n_estimators = 34max_deph = 10max_features = 12min_samples_leaf = 2min_samples_split = 2OOB score is 0.8846077798051103\n",
            "------------------------------\n",
            "n_estimators = 34max_deph = 10max_features = 14min_samples_leaf = 2min_samples_split = 2OOB score is 0.8849856510331804\n",
            "------------------------------\n",
            "n_estimators = 34max_deph = 10max_features = 16min_samples_leaf = 2min_samples_split = 2OOB score is 0.8846037604234713\n",
            "------------------------------\n",
            "n_estimators = 34max_deph = 10max_features = 18min_samples_leaf = 2min_samples_split = 2OOB score is 0.8864233318449137\n",
            "------------------------------\n",
            "n_estimators = 34max_deph = 12max_features = 6min_samples_leaf = 2min_samples_split = 2OOB score is 0.88160677030847\n",
            "------------------------------\n",
            "n_estimators = 34max_deph = 12max_features = 8min_samples_leaf = 2min_samples_split = 2OOB score is 0.8852129286897708\n",
            "------------------------------\n",
            "n_estimators = 34max_deph = 12max_features = 10min_samples_leaf = 2min_samples_split = 2OOB score is 0.8843749674807153\n",
            "------------------------------\n",
            "n_estimators = 34max_deph = 12max_features = 12min_samples_leaf = 2min_samples_split = 2OOB score is 0.884523803557\n",
            "------------------------------\n",
            "n_estimators = 34max_deph = 12max_features = 14min_samples_leaf = 2min_samples_split = 2OOB score is 0.884809534767009\n",
            "------------------------------\n",
            "n_estimators = 34max_deph = 12max_features = 16min_samples_leaf = 2min_samples_split = 2OOB score is 0.8844664625079712\n",
            "------------------------------\n",
            "n_estimators = 34max_deph = 12max_features = 18min_samples_leaf = 2min_samples_split = 2OOB score is 0.885136110368649\n",
            "------------------------------\n",
            "n_estimators = 34max_deph = 14max_features = 6min_samples_leaf = 2min_samples_split = 2OOB score is 0.8834163443098766\n",
            "------------------------------\n",
            "n_estimators = 34max_deph = 14max_features = 8min_samples_leaf = 2min_samples_split = 2OOB score is 0.8844902387145176\n",
            "------------------------------\n",
            "n_estimators = 34max_deph = 14max_features = 10min_samples_leaf = 2min_samples_split = 2OOB score is 0.8837946824396907\n",
            "------------------------------\n",
            "n_estimators = 34max_deph = 14max_features = 12min_samples_leaf = 2min_samples_split = 2OOB score is 0.8841790069616265\n",
            "------------------------------\n",
            "n_estimators = 34max_deph = 14max_features = 14min_samples_leaf = 2min_samples_split = 2OOB score is 0.8842497197932275\n",
            "------------------------------\n",
            "n_estimators = 34max_deph = 14max_features = 16min_samples_leaf = 2min_samples_split = 2OOB score is 0.8840479920244838\n",
            "------------------------------\n",
            "n_estimators = 34max_deph = 14max_features = 18min_samples_leaf = 2min_samples_split = 2OOB score is 0.8831864511859536\n",
            "------------------------------\n",
            "n_estimators = 34max_deph = 16max_features = 6min_samples_leaf = 2min_samples_split = 2OOB score is 0.8821368921633738\n",
            "------------------------------\n",
            "n_estimators = 34max_deph = 16max_features = 8min_samples_leaf = 2min_samples_split = 2OOB score is 0.8827122627720149\n",
            "------------------------------\n",
            "n_estimators = 34max_deph = 16max_features = 10min_samples_leaf = 2min_samples_split = 2OOB score is 0.8847824198377618\n",
            "------------------------------\n",
            "n_estimators = 34max_deph = 16max_features = 12min_samples_leaf = 2min_samples_split = 2OOB score is 0.884359644669563\n",
            "------------------------------\n",
            "n_estimators = 34max_deph = 16max_features = 14min_samples_leaf = 2min_samples_split = 2OOB score is 0.8824178460291465\n",
            "------------------------------\n",
            "n_estimators = 34max_deph = 16max_features = 16min_samples_leaf = 2min_samples_split = 2OOB score is 0.8832058593918474\n",
            "------------------------------\n",
            "n_estimators = 34max_deph = 16max_features = 18min_samples_leaf = 2min_samples_split = 2OOB score is 0.882958933029933\n",
            "------------------------------\n",
            "n_estimators = 34max_deph = 18max_features = 6min_samples_leaf = 2min_samples_split = 2OOB score is 0.8808843902416723\n",
            "------------------------------\n",
            "n_estimators = 34max_deph = 18max_features = 8min_samples_leaf = 2min_samples_split = 2OOB score is 0.8828807927022848\n",
            "------------------------------\n",
            "n_estimators = 34max_deph = 18max_features = 10min_samples_leaf = 2min_samples_split = 2OOB score is 0.8832572432038865\n",
            "------------------------------\n",
            "n_estimators = 34max_deph = 18max_features = 12min_samples_leaf = 2min_samples_split = 2OOB score is 0.8833800923854858\n",
            "------------------------------\n",
            "n_estimators = 34max_deph = 18max_features = 14min_samples_leaf = 2min_samples_split = 2OOB score is 0.8830235850851458\n",
            "------------------------------\n",
            "n_estimators = 34max_deph = 18max_features = 16min_samples_leaf = 2min_samples_split = 2OOB score is 0.8821950062770008\n",
            "------------------------------\n",
            "n_estimators = 34max_deph = 18max_features = 18min_samples_leaf = 2min_samples_split = 2OOB score is 0.8810680610063973\n",
            "------------------------------\n",
            "n_estimators = 36max_deph = 6max_features = 6min_samples_leaf = 2min_samples_split = 2OOB score is 0.8612032868695022\n",
            "------------------------------\n",
            "n_estimators = 36max_deph = 6max_features = 8min_samples_leaf = 2min_samples_split = 2OOB score is 0.8648127422773109\n",
            "------------------------------\n",
            "n_estimators = 36max_deph = 6max_features = 10min_samples_leaf = 2min_samples_split = 2OOB score is 0.8667611072118651\n",
            "------------------------------\n",
            "n_estimators = 36max_deph = 6max_features = 12min_samples_leaf = 2min_samples_split = 2OOB score is 0.8676619568697755\n",
            "------------------------------\n",
            "n_estimators = 36max_deph = 6max_features = 14min_samples_leaf = 2min_samples_split = 2OOB score is 0.8697673973802991\n",
            "------------------------------\n",
            "n_estimators = 36max_deph = 6max_features = 16min_samples_leaf = 2min_samples_split = 2OOB score is 0.8705336805234426\n",
            "------------------------------\n",
            "n_estimators = 36max_deph = 6max_features = 18min_samples_leaf = 2min_samples_split = 2OOB score is 0.8694430754238134\n",
            "------------------------------\n",
            "n_estimators = 36max_deph = 8max_features = 6min_samples_leaf = 2min_samples_split = 2OOB score is 0.875350482747065\n",
            "------------------------------\n",
            "n_estimators = 36max_deph = 8max_features = 8min_samples_leaf = 2min_samples_split = 2OOB score is 0.8782093429173696\n",
            "------------------------------\n",
            "n_estimators = 36max_deph = 8max_features = 10min_samples_leaf = 2min_samples_split = 2OOB score is 0.8792572371477096\n",
            "------------------------------\n",
            "n_estimators = 36max_deph = 8max_features = 12min_samples_leaf = 2min_samples_split = 2OOB score is 0.8809357685982979\n",
            "------------------------------\n",
            "n_estimators = 36max_deph = 8max_features = 14min_samples_leaf = 2min_samples_split = 2OOB score is 0.8814989769325335\n",
            "------------------------------\n",
            "n_estimators = 36max_deph = 8max_features = 16min_samples_leaf = 2min_samples_split = 2OOB score is 0.8818781473454586\n",
            "------------------------------\n",
            "n_estimators = 36max_deph = 8max_features = 18min_samples_leaf = 2min_samples_split = 2OOB score is 0.8814677845480349\n",
            "------------------------------\n",
            "n_estimators = 36max_deph = 10max_features = 6min_samples_leaf = 2min_samples_split = 2OOB score is 0.8819730044596709\n",
            "------------------------------\n",
            "n_estimators = 36max_deph = 10max_features = 8min_samples_leaf = 2min_samples_split = 2OOB score is 0.8839273302340106\n",
            "------------------------------\n",
            "n_estimators = 36max_deph = 10max_features = 10min_samples_leaf = 2min_samples_split = 2OOB score is 0.8855160706421669\n",
            "------------------------------\n",
            "n_estimators = 36max_deph = 10max_features = 12min_samples_leaf = 2min_samples_split = 2OOB score is 0.8850869432514493\n",
            "------------------------------\n",
            "n_estimators = 36max_deph = 10max_features = 14min_samples_leaf = 2min_samples_split = 2OOB score is 0.8855213226977092\n",
            "------------------------------\n",
            "n_estimators = 36max_deph = 10max_features = 16min_samples_leaf = 2min_samples_split = 2OOB score is 0.8849017408116322\n",
            "------------------------------\n",
            "n_estimators = 36max_deph = 10max_features = 18min_samples_leaf = 2min_samples_split = 2OOB score is 0.8867236852278426\n",
            "------------------------------\n",
            "n_estimators = 36max_deph = 12max_features = 6min_samples_leaf = 2min_samples_split = 2OOB score is 0.8823745118074605\n",
            "------------------------------\n",
            "n_estimators = 36max_deph = 12max_features = 8min_samples_leaf = 2min_samples_split = 2OOB score is 0.8856718714576514\n",
            "------------------------------\n",
            "n_estimators = 36max_deph = 12max_features = 10min_samples_leaf = 2min_samples_split = 2OOB score is 0.8848218938475432\n",
            "------------------------------\n",
            "n_estimators = 36max_deph = 12max_features = 12min_samples_leaf = 2min_samples_split = 2OOB score is 0.8850953398221468\n",
            "------------------------------\n",
            "n_estimators = 36max_deph = 12max_features = 14min_samples_leaf = 2min_samples_split = 2OOB score is 0.8852338125785377\n",
            "------------------------------\n",
            "n_estimators = 36max_deph = 12max_features = 16min_samples_leaf = 2min_samples_split = 2OOB score is 0.885163773629995\n",
            "------------------------------\n",
            "n_estimators = 36max_deph = 12max_features = 18min_samples_leaf = 2min_samples_split = 2OOB score is 0.8857171983308392\n",
            "------------------------------\n",
            "n_estimators = 36max_deph = 14max_features = 6min_samples_leaf = 2min_samples_split = 2OOB score is 0.8841218634786935\n",
            "------------------------------\n",
            "n_estimators = 36max_deph = 14max_features = 8min_samples_leaf = 2min_samples_split = 2OOB score is 0.8849021030888901\n",
            "------------------------------\n",
            "n_estimators = 36max_deph = 14max_features = 10min_samples_leaf = 2min_samples_split = 2OOB score is 0.8844665480039325\n",
            "------------------------------\n",
            "n_estimators = 36max_deph = 14max_features = 12min_samples_leaf = 2min_samples_split = 2OOB score is 0.8845343598489293\n",
            "------------------------------\n",
            "n_estimators = 36max_deph = 14max_features = 14min_samples_leaf = 2min_samples_split = 2OOB score is 0.8847785656671198\n",
            "------------------------------\n",
            "n_estimators = 36max_deph = 14max_features = 16min_samples_leaf = 2min_samples_split = 2OOB score is 0.8847319758321806\n",
            "------------------------------\n",
            "n_estimators = 36max_deph = 14max_features = 18min_samples_leaf = 2min_samples_split = 2OOB score is 0.8833847199454751\n",
            "------------------------------\n",
            "n_estimators = 36max_deph = 16max_features = 6min_samples_leaf = 2min_samples_split = 2OOB score is 0.8827469899030818\n",
            "------------------------------\n",
            "n_estimators = 36max_deph = 16max_features = 8min_samples_leaf = 2min_samples_split = 2OOB score is 0.8831750135791422\n",
            "------------------------------\n",
            "n_estimators = 36max_deph = 16max_features = 10min_samples_leaf = 2min_samples_split = 2OOB score is 0.8850615555995698\n",
            "------------------------------\n",
            "n_estimators = 36max_deph = 16max_features = 12min_samples_leaf = 2min_samples_split = 2OOB score is 0.8851203451495377\n",
            "------------------------------\n",
            "n_estimators = 36max_deph = 16max_features = 14min_samples_leaf = 2min_samples_split = 2OOB score is 0.8832035764194185\n",
            "------------------------------\n",
            "n_estimators = 36max_deph = 16max_features = 16min_samples_leaf = 2min_samples_split = 2OOB score is 0.883625186724299\n",
            "------------------------------\n",
            "n_estimators = 36max_deph = 16max_features = 18min_samples_leaf = 2min_samples_split = 2OOB score is 0.8836109812829215\n",
            "------------------------------\n",
            "n_estimators = 36max_deph = 18max_features = 6min_samples_leaf = 2min_samples_split = 2OOB score is 0.8817655351467943\n",
            "------------------------------\n",
            "n_estimators = 36max_deph = 18max_features = 8min_samples_leaf = 2min_samples_split = 2OOB score is 0.8834783065394091\n",
            "------------------------------\n",
            "n_estimators = 36max_deph = 18max_features = 10min_samples_leaf = 2min_samples_split = 2OOB score is 0.8837195179626879\n",
            "------------------------------\n",
            "n_estimators = 36max_deph = 18max_features = 12min_samples_leaf = 2min_samples_split = 2OOB score is 0.8841290476598521\n",
            "------------------------------\n",
            "n_estimators = 36max_deph = 18max_features = 14min_samples_leaf = 2min_samples_split = 2OOB score is 0.883326918315509\n",
            "------------------------------\n",
            "n_estimators = 36max_deph = 18max_features = 16min_samples_leaf = 2min_samples_split = 2OOB score is 0.8824999711694756\n",
            "------------------------------\n",
            "n_estimators = 36max_deph = 18max_features = 18min_samples_leaf = 2min_samples_split = 2OOB score is 0.8814788739740513\n",
            "------------------------------\n",
            "n_estimators = 38max_deph = 6max_features = 6min_samples_leaf = 2min_samples_split = 2OOB score is 0.8612542632719206\n",
            "------------------------------\n",
            "n_estimators = 38max_deph = 6max_features = 8min_samples_leaf = 2min_samples_split = 2OOB score is 0.8649995346902138\n",
            "------------------------------\n",
            "n_estimators = 38max_deph = 6max_features = 10min_samples_leaf = 2min_samples_split = 2OOB score is 0.8664174521594604\n",
            "------------------------------\n",
            "n_estimators = 38max_deph = 6max_features = 12min_samples_leaf = 2min_samples_split = 2OOB score is 0.8676962183785327\n",
            "------------------------------\n",
            "n_estimators = 38max_deph = 6max_features = 14min_samples_leaf = 2min_samples_split = 2OOB score is 0.8699028138743978\n",
            "------------------------------\n",
            "n_estimators = 38max_deph = 6max_features = 16min_samples_leaf = 2min_samples_split = 2OOB score is 0.8705164307188313\n",
            "------------------------------\n",
            "n_estimators = 38max_deph = 6max_features = 18min_samples_leaf = 2min_samples_split = 2OOB score is 0.8697113460286306\n",
            "------------------------------\n",
            "n_estimators = 38max_deph = 8max_features = 6min_samples_leaf = 2min_samples_split = 2OOB score is 0.8753062714749384\n",
            "------------------------------\n",
            "n_estimators = 38max_deph = 8max_features = 8min_samples_leaf = 2min_samples_split = 2OOB score is 0.8782967822023564\n",
            "------------------------------\n",
            "n_estimators = 38max_deph = 8max_features = 10min_samples_leaf = 2min_samples_split = 2OOB score is 0.8793911942904582\n",
            "------------------------------\n",
            "n_estimators = 38max_deph = 8max_features = 12min_samples_leaf = 2min_samples_split = 2OOB score is 0.8812887513088896\n",
            "------------------------------\n",
            "n_estimators = 38max_deph = 8max_features = 14min_samples_leaf = 2min_samples_split = 2OOB score is 0.8815709581074602\n",
            "------------------------------\n",
            "n_estimators = 38max_deph = 8max_features = 16min_samples_leaf = 2min_samples_split = 2OOB score is 0.881878338598374\n",
            "------------------------------\n",
            "n_estimators = 38max_deph = 8max_features = 18min_samples_leaf = 2min_samples_split = 2OOB score is 0.8816027158924605\n",
            "------------------------------\n",
            "n_estimators = 38max_deph = 10max_features = 6min_samples_leaf = 2min_samples_split = 2OOB score is 0.8821627965222787\n",
            "------------------------------\n",
            "n_estimators = 38max_deph = 10max_features = 8min_samples_leaf = 2min_samples_split = 2OOB score is 0.8842036743459349\n",
            "------------------------------\n",
            "n_estimators = 38max_deph = 10max_features = 10min_samples_leaf = 2min_samples_split = 2OOB score is 0.8855280830525655\n",
            "------------------------------\n",
            "n_estimators = 38max_deph = 10max_features = 12min_samples_leaf = 2min_samples_split = 2OOB score is 0.8854433789439272\n",
            "------------------------------\n",
            "n_estimators = 38max_deph = 10max_features = 14min_samples_leaf = 2min_samples_split = 2OOB score is 0.8858457240990527\n",
            "------------------------------\n",
            "n_estimators = 38max_deph = 10max_features = 16min_samples_leaf = 2min_samples_split = 2OOB score is 0.8851281936229674\n",
            "------------------------------\n",
            "n_estimators = 38max_deph = 10max_features = 18min_samples_leaf = 2min_samples_split = 2OOB score is 0.8869141720685197\n",
            "------------------------------\n",
            "n_estimators = 38max_deph = 12max_features = 6min_samples_leaf = 2min_samples_split = 2OOB score is 0.8829019516619844\n",
            "------------------------------\n",
            "n_estimators = 38max_deph = 12max_features = 8min_samples_leaf = 2min_samples_split = 2OOB score is 0.8860595339034497\n",
            "------------------------------\n",
            "n_estimators = 38max_deph = 12max_features = 10min_samples_leaf = 2min_samples_split = 2OOB score is 0.8853123628045368\n",
            "------------------------------\n",
            "n_estimators = 38max_deph = 12max_features = 12min_samples_leaf = 2min_samples_split = 2OOB score is 0.8857902315338013\n",
            "------------------------------\n",
            "n_estimators = 38max_deph = 12max_features = 14min_samples_leaf = 2min_samples_split = 2OOB score is 0.8855013751025863\n",
            "------------------------------\n",
            "n_estimators = 38max_deph = 12max_features = 16min_samples_leaf = 2min_samples_split = 2OOB score is 0.8853950656649495\n",
            "------------------------------\n",
            "n_estimators = 38max_deph = 12max_features = 18min_samples_leaf = 2min_samples_split = 2OOB score is 0.886278233759382\n",
            "------------------------------\n",
            "n_estimators = 38max_deph = 14max_features = 6min_samples_leaf = 2min_samples_split = 2OOB score is 0.8847901186955489\n",
            "------------------------------\n",
            "n_estimators = 38max_deph = 14max_features = 8min_samples_leaf = 2min_samples_split = 2OOB score is 0.885666373441205\n",
            "------------------------------\n",
            "n_estimators = 38max_deph = 14max_features = 10min_samples_leaf = 2min_samples_split = 2OOB score is 0.8847132656562949\n",
            "------------------------------\n",
            "n_estimators = 38max_deph = 14max_features = 12min_samples_leaf = 2min_samples_split = 2OOB score is 0.884673333334255\n",
            "------------------------------\n",
            "n_estimators = 38max_deph = 14max_features = 14min_samples_leaf = 2min_samples_split = 2OOB score is 0.8850537742911251\n",
            "------------------------------\n",
            "n_estimators = 38max_deph = 14max_features = 16min_samples_leaf = 2min_samples_split = 2OOB score is 0.8848324271338976\n",
            "------------------------------\n",
            "n_estimators = 38max_deph = 14max_features = 18min_samples_leaf = 2min_samples_split = 2OOB score is 0.8840015171301019\n",
            "------------------------------\n",
            "n_estimators = 38max_deph = 16max_features = 6min_samples_leaf = 2min_samples_split = 2OOB score is 0.8830010912591341\n",
            "------------------------------\n",
            "n_estimators = 38max_deph = 16max_features = 8min_samples_leaf = 2min_samples_split = 2OOB score is 0.8837238125799625\n",
            "------------------------------\n",
            "n_estimators = 38max_deph = 16max_features = 10min_samples_leaf = 2min_samples_split = 2OOB score is 0.8852532737825471\n",
            "------------------------------\n",
            "n_estimators = 38max_deph = 16max_features = 12min_samples_leaf = 2min_samples_split = 2OOB score is 0.8854689212599136\n",
            "------------------------------\n",
            "n_estimators = 38max_deph = 16max_features = 14min_samples_leaf = 2min_samples_split = 2OOB score is 0.8838050201008276\n",
            "------------------------------\n",
            "n_estimators = 38max_deph = 16max_features = 16min_samples_leaf = 2min_samples_split = 2OOB score is 0.8840749588234211\n",
            "------------------------------\n",
            "n_estimators = 38max_deph = 16max_features = 18min_samples_leaf = 2min_samples_split = 2OOB score is 0.8838653825998252\n",
            "------------------------------\n",
            "n_estimators = 38max_deph = 18max_features = 6min_samples_leaf = 2min_samples_split = 2OOB score is 0.882346152118256\n",
            "------------------------------\n",
            "n_estimators = 38max_deph = 18max_features = 8min_samples_leaf = 2min_samples_split = 2OOB score is 0.8840087048185579\n",
            "------------------------------\n",
            "n_estimators = 38max_deph = 18max_features = 10min_samples_leaf = 2min_samples_split = 2OOB score is 0.8839694516940242\n",
            "------------------------------\n",
            "n_estimators = 38max_deph = 18max_features = 12min_samples_leaf = 2min_samples_split = 2OOB score is 0.8842452345766417\n",
            "------------------------------\n",
            "n_estimators = 38max_deph = 18max_features = 14min_samples_leaf = 2min_samples_split = 2OOB score is 0.8835985836218447\n",
            "------------------------------\n",
            "n_estimators = 38max_deph = 18max_features = 16min_samples_leaf = 2min_samples_split = 2OOB score is 0.8829588969345473\n",
            "------------------------------\n",
            "n_estimators = 38max_deph = 18max_features = 18min_samples_leaf = 2min_samples_split = 2OOB score is 0.8818203528348433\n",
            "------------------------------\n"
          ],
          "name": "stdout"
        }
      ]
    },
    {
      "cell_type": "code",
      "metadata": {
        "id": "LjK4zXcn07S9",
        "colab_type": "code",
        "outputId": "3cc97682-3d0e-4098-a54b-f97712dbde5e",
        "colab": {
          "base_uri": "https://localhost:8080/",
          "height": 254
        }
      },
      "source": [
        "RForestF = RandomForestClassifier(n_estimators=8,max_depth=9,max_features=10,min_samples_leaf=1,min_samples_split=2,oob_score=True,random_state=0,class_weight=\"balanced\").fit(X_train3, y_train3)#Se ejecuta el entrenamiento del modelo, basado en los parámetros óptimos encontrados\n",
        "RFscoreF = RForestF.score(X_test3, y_test3)\n",
        "print ('Random Forest Accuracy Scaled (Custom Parameters): {}'.format(RFscoreF))\n",
        "print ('Random Forest Oob Score Scaled (Custom Parameters): {}'.format(RForestF.oob_score_))\n",
        "y_pred =RForestF.predict(X_test)\n",
        "print(classification_report(y_test3, y_pred))"
      ],
      "execution_count": 0,
      "outputs": [
        {
          "output_type": "stream",
          "text": [
            "Random Forest Accuracy Scaled (Custom Parameters): 0.8697700193959546\n",
            "Random Forest Oob Score Scaled (Custom Parameters): 0.8768015521064302\n",
            "              precision    recall  f1-score   support\n",
            "\n",
            "           1       1.00      1.00      1.00       405\n",
            "           2       0.91      0.91      0.91      1139\n",
            "           3       0.81      0.87      0.84      1376\n",
            "           4       0.85      0.72      0.78       689\n",
            "\n",
            "    accuracy                           0.87      3609\n",
            "   macro avg       0.89      0.88      0.88      3609\n",
            "weighted avg       0.87      0.87      0.87      3609\n",
            "\n"
          ],
          "name": "stdout"
        }
      ]
    },
    {
      "cell_type": "code",
      "metadata": {
        "id": "kzLoD6unVtYU",
        "colab_type": "code",
        "outputId": "0a5db616-86f9-4ea5-8127-815763045c4c",
        "colab": {
          "base_uri": "https://localhost:8080/",
          "height": 217
        }
      },
      "source": [
        "y_pred =RandomForestClassifier(random_state=0).fit(X_train_scaled, y_train).predict(X_test_scaled)\n",
        "matriz_conf_Prueba = confusion_matrix(y_test,y_pred)\n",
        "print(classification_report(y_test, y_pred))"
      ],
      "execution_count": 0,
      "outputs": [
        {
          "output_type": "stream",
          "text": [
            "              precision    recall  f1-score   support\n",
            "\n",
            "           1       1.00      1.00      1.00       405\n",
            "           2       0.92      0.93      0.92      1139\n",
            "           3       0.82      0.87      0.85      1376\n",
            "           4       0.86      0.74      0.79       689\n",
            "\n",
            "    accuracy                           0.88      3609\n",
            "   macro avg       0.90      0.88      0.89      3609\n",
            "weighted avg       0.88      0.88      0.88      3609\n",
            "\n"
          ],
          "name": "stdout"
        }
      ]
    },
    {
      "cell_type": "code",
      "metadata": {
        "id": "P3DCR1zG03oU",
        "colab_type": "code",
        "outputId": "34ab8c71-1a4c-4c17-e4b9-f2532f637516",
        "colab": {
          "base_uri": "https://localhost:8080/",
          "height": 611
        }
      },
      "source": [
        "# A continuación se ejecuta función para graficar la matriz de confusion del modelo construido\n",
        "import seaborn as sns\n",
        "from sklearn.metrics import confusion_matrix\n",
        "\n",
        "def plot_cm(y_true, y_pred, figsize=(10,10)):\n",
        "    cm = confusion_matrix(y_true, y_pred, labels=np.unique(y_true))\n",
        "    cm_sum = np.sum(cm, axis=1, keepdims=True)\n",
        "    cm_perc = cm / cm_sum.astype(float) * 100\n",
        "    annot = np.empty_like(cm).astype(str)\n",
        "    nrows, ncols = cm.shape\n",
        "    for i in range(nrows):\n",
        "        for j in range(ncols):\n",
        "            c = cm[i, j]\n",
        "            p = cm_perc[i, j]\n",
        "            if i == j:\n",
        "                s = cm_sum[i]\n",
        "                annot[i, j] = '%.1f%%\\n%d/%d' % (p, c, s)\n",
        "            elif c == 0:\n",
        "                annot[i, j] = ''\n",
        "            else:\n",
        "                annot[i, j] = '%.1f%%\\n%d' % (p, c)\n",
        "    cm = pd.DataFrame(cm, index=np.unique(y_true), columns=np.unique(y_true))\n",
        "    cm.index.name = 'Actual'\n",
        "    cm.columns.name = 'Predicted'\n",
        "    fig, ax = plt.subplots(figsize=figsize)\n",
        "    sns.heatmap(cm, cmap= \"YlGnBu\", annot=annot, fmt='', ax=ax)\n",
        "    \n",
        "plot_cm(y_test3, y_pred)"
      ],
      "execution_count": 0,
      "outputs": [
        {
          "output_type": "display_data",
          "data": {
            "image/png": "[encoded data removed]",
            "text/plain": [
              "<Figure size 720x720 with 2 Axes>"
            ]
          },
          "metadata": {
            "tags": []
          }
        }
      ]
    },
    {
      "cell_type": "code",
      "metadata": {
        "id": "PIWC204bhLn1",
        "colab_type": "code",
        "outputId": "ecaad45b-80b3-44b1-f690-8fd69915a2b5",
        "colab": {
          "base_uri": "https://localhost:8080/",
          "height": 244
        }
      },
      "source": [
        "#Finalmente se grafica las proporciones de cada una de las posiciones para validar la proporcion de cada una de las clases\n",
        "by_pos = dfReg.groupby(dfReg['Position']).count().Crossing\n",
        "by_pos.plot(kind='pie',figsize=(7,7), colors=['lime','red','blue','orange','gray'], labels=None, autopct='%1.1f%%', fontsize=16)\n",
        "plt.legend(labels=dfReg['Position'].unique())\n",
        "plt.title('Positions', fontsize=16)\n",
        "plt.ylabel('')"
      ],
      "execution_count": 0,
      "outputs": [
        {
          "output_type": "error",
          "ename": "NameError",
          "evalue": "ignored",
          "traceback": [
            "\u001b[0;31m---------------------------------------------------------------------------\u001b[0m",
            "\u001b[0;31mNameError\u001b[0m                                 Traceback (most recent call last)",
            "\u001b[0;32m<ipython-input-170-9c5efeaefcbf>\u001b[0m in \u001b[0;36m<module>\u001b[0;34m()\u001b[0m\n\u001b[0;32m----> 1\u001b[0;31m \u001b[0mby_pos\u001b[0m \u001b[0;34m=\u001b[0m \u001b[0mdfReg\u001b[0m\u001b[0;34m.\u001b[0m\u001b[0mgroupby\u001b[0m\u001b[0;34m(\u001b[0m\u001b[0mdfReg\u001b[0m\u001b[0;34m[\u001b[0m\u001b[0;34m'Position'\u001b[0m\u001b[0;34m]\u001b[0m\u001b[0;34m)\u001b[0m\u001b[0;34m.\u001b[0m\u001b[0mcount\u001b[0m\u001b[0;34m(\u001b[0m\u001b[0;34m)\u001b[0m\u001b[0;34m.\u001b[0m\u001b[0mCrossing\u001b[0m\u001b[0;34m\u001b[0m\u001b[0;34m\u001b[0m\u001b[0m\n\u001b[0m\u001b[1;32m      2\u001b[0m \u001b[0mby_pos\u001b[0m\u001b[0;34m.\u001b[0m\u001b[0mplot\u001b[0m\u001b[0;34m(\u001b[0m\u001b[0mfigsize\u001b[0m\u001b[0;34m=\u001b[0m\u001b[0;34m(\u001b[0m\u001b[0;36m7\u001b[0m\u001b[0;34m,\u001b[0m\u001b[0;36m7\u001b[0m\u001b[0;34m)\u001b[0m\u001b[0;34m,\u001b[0m \u001b[0mcolors\u001b[0m\u001b[0;34m=\u001b[0m\u001b[0;34m[\u001b[0m\u001b[0;34m'lime'\u001b[0m\u001b[0;34m,\u001b[0m\u001b[0;34m'red'\u001b[0m\u001b[0;34m,\u001b[0m\u001b[0;34m'blue'\u001b[0m\u001b[0;34m,\u001b[0m\u001b[0;34m'orange'\u001b[0m\u001b[0;34m,\u001b[0m\u001b[0;34m'gray'\u001b[0m\u001b[0;34m]\u001b[0m\u001b[0;34m,\u001b[0m \u001b[0mlabels\u001b[0m\u001b[0;34m=\u001b[0m\u001b[0;32mNone\u001b[0m\u001b[0;34m,\u001b[0m \u001b[0mautopct\u001b[0m\u001b[0;34m=\u001b[0m\u001b[0;34m'%1.1f%%'\u001b[0m\u001b[0;34m,\u001b[0m \u001b[0mfontsize\u001b[0m\u001b[0;34m=\u001b[0m\u001b[0;36m16\u001b[0m\u001b[0;34m)\u001b[0m\u001b[0;34m\u001b[0m\u001b[0;34m\u001b[0m\u001b[0m\n\u001b[1;32m      3\u001b[0m \u001b[0mplt\u001b[0m\u001b[0;34m.\u001b[0m\u001b[0mlegend\u001b[0m\u001b[0;34m(\u001b[0m\u001b[0mlabels\u001b[0m\u001b[0;34m=\u001b[0m\u001b[0mdfReg\u001b[0m\u001b[0;34m[\u001b[0m\u001b[0;34m'Position'\u001b[0m\u001b[0;34m]\u001b[0m\u001b[0;34m.\u001b[0m\u001b[0munique\u001b[0m\u001b[0;34m(\u001b[0m\u001b[0;34m)\u001b[0m\u001b[0;34m)\u001b[0m\u001b[0;34m\u001b[0m\u001b[0;34m\u001b[0m\u001b[0m\n\u001b[1;32m      4\u001b[0m \u001b[0mplt\u001b[0m\u001b[0;34m.\u001b[0m\u001b[0mtitle\u001b[0m\u001b[0;34m(\u001b[0m\u001b[0;34m'Positions'\u001b[0m\u001b[0;34m,\u001b[0m \u001b[0mfontsize\u001b[0m\u001b[0;34m=\u001b[0m\u001b[0;36m16\u001b[0m\u001b[0;34m)\u001b[0m\u001b[0;34m\u001b[0m\u001b[0;34m\u001b[0m\u001b[0m\n\u001b[1;32m      5\u001b[0m \u001b[0mplt\u001b[0m\u001b[0;34m.\u001b[0m\u001b[0mylabel\u001b[0m\u001b[0;34m(\u001b[0m\u001b[0;34m''\u001b[0m\u001b[0;34m)\u001b[0m\u001b[0;34m\u001b[0m\u001b[0;34m\u001b[0m\u001b[0m\n",
            "\u001b[0;31mNameError\u001b[0m: name 'dfReg' is not defined"
          ]
        }
      ]
    },
    {
      "cell_type": "markdown",
      "metadata": {
        "id": "GPVIVfUCelIH",
        "colab_type": "text"
      },
      "source": [
        "#ANÁLISIS DE CARACTERÍSTICAS PRINCIPALES OVERALL"
      ]
    },
    {
      "cell_type": "code",
      "metadata": {
        "id": "AP1XZE3WNKNY",
        "colab_type": "code",
        "colab": {}
      },
      "source": [
        "#El siguiente análisis no hace parte del alcance del trabajo, sin embargo se llevó a cabo para comparar los resultados con el trabajo 1 de selección de características"
      ],
      "execution_count": 0,
      "outputs": []
    },
    {
      "cell_type": "code",
      "metadata": {
        "colab_type": "code",
        "id": "7B2nGerXehTL",
        "colab": {}
      },
      "source": [
        "#Primero se establecen las variables a utilizar en el modelo de regresión de Random Forest.\n",
        "columns_needed_rearranged2 = ['Aggression','Crossing', 'Curve', 'Dribbling', 'Finishing',\n",
        "       'FKAccuracy', 'HeadingAccuracy', 'LongShots','Penalties', 'ShotPower', 'Volleys', \n",
        "       'ShortPassing', 'LongPassing',\n",
        "       'Interceptions', 'Marking', 'SlidingTackle', 'StandingTackle',\n",
        "       'Strength', 'Vision', 'Acceleration', 'Agility', \n",
        "       'Reactions', 'Stamina', 'Balance', 'BallControl','Composure','Jumping', \n",
        "       'SprintSpeed','Position','Overall']\n",
        "dfRegresion = df[columns_needed_rearranged2]\n",
        "dfRegresion.head()"
      ],
      "execution_count": 0,
      "outputs": []
    },
    {
      "cell_type": "code",
      "metadata": {
        "colab_type": "code",
        "id": "eeZYqrdvegEv",
        "colab": {}
      },
      "source": [
        "# A continuación se ejecuta una funcion para cambiar los nombres de las posiciones por variables numéricas\n",
        "def label_pos_Regresion (row):\n",
        "    \n",
        "    if(row.Position == \"RB\" or row.Position == \"CB\" or row.Position == \"LB\" or \n",
        "       row.Position == \"LWB\" or row.Position == \"RCB\"or row.Position == \"RWB\" or \n",
        "       row.Position == \"LCB\"):\n",
        "        return 1\n",
        "    if(row.Position == \"RW\" or row.Position == \"CF\" or row.Position == \"LW\" or \n",
        "       row.Position == \"ST\" or row.Position == \"RS\"or row.Position == \"LS\"\n",
        "       or row.Position == \"LF\"or row.Position == \"RF\"):\n",
        "        return 2\n",
        "    if(row.Position == \"RM\" or row.Position == \"CM\" or row.Position == \"LM\"\n",
        "       or row.Position == \"CAM\" or row.Position == \"LDM\" or row.Position == \"RDM\"\n",
        "      or row.Position == \"LAM\"or row.Position == \"RAM\" or row.Position == \"CDM\"\n",
        "       or row.Position == \"RCM\"or row.Position == \"LCM\"):\n",
        "        return 3\n",
        "    \n",
        "    \n",
        "\n",
        "dfRegresion['Position'] = dfRegresion.apply (lambda row: label_pos_Regresion(row),axis=1)\n",
        "dfRegresion = dfRegresion.dropna()"
      ],
      "execution_count": 0,
      "outputs": []
    },
    {
      "cell_type": "code",
      "metadata": {
        "id": "urc5N4WRegPZ",
        "colab_type": "code",
        "outputId": "a3e5c73f-a4d9-4137-e2ea-e216fabf92ca",
        "colab": {
          "base_uri": "https://localhost:8080/",
          "height": 50
        }
      },
      "source": [
        "# A continuación se establecen los datos de entrenamiento y testeo\n",
        "X_train_num_R, X_test_num_R, y_train_num_R, y_test_num_R = train_test_split(dfRegresion.iloc[:,:-1], dfRegresion.iloc[:,-1], test_size=0.2, random_state=0)\n",
        "# Se normalizan los datos\n",
        "from sklearn import preprocessing\n",
        "X_train_scaled_num_R = preprocessing.scale(X_train_num_R)\n",
        "X_test_scaled_num_R = preprocessing.scale(X_test_num_R)\n",
        "# Se ejecuta el modelo de regresión\n",
        "RForestR = RandomForestRegressor(random_state=0,max_depth=10,n_estimators=150,max_features='sqrt',oob_score=True ).fit(X_train_scaled_num_R, y_train_num_R)\n",
        "RFscoreR = RForestR.score(X_test_scaled_num_R, y_test_num_R)\n",
        "print ('Random Forest Accuracy Scaled (Custom Parameters): {}'.format(RFscoreR))\n",
        "print ('Random Forest Oob Score Scaled (Custom Parameters): {}'.format(RForestR.oob_score_))"
      ],
      "execution_count": 0,
      "outputs": [
        {
          "output_type": "stream",
          "text": [
            "Random Forest Accuracy Scaled (Custom Parameters): 0.9598206007273877\n",
            "Random Forest Oob Score Scaled (Custom Parameters): 0.9581702251496501\n"
          ],
          "name": "stdout"
        }
      ]
    },
    {
      "cell_type": "code",
      "metadata": {
        "id": "DDEiBHk1CZP-",
        "colab_type": "code",
        "outputId": "ee0ef466-1925-49f4-dd1e-2f38425d556a",
        "colab": {
          "base_uri": "https://localhost:8080/",
          "height": 217
        }
      },
      "source": [
        "dfRegresion.head()"
      ],
      "execution_count": 0,
      "outputs": [
        {
          "output_type": "execute_result",
          "data": {
            "text/html": [
              "<div>\n",
              "<style scoped>\n",
              "    .dataframe tbody tr th:only-of-type {\n",
              "        vertical-align: middle;\n",
              "    }\n",
              "\n",
              "    .dataframe tbody tr th {\n",
              "        vertical-align: top;\n",
              "    }\n",
              "\n",
              "    .dataframe thead th {\n",
              "        text-align: right;\n",
              "    }\n",
              "</style>\n",
              "<table border=\"1\" class=\"dataframe\">\n",
              "  <thead>\n",
              "    <tr style=\"text-align: right;\">\n",
              "      <th></th>\n",
              "      <th>Aggression</th>\n",
              "      <th>Crossing</th>\n",
              "      <th>Curve</th>\n",
              "      <th>Dribbling</th>\n",
              "      <th>Finishing</th>\n",
              "      <th>FKAccuracy</th>\n",
              "      <th>HeadingAccuracy</th>\n",
              "      <th>LongShots</th>\n",
              "      <th>Penalties</th>\n",
              "      <th>ShotPower</th>\n",
              "      <th>Volleys</th>\n",
              "      <th>ShortPassing</th>\n",
              "      <th>LongPassing</th>\n",
              "      <th>Interceptions</th>\n",
              "      <th>Marking</th>\n",
              "      <th>SlidingTackle</th>\n",
              "      <th>StandingTackle</th>\n",
              "      <th>Strength</th>\n",
              "      <th>Vision</th>\n",
              "      <th>Acceleration</th>\n",
              "      <th>Agility</th>\n",
              "      <th>Reactions</th>\n",
              "      <th>Stamina</th>\n",
              "      <th>Balance</th>\n",
              "      <th>BallControl</th>\n",
              "      <th>Composure</th>\n",
              "      <th>Jumping</th>\n",
              "      <th>SprintSpeed</th>\n",
              "      <th>Position</th>\n",
              "      <th>Overall</th>\n",
              "    </tr>\n",
              "  </thead>\n",
              "  <tbody>\n",
              "    <tr>\n",
              "      <th>0</th>\n",
              "      <td>48.0</td>\n",
              "      <td>84.0</td>\n",
              "      <td>93.0</td>\n",
              "      <td>97.0</td>\n",
              "      <td>95.0</td>\n",
              "      <td>94.0</td>\n",
              "      <td>70.0</td>\n",
              "      <td>94.0</td>\n",
              "      <td>75.0</td>\n",
              "      <td>85.0</td>\n",
              "      <td>86.0</td>\n",
              "      <td>90.0</td>\n",
              "      <td>87.0</td>\n",
              "      <td>22.0</td>\n",
              "      <td>33.0</td>\n",
              "      <td>26.0</td>\n",
              "      <td>28.0</td>\n",
              "      <td>59.0</td>\n",
              "      <td>94.0</td>\n",
              "      <td>91.0</td>\n",
              "      <td>91.0</td>\n",
              "      <td>95.0</td>\n",
              "      <td>72.0</td>\n",
              "      <td>95.0</td>\n",
              "      <td>96.0</td>\n",
              "      <td>96.0</td>\n",
              "      <td>68.0</td>\n",
              "      <td>86.0</td>\n",
              "      <td>2</td>\n",
              "      <td>94</td>\n",
              "    </tr>\n",
              "    <tr>\n",
              "      <th>1</th>\n",
              "      <td>63.0</td>\n",
              "      <td>84.0</td>\n",
              "      <td>81.0</td>\n",
              "      <td>88.0</td>\n",
              "      <td>94.0</td>\n",
              "      <td>76.0</td>\n",
              "      <td>89.0</td>\n",
              "      <td>93.0</td>\n",
              "      <td>85.0</td>\n",
              "      <td>95.0</td>\n",
              "      <td>87.0</td>\n",
              "      <td>81.0</td>\n",
              "      <td>77.0</td>\n",
              "      <td>29.0</td>\n",
              "      <td>28.0</td>\n",
              "      <td>23.0</td>\n",
              "      <td>31.0</td>\n",
              "      <td>79.0</td>\n",
              "      <td>82.0</td>\n",
              "      <td>89.0</td>\n",
              "      <td>87.0</td>\n",
              "      <td>96.0</td>\n",
              "      <td>88.0</td>\n",
              "      <td>70.0</td>\n",
              "      <td>94.0</td>\n",
              "      <td>95.0</td>\n",
              "      <td>95.0</td>\n",
              "      <td>91.0</td>\n",
              "      <td>2</td>\n",
              "      <td>94</td>\n",
              "    </tr>\n",
              "    <tr>\n",
              "      <th>2</th>\n",
              "      <td>56.0</td>\n",
              "      <td>79.0</td>\n",
              "      <td>88.0</td>\n",
              "      <td>96.0</td>\n",
              "      <td>87.0</td>\n",
              "      <td>87.0</td>\n",
              "      <td>62.0</td>\n",
              "      <td>82.0</td>\n",
              "      <td>81.0</td>\n",
              "      <td>80.0</td>\n",
              "      <td>84.0</td>\n",
              "      <td>84.0</td>\n",
              "      <td>78.0</td>\n",
              "      <td>36.0</td>\n",
              "      <td>27.0</td>\n",
              "      <td>33.0</td>\n",
              "      <td>24.0</td>\n",
              "      <td>49.0</td>\n",
              "      <td>87.0</td>\n",
              "      <td>94.0</td>\n",
              "      <td>96.0</td>\n",
              "      <td>94.0</td>\n",
              "      <td>81.0</td>\n",
              "      <td>84.0</td>\n",
              "      <td>95.0</td>\n",
              "      <td>94.0</td>\n",
              "      <td>61.0</td>\n",
              "      <td>90.0</td>\n",
              "      <td>2</td>\n",
              "      <td>92</td>\n",
              "    </tr>\n",
              "    <tr>\n",
              "      <th>4</th>\n",
              "      <td>76.0</td>\n",
              "      <td>93.0</td>\n",
              "      <td>85.0</td>\n",
              "      <td>86.0</td>\n",
              "      <td>82.0</td>\n",
              "      <td>83.0</td>\n",
              "      <td>55.0</td>\n",
              "      <td>91.0</td>\n",
              "      <td>79.0</td>\n",
              "      <td>91.0</td>\n",
              "      <td>82.0</td>\n",
              "      <td>92.0</td>\n",
              "      <td>91.0</td>\n",
              "      <td>61.0</td>\n",
              "      <td>68.0</td>\n",
              "      <td>51.0</td>\n",
              "      <td>58.0</td>\n",
              "      <td>75.0</td>\n",
              "      <td>94.0</td>\n",
              "      <td>78.0</td>\n",
              "      <td>79.0</td>\n",
              "      <td>91.0</td>\n",
              "      <td>90.0</td>\n",
              "      <td>77.0</td>\n",
              "      <td>91.0</td>\n",
              "      <td>88.0</td>\n",
              "      <td>63.0</td>\n",
              "      <td>76.0</td>\n",
              "      <td>3</td>\n",
              "      <td>91</td>\n",
              "    </tr>\n",
              "    <tr>\n",
              "      <th>5</th>\n",
              "      <td>54.0</td>\n",
              "      <td>81.0</td>\n",
              "      <td>83.0</td>\n",
              "      <td>95.0</td>\n",
              "      <td>84.0</td>\n",
              "      <td>79.0</td>\n",
              "      <td>61.0</td>\n",
              "      <td>80.0</td>\n",
              "      <td>86.0</td>\n",
              "      <td>82.0</td>\n",
              "      <td>80.0</td>\n",
              "      <td>89.0</td>\n",
              "      <td>83.0</td>\n",
              "      <td>41.0</td>\n",
              "      <td>34.0</td>\n",
              "      <td>22.0</td>\n",
              "      <td>27.0</td>\n",
              "      <td>66.0</td>\n",
              "      <td>89.0</td>\n",
              "      <td>94.0</td>\n",
              "      <td>95.0</td>\n",
              "      <td>90.0</td>\n",
              "      <td>83.0</td>\n",
              "      <td>94.0</td>\n",
              "      <td>94.0</td>\n",
              "      <td>91.0</td>\n",
              "      <td>56.0</td>\n",
              "      <td>88.0</td>\n",
              "      <td>2</td>\n",
              "      <td>91</td>\n",
              "    </tr>\n",
              "  </tbody>\n",
              "</table>\n",
              "</div>"
            ],
            "text/plain": [
              "   Aggression  Crossing  Curve  ...  SprintSpeed  Position  Overall\n",
              "0        48.0      84.0   93.0  ...         86.0         2       94\n",
              "1        63.0      84.0   81.0  ...         91.0         2       94\n",
              "2        56.0      79.0   88.0  ...         90.0         2       92\n",
              "4        76.0      93.0   85.0  ...         76.0         3       91\n",
              "5        54.0      81.0   83.0  ...         88.0         2       91\n",
              "\n",
              "[5 rows x 30 columns]"
            ]
          },
          "metadata": {
            "tags": []
          },
          "execution_count": 52
        }
      ]
    },
    {
      "cell_type": "code",
      "metadata": {
        "id": "HOzF1cQ08RPd",
        "colab_type": "code",
        "outputId": "112c9359-fe97-44eb-b8fd-366f2ad88bad",
        "colab": {
          "base_uri": "https://localhost:8080/",
          "height": 517
        }
      },
      "source": [
        "#Visualización de las principales variables que afectan el Overall\n",
        "imp_feat.sort_values(ascending=False)"
      ],
      "execution_count": 0,
      "outputs": [
        {
          "output_type": "execute_result",
          "data": {
            "text/plain": [
              "Reactions          0.196604\n",
              "Composure          0.127623\n",
              "BallControl        0.120074\n",
              "ShortPassing       0.088873\n",
              "Dribbling          0.052040\n",
              "Interceptions      0.050604\n",
              "StandingTackle     0.048931\n",
              "ShotPower          0.040399\n",
              "Marking            0.034367\n",
              "SlidingTackle      0.031658\n",
              "LongShots          0.029991\n",
              "HeadingAccuracy    0.028369\n",
              "Crossing           0.026052\n",
              "Vision             0.025107\n",
              "LongPassing        0.016598\n",
              "Finishing          0.016572\n",
              "Aggression         0.011478\n",
              "Strength           0.010676\n",
              "Stamina            0.010456\n",
              "Volleys            0.009517\n",
              "Curve              0.006856\n",
              "SprintSpeed        0.004077\n",
              "Acceleration       0.003478\n",
              "Jumping            0.002396\n",
              "Penalties          0.001967\n",
              "Agility            0.001690\n",
              "Position           0.001665\n",
              "Balance            0.001006\n",
              "FKAccuracy         0.000875\n",
              "dtype: float64"
            ]
          },
          "metadata": {
            "tags": []
          },
          "execution_count": 53
        }
      ]
    }
  ]
}